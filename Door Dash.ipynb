{
 "cells": [
  {
   "cell_type": "markdown",
   "metadata": {},
   "source": [
    "## In this project, I will be explaining about the data, preprocessing steps, data cleaning,feature engineering,feature selection and modelling to predict the expected time for delivery"
   ]
  },
  {
   "cell_type": "code",
   "execution_count": 1,
   "metadata": {},
   "outputs": [],
   "source": [
    "#import basic libraries\n",
    "import os\n",
    "import sys\n",
    "import pandas as pd\n",
    "import numpy as np\n",
    "import operator\n",
    "import time\n",
    "from datetime import datetime\n",
    "import seaborn as sns\n",
    "import matplotlib.pyplot as plt\n",
    "%matplotlib inline\n",
    "import scipy.stats\n",
    "from joblib import dump,load\n",
    "import json"
   ]
  },
  {
   "cell_type": "code",
   "execution_count": 2,
   "metadata": {},
   "outputs": [
    {
     "name": "stderr",
     "output_type": "stream",
     "text": [
      "/Users/srivatsanramesh/anaconda3/lib/python3.6/site-packages/sklearn/ensemble/weight_boosting.py:29: DeprecationWarning: numpy.core.umath_tests is an internal NumPy module and should not be imported. It will be removed in a future NumPy release.\n",
      "  from numpy.core.umath_tests import inner1d\n"
     ]
    }
   ],
   "source": [
    "#import statistical and ML models\n",
    "from sklearn.linear_model import LinearRegression\n",
    "from sklearn.linear_model import Lasso\n",
    "from sklearn.linear_model import ElasticNet\n",
    "from sklearn.tree import DecisionTreeRegressor\n",
    "from sklearn.neighbors import KNeighborsRegressor\n",
    "from sklearn.ensemble import GradientBoostingRegressor\n",
    "from sklearn.model_selection import train_test_split\n",
    "from sklearn.model_selection import cross_val_score\n",
    "from sklearn.model_selection import GridSearchCV\n",
    "from sklearn.preprocessing import MinMaxScaler\n",
    "from sklearn.preprocessing import StandardScaler\n",
    "from sklearn.metrics import mean_squared_error, mean_absolute_error, median_absolute_error\n",
    "import scipy\n",
    "from sklearn.feature_selection import RFE, f_regression\n",
    "from sklearn.linear_model import (LinearRegression, Ridge, Lasso, RandomizedLasso)\n",
    "from sklearn.preprocessing import MinMaxScaler\n",
    "from sklearn.ensemble import RandomForestRegressor\n",
    "from sklearn.preprocessing import OneHotEncoder\n",
    "from sklearn.preprocessing import LabelBinarizer\n",
    "import statsmodels.formula.api as smf\n",
    "import statsmodels.stats.multicomp as multi\n",
    "from sklearn.model_selection import KFold"
   ]
  },
  {
   "cell_type": "code",
   "execution_count": 3,
   "metadata": {},
   "outputs": [],
   "source": [
    "# import model metrics\n",
    "from sklearn import ensemble\n",
    "from sklearn import datasets\n",
    "from sklearn.utils import shuffle\n",
    "from sklearn.metrics import mean_squared_error"
   ]
  },
  {
   "cell_type": "code",
   "execution_count": 4,
   "metadata": {},
   "outputs": [],
   "source": [
    "PATH = os.path.join(os.getcwd(),'Desktop','Data Science Project')"
   ]
  },
  {
   "cell_type": "code",
   "execution_count": 5,
   "metadata": {},
   "outputs": [],
   "source": [
    "data = pd.read_csv(os.path.join(PATH,'historical_data.csv'))"
   ]
  },
  {
   "cell_type": "code",
   "execution_count": 6,
   "metadata": {},
   "outputs": [
    {
     "data": {
      "text/html": [
       "<div>\n",
       "<style scoped>\n",
       "    .dataframe tbody tr th:only-of-type {\n",
       "        vertical-align: middle;\n",
       "    }\n",
       "\n",
       "    .dataframe tbody tr th {\n",
       "        vertical-align: top;\n",
       "    }\n",
       "\n",
       "    .dataframe thead th {\n",
       "        text-align: right;\n",
       "    }\n",
       "</style>\n",
       "<table border=\"1\" class=\"dataframe\">\n",
       "  <thead>\n",
       "    <tr style=\"text-align: right;\">\n",
       "      <th></th>\n",
       "      <th>market_id</th>\n",
       "      <th>created_at</th>\n",
       "      <th>actual_delivery_time</th>\n",
       "      <th>store_id</th>\n",
       "      <th>store_primary_category</th>\n",
       "      <th>order_protocol</th>\n",
       "      <th>total_items</th>\n",
       "      <th>subtotal</th>\n",
       "      <th>num_distinct_items</th>\n",
       "      <th>min_item_price</th>\n",
       "      <th>max_item_price</th>\n",
       "      <th>total_onshift_dashers</th>\n",
       "      <th>total_busy_dashers</th>\n",
       "      <th>total_outstanding_orders</th>\n",
       "      <th>estimated_order_place_duration</th>\n",
       "      <th>estimated_store_to_consumer_driving_duration</th>\n",
       "    </tr>\n",
       "  </thead>\n",
       "  <tbody>\n",
       "    <tr>\n",
       "      <th>0</th>\n",
       "      <td>1.0</td>\n",
       "      <td>2015-02-06 22:24:17</td>\n",
       "      <td>2015-02-06 23:27:16</td>\n",
       "      <td>1845</td>\n",
       "      <td>american</td>\n",
       "      <td>1.0</td>\n",
       "      <td>4</td>\n",
       "      <td>3441</td>\n",
       "      <td>4</td>\n",
       "      <td>557</td>\n",
       "      <td>1239</td>\n",
       "      <td>33.0</td>\n",
       "      <td>14.0</td>\n",
       "      <td>21.0</td>\n",
       "      <td>446</td>\n",
       "      <td>861.0</td>\n",
       "    </tr>\n",
       "    <tr>\n",
       "      <th>1</th>\n",
       "      <td>2.0</td>\n",
       "      <td>2015-02-10 21:49:25</td>\n",
       "      <td>2015-02-10 22:56:29</td>\n",
       "      <td>5477</td>\n",
       "      <td>mexican</td>\n",
       "      <td>2.0</td>\n",
       "      <td>1</td>\n",
       "      <td>1900</td>\n",
       "      <td>1</td>\n",
       "      <td>1400</td>\n",
       "      <td>1400</td>\n",
       "      <td>1.0</td>\n",
       "      <td>2.0</td>\n",
       "      <td>2.0</td>\n",
       "      <td>446</td>\n",
       "      <td>690.0</td>\n",
       "    </tr>\n",
       "    <tr>\n",
       "      <th>2</th>\n",
       "      <td>3.0</td>\n",
       "      <td>2015-01-22 20:39:28</td>\n",
       "      <td>2015-01-22 21:09:09</td>\n",
       "      <td>5477</td>\n",
       "      <td>NaN</td>\n",
       "      <td>1.0</td>\n",
       "      <td>1</td>\n",
       "      <td>1900</td>\n",
       "      <td>1</td>\n",
       "      <td>1900</td>\n",
       "      <td>1900</td>\n",
       "      <td>1.0</td>\n",
       "      <td>0.0</td>\n",
       "      <td>0.0</td>\n",
       "      <td>446</td>\n",
       "      <td>690.0</td>\n",
       "    </tr>\n",
       "    <tr>\n",
       "      <th>3</th>\n",
       "      <td>3.0</td>\n",
       "      <td>2015-02-03 21:21:45</td>\n",
       "      <td>2015-02-03 22:13:00</td>\n",
       "      <td>5477</td>\n",
       "      <td>NaN</td>\n",
       "      <td>1.0</td>\n",
       "      <td>6</td>\n",
       "      <td>6900</td>\n",
       "      <td>5</td>\n",
       "      <td>600</td>\n",
       "      <td>1800</td>\n",
       "      <td>1.0</td>\n",
       "      <td>1.0</td>\n",
       "      <td>2.0</td>\n",
       "      <td>446</td>\n",
       "      <td>289.0</td>\n",
       "    </tr>\n",
       "    <tr>\n",
       "      <th>4</th>\n",
       "      <td>3.0</td>\n",
       "      <td>2015-02-15 02:40:36</td>\n",
       "      <td>2015-02-15 03:20:26</td>\n",
       "      <td>5477</td>\n",
       "      <td>NaN</td>\n",
       "      <td>1.0</td>\n",
       "      <td>3</td>\n",
       "      <td>3900</td>\n",
       "      <td>3</td>\n",
       "      <td>1100</td>\n",
       "      <td>1600</td>\n",
       "      <td>6.0</td>\n",
       "      <td>6.0</td>\n",
       "      <td>9.0</td>\n",
       "      <td>446</td>\n",
       "      <td>650.0</td>\n",
       "    </tr>\n",
       "  </tbody>\n",
       "</table>\n",
       "</div>"
      ],
      "text/plain": [
       "   market_id           created_at actual_delivery_time  store_id  \\\n",
       "0        1.0  2015-02-06 22:24:17  2015-02-06 23:27:16      1845   \n",
       "1        2.0  2015-02-10 21:49:25  2015-02-10 22:56:29      5477   \n",
       "2        3.0  2015-01-22 20:39:28  2015-01-22 21:09:09      5477   \n",
       "3        3.0  2015-02-03 21:21:45  2015-02-03 22:13:00      5477   \n",
       "4        3.0  2015-02-15 02:40:36  2015-02-15 03:20:26      5477   \n",
       "\n",
       "  store_primary_category  order_protocol  total_items  subtotal  \\\n",
       "0               american             1.0            4      3441   \n",
       "1                mexican             2.0            1      1900   \n",
       "2                    NaN             1.0            1      1900   \n",
       "3                    NaN             1.0            6      6900   \n",
       "4                    NaN             1.0            3      3900   \n",
       "\n",
       "   num_distinct_items  min_item_price  max_item_price  total_onshift_dashers  \\\n",
       "0                   4             557            1239                   33.0   \n",
       "1                   1            1400            1400                    1.0   \n",
       "2                   1            1900            1900                    1.0   \n",
       "3                   5             600            1800                    1.0   \n",
       "4                   3            1100            1600                    6.0   \n",
       "\n",
       "   total_busy_dashers  total_outstanding_orders  \\\n",
       "0                14.0                      21.0   \n",
       "1                 2.0                       2.0   \n",
       "2                 0.0                       0.0   \n",
       "3                 1.0                       2.0   \n",
       "4                 6.0                       9.0   \n",
       "\n",
       "   estimated_order_place_duration  \\\n",
       "0                             446   \n",
       "1                             446   \n",
       "2                             446   \n",
       "3                             446   \n",
       "4                             446   \n",
       "\n",
       "   estimated_store_to_consumer_driving_duration  \n",
       "0                                         861.0  \n",
       "1                                         690.0  \n",
       "2                                         690.0  \n",
       "3                                         289.0  \n",
       "4                                         650.0  "
      ]
     },
     "execution_count": 6,
     "metadata": {},
     "output_type": "execute_result"
    }
   ],
   "source": [
    "data.head()"
   ]
  },
  {
   "cell_type": "code",
   "execution_count": 7,
   "metadata": {},
   "outputs": [
    {
     "data": {
      "text/plain": [
       "(197428, 16)"
      ]
     },
     "execution_count": 7,
     "metadata": {},
     "output_type": "execute_result"
    }
   ],
   "source": [
    "data.shape"
   ]
  },
  {
   "cell_type": "markdown",
   "metadata": {},
   "source": [
    "### The dataset has 197,428 rows with 16 features. Let's look at them in more detail"
   ]
  },
  {
   "cell_type": "code",
   "execution_count": 8,
   "metadata": {},
   "outputs": [
    {
     "data": {
      "text/html": [
       "<div>\n",
       "<style scoped>\n",
       "    .dataframe tbody tr th:only-of-type {\n",
       "        vertical-align: middle;\n",
       "    }\n",
       "\n",
       "    .dataframe tbody tr th {\n",
       "        vertical-align: top;\n",
       "    }\n",
       "\n",
       "    .dataframe thead th {\n",
       "        text-align: right;\n",
       "    }\n",
       "</style>\n",
       "<table border=\"1\" class=\"dataframe\">\n",
       "  <thead>\n",
       "    <tr style=\"text-align: right;\">\n",
       "      <th></th>\n",
       "      <th>market_id</th>\n",
       "      <th>store_id</th>\n",
       "      <th>order_protocol</th>\n",
       "      <th>total_items</th>\n",
       "      <th>subtotal</th>\n",
       "      <th>num_distinct_items</th>\n",
       "      <th>min_item_price</th>\n",
       "      <th>max_item_price</th>\n",
       "      <th>total_onshift_dashers</th>\n",
       "      <th>total_busy_dashers</th>\n",
       "      <th>total_outstanding_orders</th>\n",
       "      <th>estimated_order_place_duration</th>\n",
       "      <th>estimated_store_to_consumer_driving_duration</th>\n",
       "    </tr>\n",
       "  </thead>\n",
       "  <tbody>\n",
       "    <tr>\n",
       "      <th>count</th>\n",
       "      <td>196441.000000</td>\n",
       "      <td>197428.000000</td>\n",
       "      <td>196433.000000</td>\n",
       "      <td>197428.000000</td>\n",
       "      <td>197428.000000</td>\n",
       "      <td>197428.000000</td>\n",
       "      <td>197428.000000</td>\n",
       "      <td>197428.000000</td>\n",
       "      <td>181166.000000</td>\n",
       "      <td>181166.000000</td>\n",
       "      <td>181166.000000</td>\n",
       "      <td>197428.000000</td>\n",
       "      <td>196902.000000</td>\n",
       "    </tr>\n",
       "    <tr>\n",
       "      <th>mean</th>\n",
       "      <td>2.978706</td>\n",
       "      <td>3530.510272</td>\n",
       "      <td>2.882352</td>\n",
       "      <td>3.196391</td>\n",
       "      <td>2682.331402</td>\n",
       "      <td>2.670791</td>\n",
       "      <td>686.218470</td>\n",
       "      <td>1159.588630</td>\n",
       "      <td>44.808093</td>\n",
       "      <td>41.739747</td>\n",
       "      <td>58.050065</td>\n",
       "      <td>308.560179</td>\n",
       "      <td>545.358935</td>\n",
       "    </tr>\n",
       "    <tr>\n",
       "      <th>std</th>\n",
       "      <td>1.524867</td>\n",
       "      <td>2053.496711</td>\n",
       "      <td>1.503771</td>\n",
       "      <td>2.666546</td>\n",
       "      <td>1823.093688</td>\n",
       "      <td>1.630255</td>\n",
       "      <td>522.038648</td>\n",
       "      <td>558.411377</td>\n",
       "      <td>34.526783</td>\n",
       "      <td>32.145733</td>\n",
       "      <td>52.661830</td>\n",
       "      <td>90.139653</td>\n",
       "      <td>219.352902</td>\n",
       "    </tr>\n",
       "    <tr>\n",
       "      <th>min</th>\n",
       "      <td>1.000000</td>\n",
       "      <td>1.000000</td>\n",
       "      <td>1.000000</td>\n",
       "      <td>1.000000</td>\n",
       "      <td>0.000000</td>\n",
       "      <td>1.000000</td>\n",
       "      <td>-86.000000</td>\n",
       "      <td>0.000000</td>\n",
       "      <td>-4.000000</td>\n",
       "      <td>-5.000000</td>\n",
       "      <td>-6.000000</td>\n",
       "      <td>0.000000</td>\n",
       "      <td>0.000000</td>\n",
       "    </tr>\n",
       "    <tr>\n",
       "      <th>25%</th>\n",
       "      <td>2.000000</td>\n",
       "      <td>1686.000000</td>\n",
       "      <td>1.000000</td>\n",
       "      <td>2.000000</td>\n",
       "      <td>1400.000000</td>\n",
       "      <td>1.000000</td>\n",
       "      <td>299.000000</td>\n",
       "      <td>800.000000</td>\n",
       "      <td>17.000000</td>\n",
       "      <td>15.000000</td>\n",
       "      <td>17.000000</td>\n",
       "      <td>251.000000</td>\n",
       "      <td>382.000000</td>\n",
       "    </tr>\n",
       "    <tr>\n",
       "      <th>50%</th>\n",
       "      <td>3.000000</td>\n",
       "      <td>3592.000000</td>\n",
       "      <td>3.000000</td>\n",
       "      <td>3.000000</td>\n",
       "      <td>2200.000000</td>\n",
       "      <td>2.000000</td>\n",
       "      <td>595.000000</td>\n",
       "      <td>1095.000000</td>\n",
       "      <td>37.000000</td>\n",
       "      <td>34.000000</td>\n",
       "      <td>41.000000</td>\n",
       "      <td>251.000000</td>\n",
       "      <td>544.000000</td>\n",
       "    </tr>\n",
       "    <tr>\n",
       "      <th>75%</th>\n",
       "      <td>4.000000</td>\n",
       "      <td>5299.000000</td>\n",
       "      <td>4.000000</td>\n",
       "      <td>4.000000</td>\n",
       "      <td>3395.000000</td>\n",
       "      <td>3.000000</td>\n",
       "      <td>949.000000</td>\n",
       "      <td>1395.000000</td>\n",
       "      <td>65.000000</td>\n",
       "      <td>62.000000</td>\n",
       "      <td>85.000000</td>\n",
       "      <td>446.000000</td>\n",
       "      <td>702.000000</td>\n",
       "    </tr>\n",
       "    <tr>\n",
       "      <th>max</th>\n",
       "      <td>6.000000</td>\n",
       "      <td>6987.000000</td>\n",
       "      <td>7.000000</td>\n",
       "      <td>411.000000</td>\n",
       "      <td>27100.000000</td>\n",
       "      <td>20.000000</td>\n",
       "      <td>14700.000000</td>\n",
       "      <td>14700.000000</td>\n",
       "      <td>171.000000</td>\n",
       "      <td>154.000000</td>\n",
       "      <td>285.000000</td>\n",
       "      <td>2715.000000</td>\n",
       "      <td>2088.000000</td>\n",
       "    </tr>\n",
       "  </tbody>\n",
       "</table>\n",
       "</div>"
      ],
      "text/plain": [
       "           market_id       store_id  order_protocol    total_items  \\\n",
       "count  196441.000000  197428.000000   196433.000000  197428.000000   \n",
       "mean        2.978706    3530.510272        2.882352       3.196391   \n",
       "std         1.524867    2053.496711        1.503771       2.666546   \n",
       "min         1.000000       1.000000        1.000000       1.000000   \n",
       "25%         2.000000    1686.000000        1.000000       2.000000   \n",
       "50%         3.000000    3592.000000        3.000000       3.000000   \n",
       "75%         4.000000    5299.000000        4.000000       4.000000   \n",
       "max         6.000000    6987.000000        7.000000     411.000000   \n",
       "\n",
       "            subtotal  num_distinct_items  min_item_price  max_item_price  \\\n",
       "count  197428.000000       197428.000000   197428.000000   197428.000000   \n",
       "mean     2682.331402            2.670791      686.218470     1159.588630   \n",
       "std      1823.093688            1.630255      522.038648      558.411377   \n",
       "min         0.000000            1.000000      -86.000000        0.000000   \n",
       "25%      1400.000000            1.000000      299.000000      800.000000   \n",
       "50%      2200.000000            2.000000      595.000000     1095.000000   \n",
       "75%      3395.000000            3.000000      949.000000     1395.000000   \n",
       "max     27100.000000           20.000000    14700.000000    14700.000000   \n",
       "\n",
       "       total_onshift_dashers  total_busy_dashers  total_outstanding_orders  \\\n",
       "count          181166.000000       181166.000000             181166.000000   \n",
       "mean               44.808093           41.739747                 58.050065   \n",
       "std                34.526783           32.145733                 52.661830   \n",
       "min                -4.000000           -5.000000                 -6.000000   \n",
       "25%                17.000000           15.000000                 17.000000   \n",
       "50%                37.000000           34.000000                 41.000000   \n",
       "75%                65.000000           62.000000                 85.000000   \n",
       "max               171.000000          154.000000                285.000000   \n",
       "\n",
       "       estimated_order_place_duration  \\\n",
       "count                   197428.000000   \n",
       "mean                       308.560179   \n",
       "std                         90.139653   \n",
       "min                          0.000000   \n",
       "25%                        251.000000   \n",
       "50%                        251.000000   \n",
       "75%                        446.000000   \n",
       "max                       2715.000000   \n",
       "\n",
       "       estimated_store_to_consumer_driving_duration  \n",
       "count                                 196902.000000  \n",
       "mean                                     545.358935  \n",
       "std                                      219.352902  \n",
       "min                                        0.000000  \n",
       "25%                                      382.000000  \n",
       "50%                                      544.000000  \n",
       "75%                                      702.000000  \n",
       "max                                     2088.000000  "
      ]
     },
     "execution_count": 8,
     "metadata": {},
     "output_type": "execute_result"
    }
   ],
   "source": [
    "data.describe()"
   ]
  },
  {
   "cell_type": "markdown",
   "metadata": {},
   "source": [
    "### From the description of data, we can sense that there is a lot of noise. For ex: quantitative values such as min_item_price,total_onshift_dashers,total_busy_dashers,total_outstanding_orders have negative values which is not possible in a real world scenario. We need to remove/preprocess those values to get good data which will be done in the following sections"
   ]
  },
  {
   "cell_type": "code",
   "execution_count": 9,
   "metadata": {},
   "outputs": [
    {
     "name": "stdout",
     "output_type": "stream",
     "text": [
      "<class 'pandas.core.frame.DataFrame'>\n",
      "RangeIndex: 197428 entries, 0 to 197427\n",
      "Data columns (total 16 columns):\n",
      "market_id                                       196441 non-null float64\n",
      "created_at                                      197428 non-null object\n",
      "actual_delivery_time                            197421 non-null object\n",
      "store_id                                        197428 non-null int64\n",
      "store_primary_category                          192668 non-null object\n",
      "order_protocol                                  196433 non-null float64\n",
      "total_items                                     197428 non-null int64\n",
      "subtotal                                        197428 non-null int64\n",
      "num_distinct_items                              197428 non-null int64\n",
      "min_item_price                                  197428 non-null int64\n",
      "max_item_price                                  197428 non-null int64\n",
      "total_onshift_dashers                           181166 non-null float64\n",
      "total_busy_dashers                              181166 non-null float64\n",
      "total_outstanding_orders                        181166 non-null float64\n",
      "estimated_order_place_duration                  197428 non-null int64\n",
      "estimated_store_to_consumer_driving_duration    196902 non-null float64\n",
      "dtypes: float64(6), int64(7), object(3)\n",
      "memory usage: 24.1+ MB\n"
     ]
    }
   ],
   "source": [
    "data.info()"
   ]
  },
  {
   "cell_type": "markdown",
   "metadata": {},
   "source": [
    "### Our main goal is to predict the estimated time for delivery which can only be inferred from created_at and actual_delivery_time. Since 7 rows in actual_delivery_time have null values, it's tough to consider these values. Hence we drop those rows from our data"
   ]
  },
  {
   "cell_type": "code",
   "execution_count": 10,
   "metadata": {},
   "outputs": [],
   "source": [
    "data = data.dropna(subset=['actual_delivery_time'])\n",
    "data = data.reset_index(drop=True)"
   ]
  },
  {
   "cell_type": "code",
   "execution_count": 11,
   "metadata": {},
   "outputs": [
    {
     "name": "stdout",
     "output_type": "stream",
     "text": [
      "<class 'pandas.core.frame.DataFrame'>\n",
      "RangeIndex: 197421 entries, 0 to 197420\n",
      "Data columns (total 16 columns):\n",
      "market_id                                       196434 non-null float64\n",
      "created_at                                      197421 non-null object\n",
      "actual_delivery_time                            197421 non-null object\n",
      "store_id                                        197421 non-null int64\n",
      "store_primary_category                          192661 non-null object\n",
      "order_protocol                                  196426 non-null float64\n",
      "total_items                                     197421 non-null int64\n",
      "subtotal                                        197421 non-null int64\n",
      "num_distinct_items                              197421 non-null int64\n",
      "min_item_price                                  197421 non-null int64\n",
      "max_item_price                                  197421 non-null int64\n",
      "total_onshift_dashers                           181159 non-null float64\n",
      "total_busy_dashers                              181159 non-null float64\n",
      "total_outstanding_orders                        181159 non-null float64\n",
      "estimated_order_place_duration                  197421 non-null int64\n",
      "estimated_store_to_consumer_driving_duration    196895 non-null float64\n",
      "dtypes: float64(6), int64(7), object(3)\n",
      "memory usage: 24.1+ MB\n"
     ]
    }
   ],
   "source": [
    "data.info()"
   ]
  },
  {
   "cell_type": "markdown",
   "metadata": {},
   "source": [
    "### From brute force assumption, we can infer that parameters such as total_outstanding_dashers,total_busy_dashers and total_outstanding_orders might have an impact on the estimated time. It is seen that these parameters have null values together. Let's remove those rows from our dataset."
   ]
  },
  {
   "cell_type": "code",
   "execution_count": 12,
   "metadata": {},
   "outputs": [],
   "source": [
    "data = data.dropna(subset=['total_onshift_dashers'])\n",
    "data = data.reset_index(drop=True)"
   ]
  },
  {
   "cell_type": "code",
   "execution_count": 13,
   "metadata": {},
   "outputs": [
    {
     "name": "stdout",
     "output_type": "stream",
     "text": [
      "<class 'pandas.core.frame.DataFrame'>\n",
      "RangeIndex: 181159 entries, 0 to 181158\n",
      "Data columns (total 16 columns):\n",
      "market_id                                       180240 non-null float64\n",
      "created_at                                      181159 non-null object\n",
      "actual_delivery_time                            181159 non-null object\n",
      "store_id                                        181159 non-null int64\n",
      "store_primary_category                          176944 non-null object\n",
      "order_protocol                                  180242 non-null float64\n",
      "total_items                                     181159 non-null int64\n",
      "subtotal                                        181159 non-null int64\n",
      "num_distinct_items                              181159 non-null int64\n",
      "min_item_price                                  181159 non-null int64\n",
      "max_item_price                                  181159 non-null int64\n",
      "total_onshift_dashers                           181159 non-null float64\n",
      "total_busy_dashers                              181159 non-null float64\n",
      "total_outstanding_orders                        181159 non-null float64\n",
      "estimated_order_place_duration                  181159 non-null int64\n",
      "estimated_store_to_consumer_driving_duration    180677 non-null float64\n",
      "dtypes: float64(6), int64(7), object(3)\n",
      "memory usage: 22.1+ MB\n"
     ]
    }
   ],
   "source": [
    "data.info()"
   ]
  },
  {
   "cell_type": "markdown",
   "metadata": {},
   "source": [
    "### From the data, it is seen that there exists a mapping between market_id and store_id. Some stores belong to the same market_id. Since certain values of market_id are missing, I imputed those values by aggregating values of store_id to market_id and assigning a unique market_id for all the store_id's."
   ]
  },
  {
   "cell_type": "code",
   "execution_count": 14,
   "metadata": {},
   "outputs": [],
   "source": [
    "data_na = data[data['market_id'].isna()]   #data with na in market_id\n",
    "data_wna = data.dropna(subset=['market_id']) # data without na in market_id\n",
    "data_wna = data_wna.reset_index(drop=True)"
   ]
  },
  {
   "cell_type": "code",
   "execution_count": 15,
   "metadata": {},
   "outputs": [],
   "source": [
    "cleaned = data_wna[['market_id','store_id']].groupby(['store_id'],as_index=False).agg(lambda x:x.value_counts().index[0])\n",
    "# market_id based on store_id's distribution of market_id"
   ]
  },
  {
   "cell_type": "code",
   "execution_count": 16,
   "metadata": {},
   "outputs": [],
   "source": [
    "index = data_na.index # index of rows with missing market_id"
   ]
  },
  {
   "cell_type": "code",
   "execution_count": 17,
   "metadata": {},
   "outputs": [],
   "source": [
    "for i in index:\n",
    "    try:\n",
    "        data.iloc[i,0] = cleaned[cleaned['store_id'] == data.iloc[i,3]]['market_id'].values[0]\n",
    "    except:\n",
    "        pass"
   ]
  },
  {
   "cell_type": "code",
   "execution_count": 18,
   "metadata": {},
   "outputs": [],
   "source": [
    "data = data.dropna(subset=['market_id']) #certain stores aren't assigned to a market_id, so we delete them\n",
    "data = data.reset_index(drop=True)"
   ]
  },
  {
   "cell_type": "code",
   "execution_count": 19,
   "metadata": {},
   "outputs": [
    {
     "name": "stdout",
     "output_type": "stream",
     "text": [
      "<class 'pandas.core.frame.DataFrame'>\n",
      "RangeIndex: 181157 entries, 0 to 181156\n",
      "Data columns (total 16 columns):\n",
      "market_id                                       181157 non-null float64\n",
      "created_at                                      181157 non-null object\n",
      "actual_delivery_time                            181157 non-null object\n",
      "store_id                                        181157 non-null int64\n",
      "store_primary_category                          176942 non-null object\n",
      "order_protocol                                  180242 non-null float64\n",
      "total_items                                     181157 non-null int64\n",
      "subtotal                                        181157 non-null int64\n",
      "num_distinct_items                              181157 non-null int64\n",
      "min_item_price                                  181157 non-null int64\n",
      "max_item_price                                  181157 non-null int64\n",
      "total_onshift_dashers                           181157 non-null float64\n",
      "total_busy_dashers                              181157 non-null float64\n",
      "total_outstanding_orders                        181157 non-null float64\n",
      "estimated_order_place_duration                  181157 non-null int64\n",
      "estimated_store_to_consumer_driving_duration    180675 non-null float64\n",
      "dtypes: float64(6), int64(7), object(3)\n",
      "memory usage: 22.1+ MB\n"
     ]
    }
   ],
   "source": [
    "data.info()"
   ]
  },
  {
   "cell_type": "markdown",
   "metadata": {},
   "source": [
    "### Some of the values for estimated_store_to_consumer_driving_duration are missing. The market_id gives an intution on the customer's location as market_id refers to the regions where DD operates. So we can take the average value for every unique market_id and assign it corresponding to the missing values"
   ]
  },
  {
   "cell_type": "code",
   "execution_count": 20,
   "metadata": {},
   "outputs": [],
   "source": [
    "duration_wna = data.dropna(subset=['estimated_store_to_consumer_driving_duration'])\n",
    "duration_na = data[data['estimated_store_to_consumer_driving_duration'].isna()]\n",
    "missing_index = duration_na.index"
   ]
  },
  {
   "cell_type": "code",
   "execution_count": 21,
   "metadata": {},
   "outputs": [],
   "source": [
    "distribution_dur = duration_wna[['market_id','estimated_store_to_consumer_driving_duration']].groupby(['market_id'],as_index=True).mean()"
   ]
  },
  {
   "cell_type": "code",
   "execution_count": 22,
   "metadata": {},
   "outputs": [],
   "source": [
    "distribution = list(distribution_dur['estimated_store_to_consumer_driving_duration'])"
   ]
  },
  {
   "cell_type": "code",
   "execution_count": 23,
   "metadata": {},
   "outputs": [],
   "source": [
    "for i in missing_index:\n",
    "    data.iloc[i,15] = distribution[int(data.iloc[i,0])-1]"
   ]
  },
  {
   "cell_type": "code",
   "execution_count": 24,
   "metadata": {},
   "outputs": [
    {
     "name": "stdout",
     "output_type": "stream",
     "text": [
      "<class 'pandas.core.frame.DataFrame'>\n",
      "RangeIndex: 181157 entries, 0 to 181156\n",
      "Data columns (total 16 columns):\n",
      "market_id                                       181157 non-null float64\n",
      "created_at                                      181157 non-null object\n",
      "actual_delivery_time                            181157 non-null object\n",
      "store_id                                        181157 non-null int64\n",
      "store_primary_category                          176942 non-null object\n",
      "order_protocol                                  180242 non-null float64\n",
      "total_items                                     181157 non-null int64\n",
      "subtotal                                        181157 non-null int64\n",
      "num_distinct_items                              181157 non-null int64\n",
      "min_item_price                                  181157 non-null int64\n",
      "max_item_price                                  181157 non-null int64\n",
      "total_onshift_dashers                           181157 non-null float64\n",
      "total_busy_dashers                              181157 non-null float64\n",
      "total_outstanding_orders                        181157 non-null float64\n",
      "estimated_order_place_duration                  181157 non-null int64\n",
      "estimated_store_to_consumer_driving_duration    181157 non-null float64\n",
      "dtypes: float64(6), int64(7), object(3)\n",
      "memory usage: 22.1+ MB\n"
     ]
    }
   ],
   "source": [
    "data.info()"
   ]
  },
  {
   "cell_type": "markdown",
   "metadata": {},
   "source": [
    "### The assumptions here are based on the underlying rule that states that total_busy_dashers is a subset of total_onshift_dashers and total_busy_dashers is a subset of total_outstanding_orders\n",
    "\n",
    "### 1. total_onshift_dashers  >=  total_busy_dashers \n",
    "\n",
    "### 2. total_outstanding_orders >= total_busy_dashers\n",
    "\n",
    "### 3. All the values of these parameters should be greater than zero( As discussed in the previous section)\n",
    "\n",
    "### So we will be assigning the minimum of the two values to the variables that violate the conditions 1 & 2."
   ]
  },
  {
   "cell_type": "code",
   "execution_count": 25,
   "metadata": {},
   "outputs": [],
   "source": [
    "data_greater = data[data['total_onshift_dashers'] < data['total_busy_dashers']]"
   ]
  },
  {
   "cell_type": "code",
   "execution_count": 26,
   "metadata": {},
   "outputs": [],
   "source": [
    "greater_index = data_greater.index"
   ]
  },
  {
   "cell_type": "code",
   "execution_count": 27,
   "metadata": {},
   "outputs": [],
   "source": [
    "for i in greater_index:\n",
    "    data.iloc[i,12] = data.iloc[i,11]"
   ]
  },
  {
   "cell_type": "code",
   "execution_count": 28,
   "metadata": {},
   "outputs": [],
   "source": [
    "data_greater_2 = data[data['total_busy_dashers'] > data['total_outstanding_orders']]"
   ]
  },
  {
   "cell_type": "code",
   "execution_count": 29,
   "metadata": {},
   "outputs": [],
   "source": [
    "greater_index_2 = data_greater_2.index"
   ]
  },
  {
   "cell_type": "code",
   "execution_count": 30,
   "metadata": {},
   "outputs": [],
   "source": [
    "for i in greater_index_2:\n",
    "    data.iloc[i,12] = data.iloc[i,13]"
   ]
  },
  {
   "cell_type": "code",
   "execution_count": 31,
   "metadata": {},
   "outputs": [],
   "source": [
    "data_negative = data[(data['total_onshift_dashers'] < 0) | (data['total_busy_dashers'] < 0) | (data['total_outstanding_orders'] < 0)]"
   ]
  },
  {
   "cell_type": "code",
   "execution_count": 32,
   "metadata": {},
   "outputs": [
    {
     "data": {
      "text/plain": [
       "81"
      ]
     },
     "execution_count": 32,
     "metadata": {},
     "output_type": "execute_result"
    }
   ],
   "source": [
    "negative_index = data_negative.index\n",
    "len(negative_index)"
   ]
  },
  {
   "cell_type": "code",
   "execution_count": 33,
   "metadata": {},
   "outputs": [],
   "source": [
    "data = data.drop(data.index[negative_index])\n",
    "data = data.reset_index(drop=True)"
   ]
  },
  {
   "cell_type": "code",
   "execution_count": 34,
   "metadata": {},
   "outputs": [],
   "source": [
    "copy_1 = data.copy(deep=True) #creating a copy at various stages to preserve the data"
   ]
  },
  {
   "cell_type": "markdown",
   "metadata": {},
   "source": [
    "### We also saw that the minimum value of minimum_price was negative. Let's drop the rows where the prices are negative"
   ]
  },
  {
   "cell_type": "code",
   "execution_count": 35,
   "metadata": {},
   "outputs": [],
   "source": [
    "negative_prices = data[(data['min_item_price'] < 0)]\n",
    "negative_prices_index = negative_prices.index"
   ]
  },
  {
   "cell_type": "code",
   "execution_count": 36,
   "metadata": {},
   "outputs": [],
   "source": [
    "data = data.drop(data.index[negative_prices_index])\n",
    "data = data.reset_index(drop=True)"
   ]
  },
  {
   "cell_type": "markdown",
   "metadata": {},
   "source": [
    "### It's logical to say that num_distinct_items is always a subset of total_items and cannot be greater than it."
   ]
  },
  {
   "cell_type": "code",
   "execution_count": 37,
   "metadata": {},
   "outputs": [
    {
     "data": {
      "text/html": [
       "<div>\n",
       "<style scoped>\n",
       "    .dataframe tbody tr th:only-of-type {\n",
       "        vertical-align: middle;\n",
       "    }\n",
       "\n",
       "    .dataframe tbody tr th {\n",
       "        vertical-align: top;\n",
       "    }\n",
       "\n",
       "    .dataframe thead th {\n",
       "        text-align: right;\n",
       "    }\n",
       "</style>\n",
       "<table border=\"1\" class=\"dataframe\">\n",
       "  <thead>\n",
       "    <tr style=\"text-align: right;\">\n",
       "      <th></th>\n",
       "      <th>market_id</th>\n",
       "      <th>created_at</th>\n",
       "      <th>actual_delivery_time</th>\n",
       "      <th>store_id</th>\n",
       "      <th>store_primary_category</th>\n",
       "      <th>order_protocol</th>\n",
       "      <th>total_items</th>\n",
       "      <th>subtotal</th>\n",
       "      <th>num_distinct_items</th>\n",
       "      <th>min_item_price</th>\n",
       "      <th>max_item_price</th>\n",
       "      <th>total_onshift_dashers</th>\n",
       "      <th>total_busy_dashers</th>\n",
       "      <th>total_outstanding_orders</th>\n",
       "      <th>estimated_order_place_duration</th>\n",
       "      <th>estimated_store_to_consumer_driving_duration</th>\n",
       "    </tr>\n",
       "  </thead>\n",
       "  <tbody>\n",
       "  </tbody>\n",
       "</table>\n",
       "</div>"
      ],
      "text/plain": [
       "Empty DataFrame\n",
       "Columns: [market_id, created_at, actual_delivery_time, store_id, store_primary_category, order_protocol, total_items, subtotal, num_distinct_items, min_item_price, max_item_price, total_onshift_dashers, total_busy_dashers, total_outstanding_orders, estimated_order_place_duration, estimated_store_to_consumer_driving_duration]\n",
       "Index: []"
      ]
     },
     "execution_count": 37,
     "metadata": {},
     "output_type": "execute_result"
    }
   ],
   "source": [
    "data[data['total_items'] < data['num_distinct_items']] #null values indicating such a condition doesn't exist"
   ]
  },
  {
   "cell_type": "markdown",
   "metadata": {},
   "source": [
    "### Once we are a little convinced with the data, we can explore interesting features and derive new features from existing features to understand the parameters that will affect estimation"
   ]
  },
  {
   "cell_type": "code",
   "execution_count": 38,
   "metadata": {},
   "outputs": [],
   "source": [
    "data[['created_at']] = pd.to_datetime(data['created_at']) # converting string to datetime object\n",
    "data[['actual_delivery_time']] = pd.to_datetime(data['actual_delivery_time'])"
   ]
  },
  {
   "cell_type": "code",
   "execution_count": 39,
   "metadata": {},
   "outputs": [],
   "source": [
    "def unix_time(string):\n",
    "    return time.mktime(string.timetuple())"
   ]
  },
  {
   "cell_type": "code",
   "execution_count": 40,
   "metadata": {},
   "outputs": [],
   "source": [
    "data['created_at_unix'] = data['created_at'].apply(unix_time)"
   ]
  },
  {
   "cell_type": "code",
   "execution_count": 41,
   "metadata": {},
   "outputs": [],
   "source": [
    "data['actual_delivery_time_unix'] = data['actual_delivery_time'].apply(unix_time)"
   ]
  },
  {
   "cell_type": "code",
   "execution_count": 42,
   "metadata": {},
   "outputs": [],
   "source": [
    "data = data.reindex(sorted(data.columns), axis=1)"
   ]
  },
  {
   "cell_type": "markdown",
   "metadata": {},
   "source": [
    "### The total_delivery_time from ordered_at to final_delivery is the difference of these two times. Since the end estimator should be in seconds, I had used UNIX Time to get the difference in seconds"
   ]
  },
  {
   "cell_type": "code",
   "execution_count": 43,
   "metadata": {},
   "outputs": [],
   "source": [
    "data['estimated_time_for_cooking_&_pickup'] = data['actual_delivery_time_unix'] - data['created_at_unix']"
   ]
  },
  {
   "cell_type": "code",
   "execution_count": 44,
   "metadata": {},
   "outputs": [],
   "source": [
    "data = data.reindex(sorted(data.columns), axis=1)"
   ]
  },
  {
   "cell_type": "markdown",
   "metadata": {},
   "source": [
    "### The total delivery time can be defined as the sum of time required to place the order, time for cooking and pickup by dasher and time for delivery. Since the time required to place the order and time required for delivery are constant, our aim is to predict the estimated amount of time for cooking and pickup by dasher"
   ]
  },
  {
   "cell_type": "code",
   "execution_count": 45,
   "metadata": {},
   "outputs": [],
   "source": [
    "data['estimated_time_for_cooking_&_pickup'] = data['estimated_time_for_cooking_&_pickup'] - data['estimated_order_place_duration'] - data['estimated_store_to_consumer_driving_duration']"
   ]
  },
  {
   "cell_type": "markdown",
   "metadata": {},
   "source": [
    "### My assumption is \n",
    "### total estimated time for delivery >= estimated_order_place_duration + estimated_store_to_consumer_driving_duration + estimated_time_for_cooking_&__pickup\n",
    "\n",
    "### All the rows where the above condition is not satisfied will be removed."
   ]
  },
  {
   "cell_type": "code",
   "execution_count": 46,
   "metadata": {},
   "outputs": [],
   "source": [
    "data = data.drop(data[data['estimated_time_for_cooking_&_pickup'] < 0].index)"
   ]
  },
  {
   "cell_type": "code",
   "execution_count": 47,
   "metadata": {},
   "outputs": [],
   "source": [
    "data = data.reset_index(drop=True)"
   ]
  },
  {
   "cell_type": "markdown",
   "metadata": {},
   "source": [
    "### Let's categorize the date into weekdays by assigning variables to days of the week.(Monday-0,Sunday-6)"
   ]
  },
  {
   "cell_type": "code",
   "execution_count": 48,
   "metadata": {},
   "outputs": [],
   "source": [
    "def day(string):\n",
    "    return string.date().weekday()"
   ]
  },
  {
   "cell_type": "code",
   "execution_count": 49,
   "metadata": {},
   "outputs": [],
   "source": [
    "data['created_at_day'] = data['created_at'].apply(day)"
   ]
  },
  {
   "cell_type": "code",
   "execution_count": 50,
   "metadata": {},
   "outputs": [
    {
     "data": {
      "text/html": [
       "<div>\n",
       "<style scoped>\n",
       "    .dataframe tbody tr th:only-of-type {\n",
       "        vertical-align: middle;\n",
       "    }\n",
       "\n",
       "    .dataframe tbody tr th {\n",
       "        vertical-align: top;\n",
       "    }\n",
       "\n",
       "    .dataframe thead th {\n",
       "        text-align: right;\n",
       "    }\n",
       "</style>\n",
       "<table border=\"1\" class=\"dataframe\">\n",
       "  <thead>\n",
       "    <tr style=\"text-align: right;\">\n",
       "      <th></th>\n",
       "      <th>actual_delivery_time</th>\n",
       "      <th>actual_delivery_time_unix</th>\n",
       "      <th>created_at</th>\n",
       "      <th>created_at_unix</th>\n",
       "      <th>estimated_order_place_duration</th>\n",
       "      <th>estimated_store_to_consumer_driving_duration</th>\n",
       "      <th>estimated_time_for_cooking_&amp;_pickup</th>\n",
       "      <th>market_id</th>\n",
       "      <th>max_item_price</th>\n",
       "      <th>min_item_price</th>\n",
       "      <th>num_distinct_items</th>\n",
       "      <th>order_protocol</th>\n",
       "      <th>store_id</th>\n",
       "      <th>store_primary_category</th>\n",
       "      <th>subtotal</th>\n",
       "      <th>total_busy_dashers</th>\n",
       "      <th>total_items</th>\n",
       "      <th>total_onshift_dashers</th>\n",
       "      <th>total_outstanding_orders</th>\n",
       "      <th>created_at_day</th>\n",
       "    </tr>\n",
       "  </thead>\n",
       "  <tbody>\n",
       "    <tr>\n",
       "      <th>0</th>\n",
       "      <td>2015-02-06 23:27:16</td>\n",
       "      <td>1.423283e+09</td>\n",
       "      <td>2015-02-06 22:24:17</td>\n",
       "      <td>1.423279e+09</td>\n",
       "      <td>446</td>\n",
       "      <td>861.0</td>\n",
       "      <td>2472.0</td>\n",
       "      <td>1.0</td>\n",
       "      <td>1239</td>\n",
       "      <td>557</td>\n",
       "      <td>4</td>\n",
       "      <td>1.0</td>\n",
       "      <td>1845</td>\n",
       "      <td>american</td>\n",
       "      <td>3441</td>\n",
       "      <td>14.0</td>\n",
       "      <td>4</td>\n",
       "      <td>33.0</td>\n",
       "      <td>21.0</td>\n",
       "      <td>4</td>\n",
       "    </tr>\n",
       "    <tr>\n",
       "      <th>1</th>\n",
       "      <td>2015-02-10 22:56:29</td>\n",
       "      <td>1.423627e+09</td>\n",
       "      <td>2015-02-10 21:49:25</td>\n",
       "      <td>1.423623e+09</td>\n",
       "      <td>446</td>\n",
       "      <td>690.0</td>\n",
       "      <td>2888.0</td>\n",
       "      <td>2.0</td>\n",
       "      <td>1400</td>\n",
       "      <td>1400</td>\n",
       "      <td>1</td>\n",
       "      <td>2.0</td>\n",
       "      <td>5477</td>\n",
       "      <td>mexican</td>\n",
       "      <td>1900</td>\n",
       "      <td>1.0</td>\n",
       "      <td>1</td>\n",
       "      <td>1.0</td>\n",
       "      <td>2.0</td>\n",
       "      <td>1</td>\n",
       "    </tr>\n",
       "    <tr>\n",
       "      <th>2</th>\n",
       "      <td>2015-01-22 21:09:09</td>\n",
       "      <td>1.421979e+09</td>\n",
       "      <td>2015-01-22 20:39:28</td>\n",
       "      <td>1.421977e+09</td>\n",
       "      <td>446</td>\n",
       "      <td>690.0</td>\n",
       "      <td>645.0</td>\n",
       "      <td>3.0</td>\n",
       "      <td>1900</td>\n",
       "      <td>1900</td>\n",
       "      <td>1</td>\n",
       "      <td>1.0</td>\n",
       "      <td>5477</td>\n",
       "      <td>NaN</td>\n",
       "      <td>1900</td>\n",
       "      <td>0.0</td>\n",
       "      <td>1</td>\n",
       "      <td>1.0</td>\n",
       "      <td>0.0</td>\n",
       "      <td>3</td>\n",
       "    </tr>\n",
       "    <tr>\n",
       "      <th>3</th>\n",
       "      <td>2015-02-03 22:13:00</td>\n",
       "      <td>1.423020e+09</td>\n",
       "      <td>2015-02-03 21:21:45</td>\n",
       "      <td>1.423017e+09</td>\n",
       "      <td>446</td>\n",
       "      <td>289.0</td>\n",
       "      <td>2340.0</td>\n",
       "      <td>3.0</td>\n",
       "      <td>1800</td>\n",
       "      <td>600</td>\n",
       "      <td>5</td>\n",
       "      <td>1.0</td>\n",
       "      <td>5477</td>\n",
       "      <td>NaN</td>\n",
       "      <td>6900</td>\n",
       "      <td>1.0</td>\n",
       "      <td>6</td>\n",
       "      <td>1.0</td>\n",
       "      <td>2.0</td>\n",
       "      <td>1</td>\n",
       "    </tr>\n",
       "    <tr>\n",
       "      <th>4</th>\n",
       "      <td>2015-02-15 03:20:26</td>\n",
       "      <td>1.423988e+09</td>\n",
       "      <td>2015-02-15 02:40:36</td>\n",
       "      <td>1.423986e+09</td>\n",
       "      <td>446</td>\n",
       "      <td>650.0</td>\n",
       "      <td>1294.0</td>\n",
       "      <td>3.0</td>\n",
       "      <td>1600</td>\n",
       "      <td>1100</td>\n",
       "      <td>3</td>\n",
       "      <td>1.0</td>\n",
       "      <td>5477</td>\n",
       "      <td>NaN</td>\n",
       "      <td>3900</td>\n",
       "      <td>6.0</td>\n",
       "      <td>3</td>\n",
       "      <td>6.0</td>\n",
       "      <td>9.0</td>\n",
       "      <td>6</td>\n",
       "    </tr>\n",
       "  </tbody>\n",
       "</table>\n",
       "</div>"
      ],
      "text/plain": [
       "  actual_delivery_time  actual_delivery_time_unix          created_at  \\\n",
       "0  2015-02-06 23:27:16               1.423283e+09 2015-02-06 22:24:17   \n",
       "1  2015-02-10 22:56:29               1.423627e+09 2015-02-10 21:49:25   \n",
       "2  2015-01-22 21:09:09               1.421979e+09 2015-01-22 20:39:28   \n",
       "3  2015-02-03 22:13:00               1.423020e+09 2015-02-03 21:21:45   \n",
       "4  2015-02-15 03:20:26               1.423988e+09 2015-02-15 02:40:36   \n",
       "\n",
       "   created_at_unix  estimated_order_place_duration  \\\n",
       "0     1.423279e+09                             446   \n",
       "1     1.423623e+09                             446   \n",
       "2     1.421977e+09                             446   \n",
       "3     1.423017e+09                             446   \n",
       "4     1.423986e+09                             446   \n",
       "\n",
       "   estimated_store_to_consumer_driving_duration  \\\n",
       "0                                         861.0   \n",
       "1                                         690.0   \n",
       "2                                         690.0   \n",
       "3                                         289.0   \n",
       "4                                         650.0   \n",
       "\n",
       "   estimated_time_for_cooking_&_pickup  market_id  max_item_price  \\\n",
       "0                               2472.0        1.0            1239   \n",
       "1                               2888.0        2.0            1400   \n",
       "2                                645.0        3.0            1900   \n",
       "3                               2340.0        3.0            1800   \n",
       "4                               1294.0        3.0            1600   \n",
       "\n",
       "   min_item_price  num_distinct_items  order_protocol  store_id  \\\n",
       "0             557                   4             1.0      1845   \n",
       "1            1400                   1             2.0      5477   \n",
       "2            1900                   1             1.0      5477   \n",
       "3             600                   5             1.0      5477   \n",
       "4            1100                   3             1.0      5477   \n",
       "\n",
       "  store_primary_category  subtotal  total_busy_dashers  total_items  \\\n",
       "0               american      3441                14.0            4   \n",
       "1                mexican      1900                 1.0            1   \n",
       "2                    NaN      1900                 0.0            1   \n",
       "3                    NaN      6900                 1.0            6   \n",
       "4                    NaN      3900                 6.0            3   \n",
       "\n",
       "   total_onshift_dashers  total_outstanding_orders  created_at_day  \n",
       "0                   33.0                      21.0               4  \n",
       "1                    1.0                       2.0               1  \n",
       "2                    1.0                       0.0               3  \n",
       "3                    1.0                       2.0               1  \n",
       "4                    6.0                       9.0               6  "
      ]
     },
     "execution_count": 50,
     "metadata": {},
     "output_type": "execute_result"
    }
   ],
   "source": [
    "data.head()"
   ]
  },
  {
   "cell_type": "markdown",
   "metadata": {},
   "source": [
    "### Let's assign categorical variables to various parts of the day.\n",
    "### 1. Morning - 0 - time >= 06:00:00 and time < 12:00:00\n",
    "### 2. Afternoon - 1 - time >= 12:00:00 and time < 18:00:00\n",
    "### 3. Night - 2 - time >= 18:00:00 and time < 06:00:00"
   ]
  },
  {
   "cell_type": "code",
   "execution_count": 51,
   "metadata": {},
   "outputs": [],
   "source": [
    "a = \"06:00:00\"\n",
    "time_1 = datetime.strptime(a,\"%H:%M:%S\").time()\n",
    "b = \"12:00:00\"\n",
    "time_2 = datetime.strptime(b,\"%H:%M:%S\").time()\n",
    "c = \"18:00:00\"\n",
    "time_3 = datetime.strptime(c,\"%H:%M:%S\").time()"
   ]
  },
  {
   "cell_type": "code",
   "execution_count": 52,
   "metadata": {},
   "outputs": [],
   "source": [
    "def parts_of_day(string):\n",
    "    time = string.time()\n",
    "    if time >= time_1 and time < time_2:\n",
    "        return 0\n",
    "    elif time >= time_2 and time < time_3:\n",
    "        return 1\n",
    "    elif time >= time_3 or time <= time_1:\n",
    "        return 2"
   ]
  },
  {
   "cell_type": "code",
   "execution_count": 53,
   "metadata": {},
   "outputs": [],
   "source": [
    "data['part_of_day'] = data['created_at'].apply(parts_of_day)"
   ]
  },
  {
   "cell_type": "code",
   "execution_count": 54,
   "metadata": {},
   "outputs": [
    {
     "name": "stdout",
     "output_type": "stream",
     "text": [
      "<class 'pandas.core.frame.DataFrame'>\n",
      "RangeIndex: 181000 entries, 0 to 180999\n",
      "Data columns (total 21 columns):\n",
      "actual_delivery_time                            181000 non-null datetime64[ns]\n",
      "actual_delivery_time_unix                       181000 non-null float64\n",
      "created_at                                      181000 non-null datetime64[ns]\n",
      "created_at_unix                                 181000 non-null float64\n",
      "estimated_order_place_duration                  181000 non-null int64\n",
      "estimated_store_to_consumer_driving_duration    181000 non-null float64\n",
      "estimated_time_for_cooking_&_pickup             181000 non-null float64\n",
      "market_id                                       181000 non-null float64\n",
      "max_item_price                                  181000 non-null int64\n",
      "min_item_price                                  181000 non-null int64\n",
      "num_distinct_items                              181000 non-null int64\n",
      "order_protocol                                  180085 non-null float64\n",
      "store_id                                        181000 non-null int64\n",
      "store_primary_category                          176790 non-null object\n",
      "subtotal                                        181000 non-null int64\n",
      "total_busy_dashers                              181000 non-null float64\n",
      "total_items                                     181000 non-null int64\n",
      "total_onshift_dashers                           181000 non-null float64\n",
      "total_outstanding_orders                        181000 non-null float64\n",
      "created_at_day                                  181000 non-null int64\n",
      "part_of_day                                     181000 non-null int64\n",
      "dtypes: datetime64[ns](2), float64(9), int64(9), object(1)\n",
      "memory usage: 29.0+ MB\n"
     ]
    }
   ],
   "source": [
    "data.info()"
   ]
  },
  {
   "cell_type": "markdown",
   "metadata": {},
   "source": [
    "### The reason for coming up with such categorical variables is based on an assumption.\n",
    "### As we had already seen that we have to predict the estimated time for cooking and pickup. Based on logical thought that cooking time depends on the day of the week and time of the day. Restaurants might have a high demand on weekends especially during the nights which will impact the cooking time. The pickup time on the other hand, depends on number of outstanding orders per dasher. More no of orders per dasher, the pickup time will get delayed thereby increasing the estimated time"
   ]
  },
  {
   "cell_type": "markdown",
   "metadata": {},
   "source": [
    "### Dropping columns such as actual_delivery_time , created_at since the features of this column are captured in columns like part_of_day and created_at_day."
   ]
  },
  {
   "cell_type": "code",
   "execution_count": 55,
   "metadata": {},
   "outputs": [],
   "source": [
    "copy_2 = data.copy(deep=True) #creating a second copy"
   ]
  },
  {
   "cell_type": "code",
   "execution_count": 74,
   "metadata": {},
   "outputs": [],
   "source": [
    "data = copy_2"
   ]
  },
  {
   "cell_type": "code",
   "execution_count": 75,
   "metadata": {},
   "outputs": [],
   "source": [
    "data = data.drop(columns=['actual_delivery_time','actual_delivery_time_unix','created_at','created_at_unix'])"
   ]
  },
  {
   "cell_type": "code",
   "execution_count": 76,
   "metadata": {},
   "outputs": [],
   "source": [
    "data = data[['market_id','created_at_day','part_of_day','store_id','store_primary_category','order_protocol','num_distinct_items','total_items','subtotal','max_item_price','min_item_price','total_onshift_dashers','total_busy_dashers','total_outstanding_orders','estimated_order_place_duration','estimated_store_to_consumer_driving_duration','estimated_time_for_cooking_&_pickup' ]]"
   ]
  },
  {
   "cell_type": "code",
   "execution_count": 77,
   "metadata": {},
   "outputs": [],
   "source": [
    "data = data.rename(index=str,columns={\"created_at_day\":\"Weekday\",\"part_of_day\":\"Time\"})"
   ]
  },
  {
   "cell_type": "code",
   "execution_count": 78,
   "metadata": {},
   "outputs": [
    {
     "name": "stdout",
     "output_type": "stream",
     "text": [
      "<class 'pandas.core.frame.DataFrame'>\n",
      "Index: 181000 entries, 0 to 180999\n",
      "Data columns (total 17 columns):\n",
      "market_id                                       181000 non-null float64\n",
      "Weekday                                         181000 non-null int64\n",
      "Time                                            181000 non-null int64\n",
      "store_id                                        181000 non-null int64\n",
      "store_primary_category                          176790 non-null object\n",
      "order_protocol                                  180085 non-null float64\n",
      "num_distinct_items                              181000 non-null int64\n",
      "total_items                                     181000 non-null int64\n",
      "subtotal                                        181000 non-null int64\n",
      "max_item_price                                  181000 non-null int64\n",
      "min_item_price                                  181000 non-null int64\n",
      "total_onshift_dashers                           181000 non-null float64\n",
      "total_busy_dashers                              181000 non-null float64\n",
      "total_outstanding_orders                        181000 non-null float64\n",
      "estimated_order_place_duration                  181000 non-null int64\n",
      "estimated_store_to_consumer_driving_duration    181000 non-null float64\n",
      "estimated_time_for_cooking_&_pickup             181000 non-null float64\n",
      "dtypes: float64(7), int64(9), object(1)\n",
      "memory usage: 24.9+ MB\n"
     ]
    }
   ],
   "source": [
    "data.info()"
   ]
  },
  {
   "cell_type": "markdown",
   "metadata": {},
   "source": [
    "### For a food delivery to take place, we need atleast one dasher within the range of 10 miles from the restaurant at any given time to complete the delivery. Since each row corresponds to a food delivery, we can omit rows where the available dashers are 0"
   ]
  },
  {
   "cell_type": "code",
   "execution_count": 79,
   "metadata": {},
   "outputs": [],
   "source": [
    "data = data.drop(data[data['total_onshift_dashers'] == 0.0].index)\n",
    "data = data.reset_index(drop=True)"
   ]
  },
  {
   "cell_type": "code",
   "execution_count": 80,
   "metadata": {},
   "outputs": [],
   "source": [
    "data['estimated_order_place_duration'] = data['estimated_order_place_duration'].astype('float64')\n",
    "data['market_id'] = data['market_id'].astype(str)\n",
    "data['Weekday'] = data['Weekday'].astype(str) #converting to str because they are categorical\n",
    "data['Time'] = data['Time'].astype(str)\n",
    "data['store_id'] = data['store_id'].astype(str)"
   ]
  },
  {
   "cell_type": "markdown",
   "metadata": {},
   "source": [
    "### Higher the number of onshift dashers doesn't imply a decrease in estimated_time. The amount of outstanding orders assigned to a dasher affects the estimated time which is called as workload of a dasher. Higher the workload, higher the estimated time. Let's compute the workload of a dasher at a given time."
   ]
  },
  {
   "cell_type": "code",
   "execution_count": 81,
   "metadata": {},
   "outputs": [],
   "source": [
    "data['workload'] = data['total_outstanding_orders']/data['total_onshift_dashers']"
   ]
  },
  {
   "cell_type": "code",
   "execution_count": 82,
   "metadata": {},
   "outputs": [
    {
     "name": "stdout",
     "output_type": "stream",
     "text": [
      "<class 'pandas.core.frame.DataFrame'>\n",
      "RangeIndex: 177388 entries, 0 to 177387\n",
      "Data columns (total 18 columns):\n",
      "market_id                                       177388 non-null object\n",
      "Weekday                                         177388 non-null object\n",
      "Time                                            177388 non-null object\n",
      "store_id                                        177388 non-null object\n",
      "store_primary_category                          173232 non-null object\n",
      "order_protocol                                  176486 non-null float64\n",
      "num_distinct_items                              177388 non-null int64\n",
      "total_items                                     177388 non-null int64\n",
      "subtotal                                        177388 non-null int64\n",
      "max_item_price                                  177388 non-null int64\n",
      "min_item_price                                  177388 non-null int64\n",
      "total_onshift_dashers                           177388 non-null float64\n",
      "total_busy_dashers                              177388 non-null float64\n",
      "total_outstanding_orders                        177388 non-null float64\n",
      "estimated_order_place_duration                  177388 non-null float64\n",
      "estimated_store_to_consumer_driving_duration    177388 non-null float64\n",
      "estimated_time_for_cooking_&_pickup             177388 non-null float64\n",
      "workload                                        177388 non-null float64\n",
      "dtypes: float64(8), int64(5), object(5)\n",
      "memory usage: 24.4+ MB\n"
     ]
    }
   ],
   "source": [
    "data.info()"
   ]
  },
  {
   "cell_type": "code",
   "execution_count": 83,
   "metadata": {},
   "outputs": [
    {
     "data": {
      "text/html": [
       "<div>\n",
       "<style scoped>\n",
       "    .dataframe tbody tr th:only-of-type {\n",
       "        vertical-align: middle;\n",
       "    }\n",
       "\n",
       "    .dataframe tbody tr th {\n",
       "        vertical-align: top;\n",
       "    }\n",
       "\n",
       "    .dataframe thead th {\n",
       "        text-align: right;\n",
       "    }\n",
       "</style>\n",
       "<table border=\"1\" class=\"dataframe\">\n",
       "  <thead>\n",
       "    <tr style=\"text-align: right;\">\n",
       "      <th></th>\n",
       "      <th>order_protocol</th>\n",
       "      <th>num_distinct_items</th>\n",
       "      <th>total_items</th>\n",
       "      <th>subtotal</th>\n",
       "      <th>max_item_price</th>\n",
       "      <th>min_item_price</th>\n",
       "      <th>total_onshift_dashers</th>\n",
       "      <th>total_busy_dashers</th>\n",
       "      <th>total_outstanding_orders</th>\n",
       "      <th>estimated_order_place_duration</th>\n",
       "      <th>estimated_store_to_consumer_driving_duration</th>\n",
       "      <th>estimated_time_for_cooking_&amp;_pickup</th>\n",
       "      <th>workload</th>\n",
       "    </tr>\n",
       "  </thead>\n",
       "  <tbody>\n",
       "    <tr>\n",
       "      <th>count</th>\n",
       "      <td>176486.000000</td>\n",
       "      <td>177388.000000</td>\n",
       "      <td>177388.000000</td>\n",
       "      <td>177388.000000</td>\n",
       "      <td>177388.000000</td>\n",
       "      <td>177388.000000</td>\n",
       "      <td>177388.000000</td>\n",
       "      <td>177388.000000</td>\n",
       "      <td>177388.000000</td>\n",
       "      <td>177388.000000</td>\n",
       "      <td>177388.000000</td>\n",
       "      <td>177388.000000</td>\n",
       "      <td>177388.000000</td>\n",
       "    </tr>\n",
       "    <tr>\n",
       "      <th>mean</th>\n",
       "      <td>2.898836</td>\n",
       "      <td>2.675841</td>\n",
       "      <td>3.205324</td>\n",
       "      <td>2702.113728</td>\n",
       "      <td>1162.889914</td>\n",
       "      <td>685.903291</td>\n",
       "      <td>45.741803</td>\n",
       "      <td>40.445594</td>\n",
       "      <td>59.264076</td>\n",
       "      <td>308.382258</td>\n",
       "      <td>545.929982</td>\n",
       "      <td>2000.443646</td>\n",
       "      <td>1.219223</td>\n",
       "    </tr>\n",
       "    <tr>\n",
       "      <th>std</th>\n",
       "      <td>1.513176</td>\n",
       "      <td>1.624423</td>\n",
       "      <td>2.672829</td>\n",
       "      <td>1829.415922</td>\n",
       "      <td>561.674334</td>\n",
       "      <td>521.431519</td>\n",
       "      <td>34.273139</td>\n",
       "      <td>30.801381</td>\n",
       "      <td>52.538098</td>\n",
       "      <td>90.142657</td>\n",
       "      <td>218.097442</td>\n",
       "      <td>1364.881000</td>\n",
       "      <td>0.468813</td>\n",
       "    </tr>\n",
       "    <tr>\n",
       "      <th>min</th>\n",
       "      <td>1.000000</td>\n",
       "      <td>1.000000</td>\n",
       "      <td>1.000000</td>\n",
       "      <td>0.000000</td>\n",
       "      <td>0.000000</td>\n",
       "      <td>0.000000</td>\n",
       "      <td>1.000000</td>\n",
       "      <td>0.000000</td>\n",
       "      <td>0.000000</td>\n",
       "      <td>0.000000</td>\n",
       "      <td>0.000000</td>\n",
       "      <td>1.000000</td>\n",
       "      <td>0.000000</td>\n",
       "    </tr>\n",
       "    <tr>\n",
       "      <th>25%</th>\n",
       "      <td>1.000000</td>\n",
       "      <td>2.000000</td>\n",
       "      <td>2.000000</td>\n",
       "      <td>1420.000000</td>\n",
       "      <td>799.000000</td>\n",
       "      <td>299.000000</td>\n",
       "      <td>18.000000</td>\n",
       "      <td>15.000000</td>\n",
       "      <td>18.000000</td>\n",
       "      <td>251.000000</td>\n",
       "      <td>384.000000</td>\n",
       "      <td>1270.000000</td>\n",
       "      <td>0.941176</td>\n",
       "    </tr>\n",
       "    <tr>\n",
       "      <th>50%</th>\n",
       "      <td>3.000000</td>\n",
       "      <td>2.000000</td>\n",
       "      <td>3.000000</td>\n",
       "      <td>2229.000000</td>\n",
       "      <td>1095.000000</td>\n",
       "      <td>595.000000</td>\n",
       "      <td>38.000000</td>\n",
       "      <td>33.000000</td>\n",
       "      <td>42.000000</td>\n",
       "      <td>251.000000</td>\n",
       "      <td>545.000000</td>\n",
       "      <td>1796.000000</td>\n",
       "      <td>1.200000</td>\n",
       "    </tr>\n",
       "    <tr>\n",
       "      <th>75%</th>\n",
       "      <td>4.000000</td>\n",
       "      <td>3.000000</td>\n",
       "      <td>4.000000</td>\n",
       "      <td>3423.000000</td>\n",
       "      <td>1396.000000</td>\n",
       "      <td>945.000000</td>\n",
       "      <td>66.000000</td>\n",
       "      <td>60.000000</td>\n",
       "      <td>86.000000</td>\n",
       "      <td>446.000000</td>\n",
       "      <td>702.000000</td>\n",
       "      <td>2486.000000</td>\n",
       "      <td>1.478873</td>\n",
       "    </tr>\n",
       "    <tr>\n",
       "      <th>max</th>\n",
       "      <td>7.000000</td>\n",
       "      <td>20.000000</td>\n",
       "      <td>411.000000</td>\n",
       "      <td>26800.000000</td>\n",
       "      <td>14700.000000</td>\n",
       "      <td>14700.000000</td>\n",
       "      <td>171.000000</td>\n",
       "      <td>148.000000</td>\n",
       "      <td>285.000000</td>\n",
       "      <td>2715.000000</td>\n",
       "      <td>2088.000000</td>\n",
       "      <td>331464.000000</td>\n",
       "      <td>47.000000</td>\n",
       "    </tr>\n",
       "  </tbody>\n",
       "</table>\n",
       "</div>"
      ],
      "text/plain": [
       "       order_protocol  num_distinct_items    total_items       subtotal  \\\n",
       "count   176486.000000       177388.000000  177388.000000  177388.000000   \n",
       "mean         2.898836            2.675841       3.205324    2702.113728   \n",
       "std          1.513176            1.624423       2.672829    1829.415922   \n",
       "min          1.000000            1.000000       1.000000       0.000000   \n",
       "25%          1.000000            2.000000       2.000000    1420.000000   \n",
       "50%          3.000000            2.000000       3.000000    2229.000000   \n",
       "75%          4.000000            3.000000       4.000000    3423.000000   \n",
       "max          7.000000           20.000000     411.000000   26800.000000   \n",
       "\n",
       "       max_item_price  min_item_price  total_onshift_dashers  \\\n",
       "count   177388.000000   177388.000000          177388.000000   \n",
       "mean      1162.889914      685.903291              45.741803   \n",
       "std        561.674334      521.431519              34.273139   \n",
       "min          0.000000        0.000000               1.000000   \n",
       "25%        799.000000      299.000000              18.000000   \n",
       "50%       1095.000000      595.000000              38.000000   \n",
       "75%       1396.000000      945.000000              66.000000   \n",
       "max      14700.000000    14700.000000             171.000000   \n",
       "\n",
       "       total_busy_dashers  total_outstanding_orders  \\\n",
       "count       177388.000000             177388.000000   \n",
       "mean            40.445594                 59.264076   \n",
       "std             30.801381                 52.538098   \n",
       "min              0.000000                  0.000000   \n",
       "25%             15.000000                 18.000000   \n",
       "50%             33.000000                 42.000000   \n",
       "75%             60.000000                 86.000000   \n",
       "max            148.000000                285.000000   \n",
       "\n",
       "       estimated_order_place_duration  \\\n",
       "count                   177388.000000   \n",
       "mean                       308.382258   \n",
       "std                         90.142657   \n",
       "min                          0.000000   \n",
       "25%                        251.000000   \n",
       "50%                        251.000000   \n",
       "75%                        446.000000   \n",
       "max                       2715.000000   \n",
       "\n",
       "       estimated_store_to_consumer_driving_duration  \\\n",
       "count                                 177388.000000   \n",
       "mean                                     545.929982   \n",
       "std                                      218.097442   \n",
       "min                                        0.000000   \n",
       "25%                                      384.000000   \n",
       "50%                                      545.000000   \n",
       "75%                                      702.000000   \n",
       "max                                     2088.000000   \n",
       "\n",
       "       estimated_time_for_cooking_&_pickup       workload  \n",
       "count                        177388.000000  177388.000000  \n",
       "mean                           2000.443646       1.219223  \n",
       "std                            1364.881000       0.468813  \n",
       "min                               1.000000       0.000000  \n",
       "25%                            1270.000000       0.941176  \n",
       "50%                            1796.000000       1.200000  \n",
       "75%                            2486.000000       1.478873  \n",
       "max                          331464.000000      47.000000  "
      ]
     },
     "execution_count": 83,
     "metadata": {},
     "output_type": "execute_result"
    }
   ],
   "source": [
    "data.describe()"
   ]
  },
  {
   "cell_type": "markdown",
   "metadata": {},
   "source": [
    "### Although we have been looking at certain nuances of noise in data, there exists some outliers in our data which can impact the performance of our predictive model. Ex: the mean value of total_items is centered around 3.2 while the maximum value of total_items is 411 per order which seems to be an outlier. \n",
    "\n",
    "### We can get rid of outliers by performing a z test on the variables and if the z value is greater than 3.0, we can consider them to be an outlier and drop those rows to get good data"
   ]
  },
  {
   "cell_type": "code",
   "execution_count": 84,
   "metadata": {},
   "outputs": [],
   "source": [
    "dummy = data.loc[:,'num_distinct_items':'total_outstanding_orders']\n",
    "z = np.abs(scipy.stats.zscore(dummy))"
   ]
  },
  {
   "cell_type": "code",
   "execution_count": 85,
   "metadata": {},
   "outputs": [
    {
     "data": {
      "text/plain": [
       "11238"
      ]
     },
     "execution_count": 85,
     "metadata": {},
     "output_type": "execute_result"
    }
   ],
   "source": [
    "index = np.unique(np.where(z>=3)[0])\n",
    "len(index)"
   ]
  },
  {
   "cell_type": "code",
   "execution_count": 86,
   "metadata": {},
   "outputs": [],
   "source": [
    "data = data.drop(data.index[index])"
   ]
  },
  {
   "cell_type": "code",
   "execution_count": 87,
   "metadata": {},
   "outputs": [],
   "source": [
    "data = data.reset_index(drop=True)"
   ]
  },
  {
   "cell_type": "code",
   "execution_count": 88,
   "metadata": {},
   "outputs": [
    {
     "data": {
      "text/html": [
       "<div>\n",
       "<style scoped>\n",
       "    .dataframe tbody tr th:only-of-type {\n",
       "        vertical-align: middle;\n",
       "    }\n",
       "\n",
       "    .dataframe tbody tr th {\n",
       "        vertical-align: top;\n",
       "    }\n",
       "\n",
       "    .dataframe thead th {\n",
       "        text-align: right;\n",
       "    }\n",
       "</style>\n",
       "<table border=\"1\" class=\"dataframe\">\n",
       "  <thead>\n",
       "    <tr style=\"text-align: right;\">\n",
       "      <th></th>\n",
       "      <th>order_protocol</th>\n",
       "      <th>num_distinct_items</th>\n",
       "      <th>total_items</th>\n",
       "      <th>subtotal</th>\n",
       "      <th>max_item_price</th>\n",
       "      <th>min_item_price</th>\n",
       "      <th>total_onshift_dashers</th>\n",
       "      <th>total_busy_dashers</th>\n",
       "      <th>total_outstanding_orders</th>\n",
       "      <th>estimated_order_place_duration</th>\n",
       "      <th>estimated_store_to_consumer_driving_duration</th>\n",
       "      <th>estimated_time_for_cooking_&amp;_pickup</th>\n",
       "      <th>workload</th>\n",
       "    </tr>\n",
       "  </thead>\n",
       "  <tbody>\n",
       "    <tr>\n",
       "      <th>count</th>\n",
       "      <td>165291.000000</td>\n",
       "      <td>166150.000000</td>\n",
       "      <td>166150.000000</td>\n",
       "      <td>166150.000000</td>\n",
       "      <td>166150.000000</td>\n",
       "      <td>166150.000000</td>\n",
       "      <td>166150.000000</td>\n",
       "      <td>166150.000000</td>\n",
       "      <td>166150.000000</td>\n",
       "      <td>166150.000000</td>\n",
       "      <td>166150.000000</td>\n",
       "      <td>166150.000000</td>\n",
       "      <td>166150.000000</td>\n",
       "    </tr>\n",
       "    <tr>\n",
       "      <th>mean</th>\n",
       "      <td>2.903020</td>\n",
       "      <td>2.548914</td>\n",
       "      <td>2.955095</td>\n",
       "      <td>2493.202745</td>\n",
       "      <td>1107.999717</td>\n",
       "      <td>660.022913</td>\n",
       "      <td>44.614980</td>\n",
       "      <td>39.432061</td>\n",
       "      <td>57.212856</td>\n",
       "      <td>308.471857</td>\n",
       "      <td>545.473946</td>\n",
       "      <td>1967.714396</td>\n",
       "      <td>1.212894</td>\n",
       "    </tr>\n",
       "    <tr>\n",
       "      <th>std</th>\n",
       "      <td>1.517477</td>\n",
       "      <td>1.371771</td>\n",
       "      <td>1.768288</td>\n",
       "      <td>1457.401387</td>\n",
       "      <td>436.656901</td>\n",
       "      <td>427.843214</td>\n",
       "      <td>33.142705</td>\n",
       "      <td>29.776327</td>\n",
       "      <td>49.700565</td>\n",
       "      <td>90.243412</td>\n",
       "      <td>218.235379</td>\n",
       "      <td>1373.215410</td>\n",
       "      <td>0.469018</td>\n",
       "    </tr>\n",
       "    <tr>\n",
       "      <th>min</th>\n",
       "      <td>1.000000</td>\n",
       "      <td>1.000000</td>\n",
       "      <td>1.000000</td>\n",
       "      <td>0.000000</td>\n",
       "      <td>0.000000</td>\n",
       "      <td>0.000000</td>\n",
       "      <td>1.000000</td>\n",
       "      <td>0.000000</td>\n",
       "      <td>0.000000</td>\n",
       "      <td>0.000000</td>\n",
       "      <td>0.000000</td>\n",
       "      <td>1.000000</td>\n",
       "      <td>0.000000</td>\n",
       "    </tr>\n",
       "    <tr>\n",
       "      <th>25%</th>\n",
       "      <td>1.000000</td>\n",
       "      <td>1.000000</td>\n",
       "      <td>2.000000</td>\n",
       "      <td>1395.000000</td>\n",
       "      <td>799.000000</td>\n",
       "      <td>300.000000</td>\n",
       "      <td>18.000000</td>\n",
       "      <td>15.000000</td>\n",
       "      <td>18.000000</td>\n",
       "      <td>251.000000</td>\n",
       "      <td>384.000000</td>\n",
       "      <td>1249.000000</td>\n",
       "      <td>0.937500</td>\n",
       "    </tr>\n",
       "    <tr>\n",
       "      <th>50%</th>\n",
       "      <td>3.000000</td>\n",
       "      <td>2.000000</td>\n",
       "      <td>3.000000</td>\n",
       "      <td>2148.000000</td>\n",
       "      <td>1050.000000</td>\n",
       "      <td>595.000000</td>\n",
       "      <td>37.000000</td>\n",
       "      <td>33.000000</td>\n",
       "      <td>41.000000</td>\n",
       "      <td>251.000000</td>\n",
       "      <td>544.000000</td>\n",
       "      <td>1763.000000</td>\n",
       "      <td>1.200000</td>\n",
       "    </tr>\n",
       "    <tr>\n",
       "      <th>75%</th>\n",
       "      <td>4.000000</td>\n",
       "      <td>3.000000</td>\n",
       "      <td>4.000000</td>\n",
       "      <td>3250.000000</td>\n",
       "      <td>1358.000000</td>\n",
       "      <td>925.000000</td>\n",
       "      <td>65.000000</td>\n",
       "      <td>59.000000</td>\n",
       "      <td>84.000000</td>\n",
       "      <td>446.000000</td>\n",
       "      <td>702.000000</td>\n",
       "      <td>2441.000000</td>\n",
       "      <td>1.469136</td>\n",
       "    </tr>\n",
       "    <tr>\n",
       "      <th>max</th>\n",
       "      <td>7.000000</td>\n",
       "      <td>7.000000</td>\n",
       "      <td>11.000000</td>\n",
       "      <td>8190.000000</td>\n",
       "      <td>2838.000000</td>\n",
       "      <td>2250.000000</td>\n",
       "      <td>148.000000</td>\n",
       "      <td>132.000000</td>\n",
       "      <td>216.000000</td>\n",
       "      <td>2715.000000</td>\n",
       "      <td>2088.000000</td>\n",
       "      <td>331464.000000</td>\n",
       "      <td>47.000000</td>\n",
       "    </tr>\n",
       "  </tbody>\n",
       "</table>\n",
       "</div>"
      ],
      "text/plain": [
       "       order_protocol  num_distinct_items    total_items       subtotal  \\\n",
       "count   165291.000000       166150.000000  166150.000000  166150.000000   \n",
       "mean         2.903020            2.548914       2.955095    2493.202745   \n",
       "std          1.517477            1.371771       1.768288    1457.401387   \n",
       "min          1.000000            1.000000       1.000000       0.000000   \n",
       "25%          1.000000            1.000000       2.000000    1395.000000   \n",
       "50%          3.000000            2.000000       3.000000    2148.000000   \n",
       "75%          4.000000            3.000000       4.000000    3250.000000   \n",
       "max          7.000000            7.000000      11.000000    8190.000000   \n",
       "\n",
       "       max_item_price  min_item_price  total_onshift_dashers  \\\n",
       "count   166150.000000   166150.000000          166150.000000   \n",
       "mean      1107.999717      660.022913              44.614980   \n",
       "std        436.656901      427.843214              33.142705   \n",
       "min          0.000000        0.000000               1.000000   \n",
       "25%        799.000000      300.000000              18.000000   \n",
       "50%       1050.000000      595.000000              37.000000   \n",
       "75%       1358.000000      925.000000              65.000000   \n",
       "max       2838.000000     2250.000000             148.000000   \n",
       "\n",
       "       total_busy_dashers  total_outstanding_orders  \\\n",
       "count       166150.000000             166150.000000   \n",
       "mean            39.432061                 57.212856   \n",
       "std             29.776327                 49.700565   \n",
       "min              0.000000                  0.000000   \n",
       "25%             15.000000                 18.000000   \n",
       "50%             33.000000                 41.000000   \n",
       "75%             59.000000                 84.000000   \n",
       "max            132.000000                216.000000   \n",
       "\n",
       "       estimated_order_place_duration  \\\n",
       "count                   166150.000000   \n",
       "mean                       308.471857   \n",
       "std                         90.243412   \n",
       "min                          0.000000   \n",
       "25%                        251.000000   \n",
       "50%                        251.000000   \n",
       "75%                        446.000000   \n",
       "max                       2715.000000   \n",
       "\n",
       "       estimated_store_to_consumer_driving_duration  \\\n",
       "count                                 166150.000000   \n",
       "mean                                     545.473946   \n",
       "std                                      218.235379   \n",
       "min                                        0.000000   \n",
       "25%                                      384.000000   \n",
       "50%                                      544.000000   \n",
       "75%                                      702.000000   \n",
       "max                                     2088.000000   \n",
       "\n",
       "       estimated_time_for_cooking_&_pickup       workload  \n",
       "count                        166150.000000  166150.000000  \n",
       "mean                           1967.714396       1.212894  \n",
       "std                            1373.215410       0.469018  \n",
       "min                               1.000000       0.000000  \n",
       "25%                            1249.000000       0.937500  \n",
       "50%                            1763.000000       1.200000  \n",
       "75%                            2441.000000       1.469136  \n",
       "max                          331464.000000      47.000000  "
      ]
     },
     "execution_count": 88,
     "metadata": {},
     "output_type": "execute_result"
    }
   ],
   "source": [
    "data.describe() # Now some outliers are gone which is evident from the description"
   ]
  },
  {
   "cell_type": "markdown",
   "metadata": {},
   "source": [
    "### Since the estimated_order_place_duration and estimated_store_to_consumer_driving_duration are constants, we can add them to the predicted value of estimated_time_for_cooking_&__pickup. We can drop them for now"
   ]
  },
  {
   "cell_type": "code",
   "execution_count": 89,
   "metadata": {},
   "outputs": [],
   "source": [
    "data = data.drop(columns=['estimated_order_place_duration','estimated_store_to_consumer_driving_duration'])"
   ]
  },
  {
   "cell_type": "markdown",
   "metadata": {},
   "source": [
    "### Data Visualization with respect to parameters that might affect the estimated_time"
   ]
  },
  {
   "cell_type": "markdown",
   "metadata": {},
   "source": [
    "### Analysis wrt days of the week"
   ]
  },
  {
   "cell_type": "code",
   "execution_count": 160,
   "metadata": {},
   "outputs": [
    {
     "data": {
      "image/png": "[encoded data removed]",
      "text/plain": [
       "<matplotlib.figure.Figure at 0x1a33bc4e48>"
      ]
     },
     "metadata": {},
     "output_type": "display_data"
    },
    {
     "data": {
      "text/plain": [
       "<matplotlib.figure.Figure at 0x1a33ba20f0>"
      ]
     },
     "metadata": {},
     "output_type": "display_data"
    }
   ],
   "source": [
    "df = data.groupby('Weekday')['Weekday'].count()\n",
    "value = np.array(df.values)\n",
    "value = value/len(data)\n",
    "day = sorted(list(data['Weekday'].unique()))\n",
    "colors = ['gold', 'yellowgreen', 'lightcoral', 'lightskyblue','green','maroon','yellow']\n",
    "plt.pie(value, labels=day, colors=colors,\n",
    "        autopct='%1.1f%%', shadow=True, startangle=140)\n",
    "plt.show()  \n",
    "# Distribution of Demand across various days of the week from historical data\n",
    "plt.savefig(\"1.png\")"
   ]
  },
  {
   "cell_type": "code",
   "execution_count": 161,
   "metadata": {},
   "outputs": [
    {
     "data": {
      "image/png": "[encoded data removed]",
      "text/plain": [
       "<matplotlib.figure.Figure at 0x1a343a6e80>"
      ]
     },
     "metadata": {},
     "output_type": "display_data"
    }
   ],
   "source": [
    "workload = data[['Weekday','total_onshift_dashers']].groupby('Weekday',as_index=False).mean()\n",
    "x = workload['Weekday']\n",
    "y = workload['total_onshift_dashers']\n",
    "plt.bar(x,y)\n",
    "plt.xlabel('Weekday')\n",
    "plt.ylabel('Average on-shift dashers')\n",
    "# Allocation of on-shift dashers is propotional to demand across days\n",
    "plt.savefig(\"2.png\")"
   ]
  },
  {
   "cell_type": "code",
   "execution_count": 162,
   "metadata": {},
   "outputs": [
    {
     "data": {
      "image/png": "[encoded data removed]",
      "text/plain": [
       "<matplotlib.figure.Figure at 0x1a33ce1f28>"
      ]
     },
     "metadata": {},
     "output_type": "display_data"
    }
   ],
   "source": [
    "# Average workload\n",
    "workload = data[['Weekday','workload']].groupby('Weekday',as_index=False).mean()\n",
    "x = workload['Weekday']\n",
    "y = workload['workload']\n",
    "plt.bar(x,y)\n",
    "plt.xlabel('Weekday')\n",
    "plt.ylabel('Average Workload for a dasher') #Highest on Monday\n",
    "plt.savefig(\"3.png\")"
   ]
  },
  {
   "cell_type": "code",
   "execution_count": 163,
   "metadata": {},
   "outputs": [],
   "source": [
    "data_heatmap = data[['Weekday','Time','workload']]"
   ]
  },
  {
   "cell_type": "code",
   "execution_count": 164,
   "metadata": {},
   "outputs": [],
   "source": [
    "data_heat = data_heatmap.groupby(['Weekday','Time']).mean()"
   ]
  },
  {
   "cell_type": "code",
   "execution_count": 165,
   "metadata": {},
   "outputs": [],
   "source": [
    "a = data_heat.workload.values\n",
    "b = np.array(['Monday','Tuesday','Wednesday','Thursday','Friday','Saturday','Sunday'])\n",
    "c = np.array([0,1,2])"
   ]
  },
  {
   "cell_type": "code",
   "execution_count": 166,
   "metadata": {},
   "outputs": [],
   "source": [
    "data_heat = pd.DataFrame(a.reshape(7,3), index=b, columns=c)"
   ]
  },
  {
   "cell_type": "code",
   "execution_count": 167,
   "metadata": {},
   "outputs": [
    {
     "data": {
      "text/plain": [
       "<matplotlib.axes._subplots.AxesSubplot at 0x1a33c879b0>"
      ]
     },
     "execution_count": 167,
     "metadata": {},
     "output_type": "execute_result"
    },
    {
     "data": {
      "image/png": "[encoded data removed]",
      "text/plain": [
       "<matplotlib.figure.Figure at 0x1a33c76668>"
      ]
     },
     "metadata": {},
     "output_type": "display_data"
    }
   ],
   "source": [
    "sns.heatmap(data_heat,annot=True)"
   ]
  },
  {
   "cell_type": "code",
   "execution_count": 168,
   "metadata": {},
   "outputs": [],
   "source": [
    "data_heatmap2 = data[['Weekday','Time','total_onshift_dashers']]"
   ]
  },
  {
   "cell_type": "code",
   "execution_count": 169,
   "metadata": {},
   "outputs": [],
   "source": [
    "data_heat2 = data_heatmap2.groupby(['Weekday','Time']).mean()"
   ]
  },
  {
   "cell_type": "code",
   "execution_count": 170,
   "metadata": {},
   "outputs": [],
   "source": [
    "a2 = data_heat2.total_onshift_dashers.values\n",
    "b2 = np.array(['Monday','Tuesday','Wednesday','Thursday','Friday','Saturday','Sunday'])\n",
    "c2 = np.array([0,1,2])"
   ]
  },
  {
   "cell_type": "code",
   "execution_count": 171,
   "metadata": {},
   "outputs": [],
   "source": [
    "data_heat2 = pd.DataFrame(a2.reshape(7,3), index=b2, columns=c2)"
   ]
  },
  {
   "cell_type": "code",
   "execution_count": 172,
   "metadata": {},
   "outputs": [
    {
     "data": {
      "text/plain": [
       "<matplotlib.axes._subplots.AxesSubplot at 0x1a33b79240>"
      ]
     },
     "execution_count": 172,
     "metadata": {},
     "output_type": "execute_result"
    },
    {
     "data": {
      "image/png": "[encoded data removed]",
      "text/plain": [
       "<matplotlib.figure.Figure at 0x1a33b3d390>"
      ]
     },
     "metadata": {},
     "output_type": "display_data"
    }
   ],
   "source": [
    "sns.heatmap(data_heat2,annot=True)"
   ]
  },
  {
   "cell_type": "code",
   "execution_count": 173,
   "metadata": {},
   "outputs": [
    {
     "data": {
      "image/png": "[encoded data removed]",
      "text/plain": [
       "<matplotlib.figure.Figure at 0x1a342ccdd8>"
      ]
     },
     "metadata": {},
     "output_type": "display_data"
    }
   ],
   "source": [
    "# Average estimated time\n",
    "duration = data[['Weekday','estimated_time_for_cooking_&_pickup']].groupby('Weekday',as_index=False).mean()\n",
    "x = duration['Weekday']\n",
    "y = duration['estimated_time_for_cooking_&_pickup']\n",
    "plt.bar(x,y)\n",
    "plt.xlabel('Weekday')\n",
    "plt.ylabel('Average_Estimated_Time') \n",
    "# This plot and the plot before give us an indication that estimated_time depends on workload of dasher\n",
    "plt.savefig(\"4.png\")"
   ]
  },
  {
   "cell_type": "code",
   "execution_count": 174,
   "metadata": {},
   "outputs": [
    {
     "data": {
      "text/plain": [
       "Text(0,0.5,'Average Item per order')"
      ]
     },
     "execution_count": 174,
     "metadata": {},
     "output_type": "execute_result"
    },
    {
     "data": {
      "image/png": "[encoded data removed]",
      "text/plain": [
       "<matplotlib.figure.Figure at 0x1a3438a710>"
      ]
     },
     "metadata": {},
     "output_type": "display_data"
    }
   ],
   "source": [
    "# Average items per order\n",
    "duration = data[['Weekday','total_items']].groupby('Weekday',as_index=False).mean()\n",
    "x = duration['Weekday']\n",
    "y = duration['total_items']\n",
    "plt.bar(x,y)\n",
    "plt.xlabel('Weekday')\n",
    "plt.ylabel('Average Item per order') # Not much variation"
   ]
  },
  {
   "cell_type": "markdown",
   "metadata": {},
   "source": [
    "### Analysis wrt parts of the day"
   ]
  },
  {
   "cell_type": "code",
   "execution_count": 175,
   "metadata": {},
   "outputs": [
    {
     "data": {
      "image/png": "[encoded data removed]",
      "text/plain": [
       "<matplotlib.figure.Figure at 0x1a3381e0f0>"
      ]
     },
     "metadata": {},
     "output_type": "display_data"
    },
    {
     "data": {
      "text/plain": [
       "<matplotlib.figure.Figure at 0x1a337e1710>"
      ]
     },
     "metadata": {},
     "output_type": "display_data"
    }
   ],
   "source": [
    "df = data.groupby('Time')['Weekday'].count()\n",
    "value = np.array(df.values)\n",
    "value = value/len(data)\n",
    "day = sorted(list(data['Time'].unique()))\n",
    "colors = ['gold', 'yellowgreen', 'lightcoral']\n",
    "plt.pie(value, labels=day, colors=colors,\n",
    "        autopct='%1.1f%%', shadow=True, startangle=200)\n",
    "plt.show()\n",
    "# Most of the orders take place after 6:00 pm in the night\n",
    "plt.savefig(\"5.png\")"
   ]
  },
  {
   "cell_type": "code",
   "execution_count": 176,
   "metadata": {},
   "outputs": [
    {
     "data": {
      "image/png": "[encoded data removed]",
      "text/plain": [
       "<matplotlib.figure.Figure at 0x1a33811a58>"
      ]
     },
     "metadata": {},
     "output_type": "display_data"
    }
   ],
   "source": [
    "time = data[['Time','total_onshift_dashers']].groupby('Time',as_index=True).mean()\n",
    "x = data['Time'].unique()\n",
    "y = time['total_onshift_dashers']\n",
    "plt.bar(x,y,color='purple')\n",
    "plt.xlabel('Time of the day')\n",
    "plt.ylabel('Average on-shift dashers')\n",
    "# Although the demand is most in after 6:00 pm, the average on-shift dashers are less after 6:00 pm on average \n",
    "#thereby increasing the workload of dasher\n",
    "plt.savefig(\"6.png\")"
   ]
  },
  {
   "cell_type": "code",
   "execution_count": 177,
   "metadata": {},
   "outputs": [
    {
     "data": {
      "text/plain": [
       "Text(0,0.5,'Average outstanding order')"
      ]
     },
     "execution_count": 177,
     "metadata": {},
     "output_type": "execute_result"
    },
    {
     "data": {
      "image/png": "[encoded data removed]",
      "text/plain": [
       "<matplotlib.figure.Figure at 0x1a3369b4e0>"
      ]
     },
     "metadata": {},
     "output_type": "display_data"
    }
   ],
   "source": [
    "time = data[['Time','total_outstanding_orders']].groupby('Time',as_index=True).mean()\n",
    "x = data['Time'].unique()\n",
    "y = time['total_outstanding_orders']\n",
    "plt.bar(x,y,color='purple')\n",
    "plt.xlabel('Time of the day')\n",
    "plt.ylabel('Average outstanding order') "
   ]
  },
  {
   "cell_type": "code",
   "execution_count": 178,
   "metadata": {},
   "outputs": [
    {
     "data": {
      "image/png": "[encoded data removed]",
      "text/plain": [
       "<matplotlib.figure.Figure at 0x1a335eef28>"
      ]
     },
     "metadata": {},
     "output_type": "display_data"
    }
   ],
   "source": [
    "time = data[['Time','workload']].groupby('Time',as_index=True).mean()\n",
    "x = data['Time'].unique()\n",
    "y = time['workload']\n",
    "plt.bar(x,y,color='purple')\n",
    "plt.xlabel('Time of the day')\n",
    "plt.ylabel('Average workload of a dasher')\n",
    "plt.savefig(\"7.png\")"
   ]
  },
  {
   "cell_type": "code",
   "execution_count": 179,
   "metadata": {},
   "outputs": [
    {
     "data": {
      "image/png": "[encoded data removed]",
      "text/plain": [
       "<matplotlib.figure.Figure at 0x1a3354eef0>"
      ]
     },
     "metadata": {},
     "output_type": "display_data"
    }
   ],
   "source": [
    "time = data[['Time','estimated_time_for_cooking_&_pickup']].groupby('Time',as_index=True).mean()\n",
    "x = data['Time'].unique()\n",
    "y = time['estimated_time_for_cooking_&_pickup']\n",
    "plt.bar(x,y,color='purple')\n",
    "plt.xlabel('Time of the day')\n",
    "plt.ylabel('Average estimated time') # estimated time is related to the average workload of dasher\n",
    "plt.savefig(\"8.png\")"
   ]
  },
  {
   "cell_type": "code",
   "execution_count": 180,
   "metadata": {},
   "outputs": [
    {
     "data": {
      "text/plain": [
       "Text(0,0.5,'Average items per order')"
      ]
     },
     "execution_count": 180,
     "metadata": {},
     "output_type": "execute_result"
    },
    {
     "data": {
      "image/png": "[encoded data removed]",
      "text/plain": [
       "<matplotlib.figure.Figure at 0x1a334d33c8>"
      ]
     },
     "metadata": {},
     "output_type": "display_data"
    }
   ],
   "source": [
    "time = data[['Time','total_items']].groupby('Time',as_index=True).mean()\n",
    "x = data['Time'].unique()\n",
    "y = time['total_items']\n",
    "plt.bar(x,y,color='purple')\n",
    "plt.xlabel('Time of the day')\n",
    "plt.ylabel('Average items per order') # Not much variation"
   ]
  },
  {
   "cell_type": "code",
   "execution_count": null,
   "metadata": {},
   "outputs": [],
   "source": []
  },
  {
   "cell_type": "markdown",
   "metadata": {},
   "source": [
    "### Analysis wrt to market region"
   ]
  },
  {
   "cell_type": "code",
   "execution_count": 181,
   "metadata": {},
   "outputs": [
    {
     "data": {
      "image/png": "[encoded data removed]",
      "text/plain": [
       "<matplotlib.figure.Figure at 0x1a33575518>"
      ]
     },
     "metadata": {},
     "output_type": "display_data"
    },
    {
     "data": {
      "text/plain": [
       "<matplotlib.figure.Figure at 0x1a333ee1d0>"
      ]
     },
     "metadata": {},
     "output_type": "display_data"
    }
   ],
   "source": [
    "df = data.groupby('market_id')['Weekday'].count()\n",
    "value = np.array(df.values)\n",
    "value = value/len(data)\n",
    "day = sorted(list(data['market_id'].unique()))\n",
    "colors = ['gold', 'yellowgreen', 'lightcoral', 'lightskyblue','green','maroon']\n",
    "plt.pie(value, labels=day, colors=colors,\n",
    "        autopct='%1.1f%%', shadow=True, startangle=140)\n",
    "plt.show() #Demand across region 2 and 4 are the highest\n",
    "plt.savefig(\"9.png\")"
   ]
  },
  {
   "cell_type": "code",
   "execution_count": 182,
   "metadata": {},
   "outputs": [
    {
     "data": {
      "image/png": "[encoded data removed]",
      "text/plain": [
       "<matplotlib.figure.Figure at 0x1a3342c358>"
      ]
     },
     "metadata": {},
     "output_type": "display_data"
    }
   ],
   "source": [
    "workload_2 = data[['market_id','total_onshift_dashers']].groupby('market_id',as_index=False).mean()\n",
    "x = workload_2['market_id']\n",
    "y = workload_2['total_onshift_dashers']\n",
    "plt.bar(x,y,color='red')\n",
    "plt.xlabel('Market ID')\n",
    "plt.ylabel('Average on-shift dashers available') \n",
    "# 2nd RECOMMENDATION HERE\n",
    "plt.savefig(\"10.png\")"
   ]
  },
  {
   "cell_type": "code",
   "execution_count": 183,
   "metadata": {},
   "outputs": [
    {
     "data": {
      "image/png": "[encoded data removed]",
      "text/plain": [
       "<matplotlib.figure.Figure at 0x1a3342c518>"
      ]
     },
     "metadata": {},
     "output_type": "display_data"
    }
   ],
   "source": [
    "workload_2 = data[['market_id','workload']].groupby('market_id',as_index=False).mean()\n",
    "x = workload_2['market_id']\n",
    "y = workload_2['workload']\n",
    "plt.bar(x,y,color='red')\n",
    "plt.xlabel('Market ID')\n",
    "plt.ylabel('Average Workload of Dasher in that region') \n",
    "# Even though the demand is less in region 6, the average workload and estimated time are high.\n",
    "plt.savefig(\"11.png\")"
   ]
  },
  {
   "cell_type": "code",
   "execution_count": 184,
   "metadata": {},
   "outputs": [
    {
     "data": {
      "image/png": "[encoded data removed]",
      "text/plain": [
       "<matplotlib.figure.Figure at 0x1a331f0e48>"
      ]
     },
     "metadata": {},
     "output_type": "display_data"
    }
   ],
   "source": [
    "duration_2 = data[['market_id','estimated_time_for_cooking_&_pickup']].groupby('market_id',as_index=False).mean()\n",
    "x = duration_2['market_id']\n",
    "y = duration_2['estimated_time_for_cooking_&_pickup']\n",
    "plt.bar(x,y,color='red')\n",
    "plt.xlabel('Market ID')\n",
    "plt.ylabel('Average_Estimated_Time for Region')\n",
    "plt.savefig(\"12.png\")"
   ]
  },
  {
   "cell_type": "code",
   "execution_count": 185,
   "metadata": {},
   "outputs": [
    {
     "data": {
      "text/plain": [
       "Text(0,0.5,'Average items per order')"
      ]
     },
     "execution_count": 185,
     "metadata": {},
     "output_type": "execute_result"
    },
    {
     "data": {
      "image/png": "[encoded data removed]",
      "text/plain": [
       "<matplotlib.figure.Figure at 0x1a336f29b0>"
      ]
     },
     "metadata": {},
     "output_type": "display_data"
    }
   ],
   "source": [
    "duration_3 = data[['market_id','total_items']].groupby('market_id',as_index=False).mean()\n",
    "x = duration_3['market_id']\n",
    "y = duration_3['total_items']\n",
    "plt.bar(x,y,color='red')\n",
    "plt.xlabel('Market ID')\n",
    "plt.ylabel('Average items per order') # Not much variation"
   ]
  },
  {
   "cell_type": "code",
   "execution_count": 188,
   "metadata": {},
   "outputs": [],
   "source": [
    "data_heat3 = data[['market_id','Weekday','workload']]\n",
    "data_heat4 = data[['market_id','Time','workload']]"
   ]
  },
  {
   "cell_type": "code",
   "execution_count": 193,
   "metadata": {},
   "outputs": [],
   "source": [
    "data_heat3 = data_heat3.groupby(['Weekday','market_id']).mean()\n",
    "data_heat4 = data_heat4.groupby(['market_id','Time']).mean()"
   ]
  },
  {
   "cell_type": "code",
   "execution_count": 195,
   "metadata": {},
   "outputs": [],
   "source": [
    "market_id = np.array([1.0,2.0,3.0,4.0,5.0,6.0])\n",
    "b = np.array(['Monday','Tuesday','Wednesday','Thursday','Friday','Saturday','Sunday'])\n",
    "c = np.array([0,1,2])"
   ]
  },
  {
   "cell_type": "code",
   "execution_count": 199,
   "metadata": {},
   "outputs": [],
   "source": [
    "val1 = data_heat3.workload.values.reshape(7,6)\n",
    "val2 = data_heat4.workload.values.reshape(3,6)"
   ]
  },
  {
   "cell_type": "code",
   "execution_count": 200,
   "metadata": {},
   "outputs": [],
   "source": [
    "data_heat3 = pd.DataFrame(val1, index=b, columns=market_id)\n",
    "data_heat4 = pd.DataFrame(val2,index=c,columns=market_id)"
   ]
  },
  {
   "cell_type": "code",
   "execution_count": 203,
   "metadata": {},
   "outputs": [
    {
     "data": {
      "text/plain": [
       "<matplotlib.axes._subplots.AxesSubplot at 0x1a334e0208>"
      ]
     },
     "execution_count": 203,
     "metadata": {},
     "output_type": "execute_result"
    },
    {
     "data": {
      "image/png": "[encoded data removed]",
      "text/plain": [
       "<matplotlib.figure.Figure at 0x1a3359c748>"
      ]
     },
     "metadata": {},
     "output_type": "display_data"
    }
   ],
   "source": [
    "sns.heatmap(data_heat3,annot=True)"
   ]
  },
  {
   "cell_type": "code",
   "execution_count": 202,
   "metadata": {},
   "outputs": [
    {
     "data": {
      "text/plain": [
       "<matplotlib.axes._subplots.AxesSubplot at 0x1a33154240>"
      ]
     },
     "execution_count": 202,
     "metadata": {},
     "output_type": "execute_result"
    },
    {
     "data": {
      "image/png": "[encoded data removed]",
      "text/plain": [
       "<matplotlib.figure.Figure at 0x1a331e10b8>"
      ]
     },
     "metadata": {},
     "output_type": "display_data"
    }
   ],
   "source": [
    "sns.heatmap(data_heat4,annot=True)"
   ]
  },
  {
   "cell_type": "code",
   "execution_count": 204,
   "metadata": {},
   "outputs": [],
   "source": [
    "copy_3 = data.copy(deep=True)"
   ]
  },
  {
   "cell_type": "code",
   "execution_count": null,
   "metadata": {},
   "outputs": [],
   "source": []
  },
  {
   "cell_type": "markdown",
   "metadata": {},
   "source": [
    "### As we had already discussed, the estimated_time_for_cooking_&__pickup is made up of 2 parts:\n",
    "### 1. Time for cooking\n",
    "### 2. Time for pickup by dasher\n",
    "### The distribution of these parts are not evident for each delivery. We had already seen that estimated_time_for_cooking_&__pickup is dependent on the workload of dasher( More the workload, more deliveries by single dasher, therefore the pickup_time for the next order gets delayed).\n",
    "### Let's study the relationship of cuisine type with estimated_time\n",
    "### Before the EDA, let's clean the cuisine column and fill-up the null values"
   ]
  },
  {
   "cell_type": "code",
   "execution_count": 205,
   "metadata": {},
   "outputs": [],
   "source": [
    "cuisine = data.groupby(['store_id']).apply(lambda x: x['store_primary_category'].value_counts())"
   ]
  },
  {
   "cell_type": "code",
   "execution_count": 206,
   "metadata": {},
   "outputs": [],
   "source": [
    "mask = cuisine.groupby(level=\"store_id\").apply(lambda x: x == x[x.idxmax()])"
   ]
  },
  {
   "cell_type": "code",
   "execution_count": 207,
   "metadata": {},
   "outputs": [],
   "source": [
    "final_cuisine = cuisine[mask]"
   ]
  },
  {
   "cell_type": "code",
   "execution_count": 208,
   "metadata": {},
   "outputs": [],
   "source": [
    "cuisines = final_cuisine.index.tolist()"
   ]
  },
  {
   "cell_type": "code",
   "execution_count": 209,
   "metadata": {},
   "outputs": [],
   "source": [
    "mapping = dict(cuisines)"
   ]
  },
  {
   "cell_type": "code",
   "execution_count": 210,
   "metadata": {},
   "outputs": [],
   "source": [
    "data['store_primary_category'] = data.apply(lambda x: mapping[x['store_id']] if x['store_id'] in mapping else x['store_primary_category'],axis=1)"
   ]
  },
  {
   "cell_type": "code",
   "execution_count": 211,
   "metadata": {},
   "outputs": [],
   "source": [
    "copy_4 = data.copy()"
   ]
  },
  {
   "cell_type": "markdown",
   "metadata": {},
   "source": [
    "### To check the relationship between cuisine and estimated time, I am removing rows where the cuisine is not defined as the original dataset doesn't have store_id -> store_primary_category mapping for all store_id's"
   ]
  },
  {
   "cell_type": "code",
   "execution_count": 212,
   "metadata": {},
   "outputs": [],
   "source": [
    "cuisines = data.dropna(subset=['store_primary_category'])\n",
    "cuisines = cuisines.reset_index(drop=True)"
   ]
  },
  {
   "cell_type": "markdown",
   "metadata": {},
   "source": [
    "### Analysis wrt to cuisine"
   ]
  },
  {
   "cell_type": "code",
   "execution_count": 213,
   "metadata": {},
   "outputs": [
    {
     "data": {
      "image/png": "[encoded data removed]",
      "text/plain": [
       "<matplotlib.figure.Figure at 0x1a33b024a8>"
      ]
     },
     "metadata": {},
     "output_type": "display_data"
    }
   ],
   "source": [
    "dist_cuisine = cuisines.groupby(['store_primary_category'])['Weekday'].count().sort_values(ascending=False)\n",
    "dist = np.array(dist_cuisine.values)\n",
    "dist = dist/len(cuisines)\n",
    "types = np.array(dist_cuisine.index)\n",
    "index = range(len(types))\n",
    "plt.figure(figsize=(len(types)*0.3,7))\n",
    "plt.bar(types,dist)\n",
    "plt.xticks(index,types,rotation=90)\n",
    "plt.xlabel(\"Cuisine\")\n",
    "plt.ylabel(\"Distribution of Cuisine demand\")\n",
    "plt.show() "
   ]
  },
  {
   "cell_type": "markdown",
   "metadata": {},
   "source": [
    "### Creating a mapping for cuisine with store_id"
   ]
  },
  {
   "cell_type": "code",
   "execution_count": 214,
   "metadata": {},
   "outputs": [],
   "source": [
    "cuisine_ = list(cuisines['store_primary_category'].unique())\n",
    "cuisine_mapping = {}\n",
    "for i in range(len(cuisine_)):\n",
    "    cuisine_mapping[cuisine_[i]] = str(i)"
   ]
  },
  {
   "cell_type": "code",
   "execution_count": 215,
   "metadata": {},
   "outputs": [],
   "source": [
    "cuisines = cuisines.replace({'store_primary_category':cuisine_mapping})"
   ]
  },
  {
   "cell_type": "code",
   "execution_count": 216,
   "metadata": {},
   "outputs": [],
   "source": [
    "cuisines['average_cost_per_item'] = cuisines['subtotal']/cuisines['total_items']"
   ]
  },
  {
   "cell_type": "code",
   "execution_count": 217,
   "metadata": {},
   "outputs": [],
   "source": [
    "distribution = cuisines.groupby('store_id')['Weekday'].count().sort_values(ascending=False)"
   ]
  },
  {
   "cell_type": "code",
   "execution_count": 218,
   "metadata": {},
   "outputs": [
    {
     "data": {
      "text/plain": [
       "count    5404.000000\n",
       "mean       30.618061\n",
       "std        57.661883\n",
       "min         1.000000\n",
       "25%         4.000000\n",
       "50%        11.000000\n",
       "75%        32.000000\n",
       "max       888.000000\n",
       "Name: Weekday, dtype: float64"
      ]
     },
     "execution_count": 218,
     "metadata": {},
     "output_type": "execute_result"
    }
   ],
   "source": [
    "distribution.describe()"
   ]
  },
  {
   "cell_type": "markdown",
   "metadata": {},
   "source": [
    "### Since there are a large population of restaurants, let's categorize the restaurants based on the frequency of orders from the dataset. The top 25% is high frequency(0), the next 50 percent is medium frequency(1) and the remaining is low frequency"
   ]
  },
  {
   "cell_type": "code",
   "execution_count": 219,
   "metadata": {},
   "outputs": [],
   "source": [
    "high = np.array(distribution[distribution.values >= 32.0].index)\n",
    "medium = np.array(distribution[(distribution.values < 32.0) & (distribution.values >= 11.0) ].index)\n",
    "low = np.array(distribution[distribution.values < 11.0].index)"
   ]
  },
  {
   "cell_type": "code",
   "execution_count": 220,
   "metadata": {},
   "outputs": [],
   "source": [
    "res_mapping = {}\n",
    "for i in high:\n",
    "    res_mapping[i] = 'a'\n",
    "for j in medium:\n",
    "    res_mapping[j] = 'b'\n",
    "for k in low:\n",
    "    res_mapping[k] = 'c'"
   ]
  },
  {
   "cell_type": "code",
   "execution_count": 221,
   "metadata": {},
   "outputs": [],
   "source": [
    "cuisines = cuisines.replace({'store_id':res_mapping})"
   ]
  },
  {
   "cell_type": "code",
   "execution_count": 222,
   "metadata": {},
   "outputs": [],
   "source": [
    "cuisines = cuisines.replace({'store_id':{'a':'0','b':'1','c':'2'}})"
   ]
  },
  {
   "cell_type": "markdown",
   "metadata": {},
   "source": [
    "### I will drop the order_protocol column because there are many missing values and there are no unique mappings to store_id's for a single order_protocol and it doesn't convey any useful information. "
   ]
  },
  {
   "cell_type": "code",
   "execution_count": 223,
   "metadata": {},
   "outputs": [],
   "source": [
    "cuisines = cuisines.drop(columns=['order_protocol'])"
   ]
  },
  {
   "cell_type": "markdown",
   "metadata": {},
   "source": [
    "### One of the most important parts of building a good machine learning model is feature selection. Feature selection involves selecting the best features that can minimize the root mean squared error of predicted values. Some of the features were evident from the visualization such as workload, cuisine, weekday and so on. But we need to follow some feature selection strategies to get the right model.\n",
    "\n",
    "### For the purpose of estimated time prediction, we will be using the following models to do feature selection\n",
    "### 1. Linear Regression\n",
    "### 2. Lasso Regression\n",
    "### 3. Ridge Regression\n",
    "### 4. Stability Selection with Randomized Lasso\n",
    "### 5. RandomizedForestRegressor"
   ]
  },
  {
   "cell_type": "code",
   "execution_count": 224,
   "metadata": {},
   "outputs": [],
   "source": [
    "X = cuisines.drop(columns=['estimated_time_for_cooking_&_pickup']).reset_index(drop=True)\n",
    "Y = cuisines[['estimated_time_for_cooking_&_pickup']]\n"
   ]
  },
  {
   "cell_type": "code",
   "execution_count": 225,
   "metadata": {},
   "outputs": [
    {
     "data": {
      "text/html": [
       "<div>\n",
       "<style scoped>\n",
       "    .dataframe tbody tr th:only-of-type {\n",
       "        vertical-align: middle;\n",
       "    }\n",
       "\n",
       "    .dataframe tbody tr th {\n",
       "        vertical-align: top;\n",
       "    }\n",
       "\n",
       "    .dataframe thead th {\n",
       "        text-align: right;\n",
       "    }\n",
       "</style>\n",
       "<table border=\"1\" class=\"dataframe\">\n",
       "  <thead>\n",
       "    <tr style=\"text-align: right;\">\n",
       "      <th></th>\n",
       "      <th>market_id</th>\n",
       "      <th>Weekday</th>\n",
       "      <th>Time</th>\n",
       "      <th>store_id</th>\n",
       "      <th>store_primary_category</th>\n",
       "      <th>num_distinct_items</th>\n",
       "      <th>total_items</th>\n",
       "      <th>subtotal</th>\n",
       "      <th>max_item_price</th>\n",
       "      <th>min_item_price</th>\n",
       "      <th>total_onshift_dashers</th>\n",
       "      <th>total_busy_dashers</th>\n",
       "      <th>total_outstanding_orders</th>\n",
       "      <th>workload</th>\n",
       "      <th>average_cost_per_item</th>\n",
       "    </tr>\n",
       "  </thead>\n",
       "  <tbody>\n",
       "    <tr>\n",
       "      <th>0</th>\n",
       "      <td>1.0</td>\n",
       "      <td>4</td>\n",
       "      <td>2</td>\n",
       "      <td>2</td>\n",
       "      <td>0</td>\n",
       "      <td>4</td>\n",
       "      <td>4</td>\n",
       "      <td>3441</td>\n",
       "      <td>1239</td>\n",
       "      <td>557</td>\n",
       "      <td>33.0</td>\n",
       "      <td>14.0</td>\n",
       "      <td>21.0</td>\n",
       "      <td>0.636364</td>\n",
       "      <td>860.25</td>\n",
       "    </tr>\n",
       "    <tr>\n",
       "      <th>1</th>\n",
       "      <td>2.0</td>\n",
       "      <td>1</td>\n",
       "      <td>2</td>\n",
       "      <td>1</td>\n",
       "      <td>1</td>\n",
       "      <td>1</td>\n",
       "      <td>1</td>\n",
       "      <td>1900</td>\n",
       "      <td>1400</td>\n",
       "      <td>1400</td>\n",
       "      <td>1.0</td>\n",
       "      <td>1.0</td>\n",
       "      <td>2.0</td>\n",
       "      <td>2.000000</td>\n",
       "      <td>1900.00</td>\n",
       "    </tr>\n",
       "    <tr>\n",
       "      <th>2</th>\n",
       "      <td>3.0</td>\n",
       "      <td>3</td>\n",
       "      <td>2</td>\n",
       "      <td>1</td>\n",
       "      <td>1</td>\n",
       "      <td>1</td>\n",
       "      <td>1</td>\n",
       "      <td>1900</td>\n",
       "      <td>1900</td>\n",
       "      <td>1900</td>\n",
       "      <td>1.0</td>\n",
       "      <td>0.0</td>\n",
       "      <td>0.0</td>\n",
       "      <td>0.000000</td>\n",
       "      <td>1900.00</td>\n",
       "    </tr>\n",
       "    <tr>\n",
       "      <th>3</th>\n",
       "      <td>3.0</td>\n",
       "      <td>1</td>\n",
       "      <td>2</td>\n",
       "      <td>1</td>\n",
       "      <td>1</td>\n",
       "      <td>5</td>\n",
       "      <td>6</td>\n",
       "      <td>6900</td>\n",
       "      <td>1800</td>\n",
       "      <td>600</td>\n",
       "      <td>1.0</td>\n",
       "      <td>1.0</td>\n",
       "      <td>2.0</td>\n",
       "      <td>2.000000</td>\n",
       "      <td>1150.00</td>\n",
       "    </tr>\n",
       "    <tr>\n",
       "      <th>4</th>\n",
       "      <td>3.0</td>\n",
       "      <td>6</td>\n",
       "      <td>2</td>\n",
       "      <td>1</td>\n",
       "      <td>1</td>\n",
       "      <td>3</td>\n",
       "      <td>3</td>\n",
       "      <td>3900</td>\n",
       "      <td>1600</td>\n",
       "      <td>1100</td>\n",
       "      <td>6.0</td>\n",
       "      <td>6.0</td>\n",
       "      <td>9.0</td>\n",
       "      <td>1.500000</td>\n",
       "      <td>1300.00</td>\n",
       "    </tr>\n",
       "  </tbody>\n",
       "</table>\n",
       "</div>"
      ],
      "text/plain": [
       "  market_id Weekday Time store_id store_primary_category  num_distinct_items  \\\n",
       "0       1.0       4    2        2                      0                   4   \n",
       "1       2.0       1    2        1                      1                   1   \n",
       "2       3.0       3    2        1                      1                   1   \n",
       "3       3.0       1    2        1                      1                   5   \n",
       "4       3.0       6    2        1                      1                   3   \n",
       "\n",
       "   total_items  subtotal  max_item_price  min_item_price  \\\n",
       "0            4      3441            1239             557   \n",
       "1            1      1900            1400            1400   \n",
       "2            1      1900            1900            1900   \n",
       "3            6      6900            1800             600   \n",
       "4            3      3900            1600            1100   \n",
       "\n",
       "   total_onshift_dashers  total_busy_dashers  total_outstanding_orders  \\\n",
       "0                   33.0                14.0                      21.0   \n",
       "1                    1.0                 1.0                       2.0   \n",
       "2                    1.0                 0.0                       0.0   \n",
       "3                    1.0                 1.0                       2.0   \n",
       "4                    6.0                 6.0                       9.0   \n",
       "\n",
       "   workload  average_cost_per_item  \n",
       "0  0.636364                 860.25  \n",
       "1  2.000000                1900.00  \n",
       "2  0.000000                1900.00  \n",
       "3  2.000000                1150.00  \n",
       "4  1.500000                1300.00  "
      ]
     },
     "execution_count": 225,
     "metadata": {},
     "output_type": "execute_result"
    }
   ],
   "source": [
    "X.head()"
   ]
  },
  {
   "cell_type": "code",
   "execution_count": 226,
   "metadata": {},
   "outputs": [
    {
     "name": "stdout",
     "output_type": "stream",
     "text": [
      "<class 'pandas.core.frame.DataFrame'>\n",
      "RangeIndex: 165460 entries, 0 to 165459\n",
      "Data columns (total 15 columns):\n",
      "market_id                   165460 non-null object\n",
      "Weekday                     165460 non-null object\n",
      "Time                        165460 non-null object\n",
      "store_id                    165460 non-null object\n",
      "store_primary_category      165460 non-null object\n",
      "num_distinct_items          165460 non-null int64\n",
      "total_items                 165460 non-null int64\n",
      "subtotal                    165460 non-null int64\n",
      "max_item_price              165460 non-null int64\n",
      "min_item_price              165460 non-null int64\n",
      "total_onshift_dashers       165460 non-null float64\n",
      "total_busy_dashers          165460 non-null float64\n",
      "total_outstanding_orders    165460 non-null float64\n",
      "workload                    165460 non-null float64\n",
      "average_cost_per_item       165460 non-null float64\n",
      "dtypes: float64(5), int64(5), object(5)\n",
      "memory usage: 18.9+ MB\n"
     ]
    }
   ],
   "source": [
    "X.info()"
   ]
  },
  {
   "cell_type": "markdown",
   "metadata": {},
   "source": [
    "### Since we have a mix of categorical and numerical variables, let's check their relationship with the final outcome that we will be predicting. For categorical_variables, let's use ANOVA to see if there is a relationship between categories and final outcome. For numerical, let's check the correlation"
   ]
  },
  {
   "cell_type": "code",
   "execution_count": 227,
   "metadata": {},
   "outputs": [],
   "source": [
    "numerical = X.select_dtypes(include=['int64','float64'])\n",
    "categorical = X.select_dtypes(include=['object'])"
   ]
  },
  {
   "cell_type": "code",
   "execution_count": 228,
   "metadata": {},
   "outputs": [
    {
     "name": "stderr",
     "output_type": "stream",
     "text": [
      "/Users/srivatsanramesh/anaconda3/lib/python3.6/site-packages/ipykernel_launcher.py:1: SettingWithCopyWarning: \n",
      "A value is trying to be set on a copy of a slice from a DataFrame.\n",
      "Try using .loc[row_indexer,col_indexer] = value instead\n",
      "\n",
      "See the caveats in the documentation: http://pandas.pydata.org/pandas-docs/stable/indexing.html#indexing-view-versus-copy\n",
      "  \"\"\"Entry point for launching an IPython kernel.\n",
      "/Users/srivatsanramesh/anaconda3/lib/python3.6/site-packages/ipykernel_launcher.py:2: SettingWithCopyWarning: \n",
      "A value is trying to be set on a copy of a slice from a DataFrame.\n",
      "Try using .loc[row_indexer,col_indexer] = value instead\n",
      "\n",
      "See the caveats in the documentation: http://pandas.pydata.org/pandas-docs/stable/indexing.html#indexing-view-versus-copy\n",
      "  \n"
     ]
    }
   ],
   "source": [
    "categorical['estimated_time'] = Y\n",
    "numerical['estimated_time'] = Y"
   ]
  },
  {
   "cell_type": "markdown",
   "metadata": {},
   "source": [
    "### For categorical variables, \n",
    "### let the null hypothesis be \"there is no relation between variables and estimated time\". The mean estimated times are same\n",
    "### The alternate hypothesis is \"there is a relation between variables and estimated time\". The mean estimated times are different\n",
    "### Assuming 95 percent confidence level"
   ]
  },
  {
   "cell_type": "code",
   "execution_count": 229,
   "metadata": {},
   "outputs": [
    {
     "data": {
      "text/plain": [
       "<matplotlib.axes._subplots.AxesSubplot at 0x1a2eafa390>"
      ]
     },
     "execution_count": 229,
     "metadata": {},
     "output_type": "execute_result"
    },
    {
     "data": {
      "image/png": "[encoded data removed]",
      "text/plain": [
       "<matplotlib.figure.Figure at 0x1a3366dd68>"
      ]
     },
     "metadata": {},
     "output_type": "display_data"
    }
   ],
   "source": [
    "# market_id\n",
    "sns.boxplot(x=categorical['market_id'],y=np.log(categorical['estimated_time']),showmeans=True)"
   ]
  },
  {
   "cell_type": "code",
   "execution_count": 230,
   "metadata": {},
   "outputs": [
    {
     "name": "stdout",
     "output_type": "stream",
     "text": [
      "                            OLS Regression Results                            \n",
      "==============================================================================\n",
      "Dep. Variable:         estimated_time   R-squared:                       0.008\n",
      "Model:                            OLS   Adj. R-squared:                  0.008\n",
      "Method:                 Least Squares   F-statistic:                     253.1\n",
      "Date:                Mon, 07 Jan 2019   Prob (F-statistic):          2.35e-270\n",
      "Time:                        21:23:35   Log-Likelihood:            -1.4297e+06\n",
      "No. Observations:              165460   AIC:                         2.859e+06\n",
      "Df Residuals:                  165454   BIC:                         2.859e+06\n",
      "Df Model:                           5                                         \n",
      "Covariance Type:            nonrobust                                         \n",
      "====================================================================================\n",
      "                       coef    std err          t      P>|t|      [0.025      0.975]\n",
      "------------------------------------------------------------------------------------\n",
      "Intercept         2189.5168      7.483    292.592      0.000    2174.850    2204.184\n",
      "market_id[T.2.0]  -327.4077      9.639    -33.967      0.000    -346.300    -308.515\n",
      "market_id[T.3.0]  -267.4802     12.384    -21.598      0.000    -291.753    -243.207\n",
      "market_id[T.4.0]  -219.0521      9.911    -22.103      0.000    -238.477    -199.627\n",
      "market_id[T.5.0]  -305.0261     12.879    -23.684      0.000    -330.269    -279.783\n",
      "market_id[T.6.0]  -217.5679     56.100     -3.878      0.000    -327.523    -107.612\n",
      "==============================================================================\n",
      "Omnibus:                   629952.983   Durbin-Watson:                   1.872\n",
      "Prob(Omnibus):                  0.000   Jarque-Bera (JB):    2842361983786.036\n",
      "Skew:                          86.858   Prob(JB):                         0.00\n",
      "Kurtosis:                   20307.061   Cond. No.                         18.3\n",
      "==============================================================================\n",
      "\n",
      "Warnings:\n",
      "[1] Standard Errors assume that the covariance matrix of the errors is correctly specified.\n"
     ]
    }
   ],
   "source": [
    "model = smf.ols(formula='estimated_time~market_id',data=categorical)\n",
    "results = model.fit()\n",
    "print(results.summary())"
   ]
  },
  {
   "cell_type": "markdown",
   "metadata": {},
   "source": [
    "### Since the means overlap for various market_id's it follows the null hypothesis, so we remove market_id from the data"
   ]
  },
  {
   "cell_type": "code",
   "execution_count": 149,
   "metadata": {},
   "outputs": [
    {
     "data": {
      "text/plain": [
       "<matplotlib.axes._subplots.AxesSubplot at 0x1a33d92128>"
      ]
     },
     "execution_count": 149,
     "metadata": {},
     "output_type": "execute_result"
    },
    {
     "data": {
      "image/png": "[encoded data removed]",
      "text/plain": [
       "<matplotlib.figure.Figure at 0x1a285b4390>"
      ]
     },
     "metadata": {},
     "output_type": "display_data"
    }
   ],
   "source": [
    "sns.boxplot(x=categorical['Time'],y=np.log(categorical['estimated_time']),showmeans=True)"
   ]
  },
  {
   "cell_type": "code",
   "execution_count": 231,
   "metadata": {},
   "outputs": [
    {
     "name": "stdout",
     "output_type": "stream",
     "text": [
      "                            OLS Regression Results                            \n",
      "==============================================================================\n",
      "Dep. Variable:         estimated_time   R-squared:                       0.001\n",
      "Model:                            OLS   Adj. R-squared:                  0.001\n",
      "Method:                 Least Squares   F-statistic:                     59.15\n",
      "Date:                Mon, 07 Jan 2019   Prob (F-statistic):           2.09e-26\n",
      "Time:                        21:27:05   Log-Likelihood:            -1.4302e+06\n",
      "No. Observations:              165460   AIC:                         2.860e+06\n",
      "Df Residuals:                  165457   BIC:                         2.861e+06\n",
      "Df Model:                           2                                         \n",
      "Covariance Type:            nonrobust                                         \n",
      "==============================================================================\n",
      "                 coef    std err          t      P>|t|      [0.025      0.975]\n",
      "------------------------------------------------------------------------------\n",
      "Intercept   1601.9174     40.290     39.760      0.000    1522.950    1680.885\n",
      "Time[T.1]    256.3400     44.533      5.756      0.000     169.057     343.623\n",
      "Time[T.2]    371.3703     40.437      9.184      0.000     292.115     450.625\n",
      "==============================================================================\n",
      "Omnibus:                   628326.472   Durbin-Watson:                   1.859\n",
      "Prob(Omnibus):                  0.000   Jarque-Bera (JB):    2779491735588.158\n",
      "Skew:                          86.157   Prob(JB):                         0.00\n",
      "Kurtosis:                   20081.248   Cond. No.                         29.2\n",
      "==============================================================================\n",
      "\n",
      "Warnings:\n",
      "[1] Standard Errors assume that the covariance matrix of the errors is correctly specified.\n"
     ]
    }
   ],
   "source": [
    "model = smf.ols(formula='estimated_time~Time',data=categorical)\n",
    "results = model.fit()\n",
    "print(results.summary())"
   ]
  },
  {
   "cell_type": "markdown",
   "metadata": {},
   "source": [
    "### Since p value is less than 0.05 and the F statistic is higher than F(2,inf), we can reject the null hypothesis for Time"
   ]
  },
  {
   "cell_type": "code",
   "execution_count": 232,
   "metadata": {},
   "outputs": [
    {
     "data": {
      "text/plain": [
       "<matplotlib.axes._subplots.AxesSubplot at 0x1a29d2a630>"
      ]
     },
     "execution_count": 232,
     "metadata": {},
     "output_type": "execute_result"
    },
    {
     "data": {
      "image/png": "[encoded data removed]",
      "text/plain": [
       "<matplotlib.figure.Figure at 0x1a29d2f828>"
      ]
     },
     "metadata": {},
     "output_type": "display_data"
    }
   ],
   "source": [
    "sns.boxplot(x=categorical['Weekday'],y=np.log(categorical['estimated_time']),showmeans=True)"
   ]
  },
  {
   "cell_type": "code",
   "execution_count": 233,
   "metadata": {},
   "outputs": [
    {
     "name": "stdout",
     "output_type": "stream",
     "text": [
      "                            OLS Regression Results                            \n",
      "==============================================================================\n",
      "Dep. Variable:         estimated_time   R-squared:                       0.012\n",
      "Model:                            OLS   Adj. R-squared:                  0.012\n",
      "Method:                 Least Squares   F-statistic:                     329.0\n",
      "Date:                Mon, 07 Jan 2019   Prob (F-statistic):               0.00\n",
      "Time:                        21:27:11   Log-Likelihood:            -1.4293e+06\n",
      "No. Observations:              165460   AIC:                         2.859e+06\n",
      "Df Residuals:                  165453   BIC:                         2.859e+06\n",
      "Df Model:                           6                                         \n",
      "Covariance Type:            nonrobust                                         \n",
      "================================================================================\n",
      "                   coef    std err          t      P>|t|      [0.025      0.975]\n",
      "--------------------------------------------------------------------------------\n",
      "Intercept     2208.6015      9.055    243.902      0.000    2190.853    2226.350\n",
      "Weekday[T.1]  -315.6315     13.168    -23.969      0.000    -341.441    -289.822\n",
      "Weekday[T.2]  -445.6046     13.129    -33.941      0.000    -471.337    -419.872\n",
      "Weekday[T.3]  -289.4250     12.926    -22.390      0.000    -314.760    -264.090\n",
      "Weekday[T.4]  -414.1372     12.685    -32.649      0.000    -438.999    -389.276\n",
      "Weekday[T.5]   -99.8795     12.206     -8.183      0.000    -123.803     -75.956\n",
      "Weekday[T.6]  -191.6042     12.167    -15.748      0.000    -215.451    -167.758\n",
      "==============================================================================\n",
      "Omnibus:                   631170.969   Durbin-Watson:                   1.857\n",
      "Prob(Omnibus):                  0.000   Jarque-Bera (JB):    2889627328904.215\n",
      "Skew:                          87.385   Prob(JB):                         0.00\n",
      "Kurtosis:                   20475.185   Cond. No.                         8.03\n",
      "==============================================================================\n",
      "\n",
      "Warnings:\n",
      "[1] Standard Errors assume that the covariance matrix of the errors is correctly specified.\n"
     ]
    }
   ],
   "source": [
    "model = smf.ols(formula='estimated_time~Weekday',data=categorical)\n",
    "results = model.fit()\n",
    "print(results.summary())"
   ]
  },
  {
   "cell_type": "markdown",
   "metadata": {},
   "source": [
    "### p value is less than 0.05 and F value is higher , reject null hypothesis"
   ]
  },
  {
   "cell_type": "code",
   "execution_count": 234,
   "metadata": {},
   "outputs": [
    {
     "data": {
      "text/plain": [
       "<matplotlib.axes._subplots.AxesSubplot at 0x1a2bc28208>"
      ]
     },
     "execution_count": 234,
     "metadata": {},
     "output_type": "execute_result"
    },
    {
     "data": {
      "image/png": "[encoded data removed]",
      "text/plain": [
       "<matplotlib.figure.Figure at 0x1a33afa9b0>"
      ]
     },
     "metadata": {},
     "output_type": "display_data"
    }
   ],
   "source": [
    "sns.boxplot(x=categorical['store_id'],y=np.log(categorical['estimated_time']),showmeans=True)"
   ]
  },
  {
   "cell_type": "code",
   "execution_count": 235,
   "metadata": {},
   "outputs": [
    {
     "name": "stdout",
     "output_type": "stream",
     "text": [
      "                            OLS Regression Results                            \n",
      "==============================================================================\n",
      "Dep. Variable:         estimated_time   R-squared:                       0.001\n",
      "Model:                            OLS   Adj. R-squared:                  0.001\n",
      "Method:                 Least Squares   F-statistic:                     104.5\n",
      "Date:                Mon, 07 Jan 2019   Prob (F-statistic):           4.53e-46\n",
      "Time:                        21:27:31   Log-Likelihood:            -1.4302e+06\n",
      "No. Observations:              165460   AIC:                         2.860e+06\n",
      "Df Residuals:                  165457   BIC:                         2.860e+06\n",
      "Df Model:                           2                                         \n",
      "Covariance Type:            nonrobust                                         \n",
      "=================================================================================\n",
      "                    coef    std err          t      P>|t|      [0.025      0.975]\n",
      "---------------------------------------------------------------------------------\n",
      "Intercept      1940.8459      3.857    503.147      0.000    1933.285    1948.406\n",
      "store_id[T.1]    95.4741      9.240     10.333      0.000      77.364     113.584\n",
      "store_id[T.2]   148.0909     13.103     11.302      0.000     122.409     173.773\n",
      "==============================================================================\n",
      "Omnibus:                   628368.999   Durbin-Watson:                   1.860\n",
      "Prob(Omnibus):                  0.000   Jarque-Bera (JB):    2781354587603.314\n",
      "Skew:                          86.176   Prob(JB):                         0.00\n",
      "Kurtosis:                   20087.975   Cond. No.                         4.00\n",
      "==============================================================================\n",
      "\n",
      "Warnings:\n",
      "[1] Standard Errors assume that the covariance matrix of the errors is correctly specified.\n"
     ]
    }
   ],
   "source": [
    "model = smf.ols(formula='estimated_time~store_id',data=categorical)\n",
    "results = model.fit()\n",
    "print(results.summary())"
   ]
  },
  {
   "cell_type": "markdown",
   "metadata": {},
   "source": [
    "### Means are same, therefore we reject the alternate hypothesis, therefore we can eliminate store_id"
   ]
  },
  {
   "cell_type": "code",
   "execution_count": 236,
   "metadata": {},
   "outputs": [
    {
     "data": {
      "text/plain": [
       "<matplotlib.axes._subplots.AxesSubplot at 0x1a2bcfc400>"
      ]
     },
     "execution_count": 236,
     "metadata": {},
     "output_type": "execute_result"
    },
    {
     "data": {
      "image/png": "[encoded data removed]",
      "text/plain": [
       "<matplotlib.figure.Figure at 0x1a33d1dda0>"
      ]
     },
     "metadata": {},
     "output_type": "display_data"
    }
   ],
   "source": [
    "sns.boxplot(x=categorical['store_primary_category'],y=np.log(categorical['estimated_time']),showmeans=True)"
   ]
  },
  {
   "cell_type": "code",
   "execution_count": 237,
   "metadata": {},
   "outputs": [
    {
     "name": "stdout",
     "output_type": "stream",
     "text": [
      "                            OLS Regression Results                            \n",
      "==============================================================================\n",
      "Dep. Variable:         estimated_time   R-squared:                       0.010\n",
      "Model:                            OLS   Adj. R-squared:                  0.010\n",
      "Method:                 Least Squares   F-statistic:                     24.38\n",
      "Date:                Mon, 07 Jan 2019   Prob (F-statistic):          1.20e-312\n",
      "Time:                        21:28:00   Log-Likelihood:            -1.4294e+06\n",
      "No. Observations:              165460   AIC:                         2.859e+06\n",
      "Df Residuals:                  165388   BIC:                         2.860e+06\n",
      "Df Model:                          71                                         \n",
      "Covariance Type:            nonrobust                                         \n",
      "================================================================================================\n",
      "                                   coef    std err          t      P>|t|      [0.025      0.975]\n",
      "------------------------------------------------------------------------------------------------\n",
      "Intercept                     1935.5061     10.441    185.376      0.000    1915.042    1955.970\n",
      "store_primary_category[T.1]    218.9445     20.427     10.719      0.000     178.909     258.980\n",
      "store_primary_category[T.10]    44.2283     22.198      1.992      0.046       0.721      87.736\n",
      "store_primary_category[T.11]   129.1547     37.923      3.406      0.001      54.826     203.484\n",
      "store_primary_category[T.12]   119.8646     85.583      1.401      0.161     -47.877     287.606\n",
      "store_primary_category[T.13]   100.3179     81.789      1.227      0.220     -59.986     260.622\n",
      "store_primary_category[T.14]   -11.1129     27.089     -0.410      0.682     -64.207      41.981\n",
      "store_primary_category[T.15]   234.7964     19.256     12.193      0.000     197.055     272.538\n",
      "store_primary_category[T.16]   -33.7987     25.031     -1.350      0.177     -82.859      15.261\n",
      "store_primary_category[T.17]   -32.0022     31.613     -1.012      0.311     -93.962      29.958\n",
      "store_primary_category[T.18]   -40.8085     30.253     -1.349      0.177    -100.103      18.486\n",
      "store_primary_category[T.19]   -88.6669     21.188     -4.185      0.000    -130.195     -47.139\n",
      "store_primary_category[T.2]    179.3886     20.401      8.793      0.000     139.404     219.373\n",
      "store_primary_category[T.20]  -167.3886     22.870     -7.319      0.000    -212.212    -122.565\n",
      "store_primary_category[T.21]  -140.5702     21.404     -6.567      0.000    -182.522     -98.619\n",
      "store_primary_category[T.22]   258.7987     81.507      3.175      0.001      99.047     418.550\n",
      "store_primary_category[T.23]    80.5889     45.074      1.788      0.074      -7.755     168.933\n",
      "store_primary_category[T.24]   230.6869     15.335     15.043      0.000     200.630     260.744\n",
      "store_primary_category[T.25]    68.6280     18.571      3.695      0.000      32.229     105.027\n",
      "store_primary_category[T.26]  -117.4581     59.063     -1.989      0.047    -233.220      -1.696\n",
      "store_primary_category[T.27]   182.5124     34.659      5.266      0.000     114.581     250.443\n",
      "store_primary_category[T.28]   188.1027     97.468      1.930      0.054      -2.933     379.138\n",
      "store_primary_category[T.29]   200.8742     81.789      2.456      0.014      40.570     361.178\n",
      "store_primary_category[T.3]   -156.2795     15.301    -10.214      0.000    -186.269    -126.290\n",
      "store_primary_category[T.30]   221.5527     25.561      8.667      0.000     171.453     271.652\n",
      "store_primary_category[T.31]    12.8405     56.869      0.226      0.821     -98.622     124.303\n",
      "store_primary_category[T.32]   -12.4577     29.442     -0.423      0.672     -70.164      45.248\n",
      "store_primary_category[T.33]  -107.3407     38.551     -2.784      0.005    -182.900     -31.781\n",
      "store_primary_category[T.34]    28.7884     46.898      0.614      0.539     -63.131     120.707\n",
      "store_primary_category[T.35]    71.7999     38.564      1.862      0.063      -3.785     147.385\n",
      "store_primary_category[T.36]    39.2350     91.935      0.427      0.670    -140.955     219.425\n",
      "store_primary_category[T.37]  -142.9500     38.291     -3.733      0.000    -217.999     -67.901\n",
      "store_primary_category[T.38]   -44.7603    178.280     -0.251      0.802    -394.186     304.666\n",
      "store_primary_category[T.39]    18.1533     90.938      0.200      0.842    -160.084     196.391\n",
      "store_primary_category[T.4]    138.5744     20.318      6.820      0.000      98.751     178.398\n",
      "store_primary_category[T.40]  -108.5413     35.493     -3.058      0.002    -178.107     -38.976\n",
      "store_primary_category[T.41]   -50.7311     37.317     -1.359      0.174    -123.871      22.409\n",
      "store_primary_category[T.42]    21.7983    285.240      0.076      0.939    -537.267     580.863\n",
      "store_primary_category[T.43]    -1.6355     51.833     -0.032      0.975    -103.228      99.957\n",
      "store_primary_category[T.44]  -109.4764     63.329     -1.729      0.084    -233.599      14.646\n",
      "store_primary_category[T.45]    62.2925     67.754      0.919      0.358     -70.504     195.089\n",
      "store_primary_category[T.46]   321.3187    139.195      2.308      0.021      48.500     594.137\n",
      "store_primary_category[T.47]    13.9253     64.317      0.217      0.829    -112.134     139.985\n",
      "store_primary_category[T.48]   524.9722    285.240      1.840      0.066     -34.093    1084.037\n",
      "store_primary_category[T.49]   182.5404    120.814      1.511      0.131     -54.252     419.333\n",
      "store_primary_category[T.5]    -44.2829     32.977     -1.343      0.179    -108.916      20.350\n",
      "store_primary_category[T.50]    17.1132    103.573      0.165      0.869    -185.887     220.114\n",
      "store_primary_category[T.51]  -116.8303     95.135     -1.228      0.219    -303.294      69.633\n",
      "store_primary_category[T.52]   264.2448     56.869      4.647      0.000     152.782     375.708\n",
      "store_primary_category[T.53]   504.0532    126.279      3.992      0.000     256.549     751.558\n",
      "store_primary_category[T.54]    89.9106    394.771      0.228      0.820    -683.832     863.653\n",
      "store_primary_category[T.55]    89.4413    313.796      0.285      0.776    -525.592     704.475\n",
      "store_primary_category[T.56]   302.1104     92.965      3.250      0.001     119.902     484.319\n",
      "store_primary_category[T.57]   227.8439    216.401      1.053      0.292    -196.298     651.986\n",
      "store_primary_category[T.58]   256.8158    143.685      1.787      0.074     -24.804     538.436\n",
      "store_primary_category[T.59]  -295.0061    206.355     -1.430      0.153    -699.456     109.444\n",
      "store_primary_category[T.6]     45.1973     18.621      2.427      0.015       8.700      81.694\n",
      "store_primary_category[T.60]    11.2539    193.611      0.058      0.954    -368.220     390.728\n",
      "store_primary_category[T.61]   284.5822    234.679      1.213      0.225    -175.384     744.548\n",
      "store_primary_category[T.62]   378.8689    483.437      0.784      0.433    -568.657    1326.395\n",
      "store_primary_category[T.63]   565.6939    305.859      1.850      0.064     -33.784    1165.172\n",
      "store_primary_category[T.64]   571.5156     81.367      7.024      0.000     412.038     730.993\n",
      "store_primary_category[T.65]  -150.5938    181.371     -0.830      0.406    -506.076     204.889\n",
      "store_primary_category[T.66]   640.5939    432.425      1.481      0.139    -206.949    1488.137\n",
      "store_primary_category[T.67]   337.9939    966.705      0.350      0.727   -1556.727    2232.715\n",
      "store_primary_category[T.68]    97.1201    132.569      0.733      0.464    -162.713     356.953\n",
      "store_primary_category[T.69]    51.6189    341.921      0.151      0.880    -618.540     721.777\n",
      "store_primary_category[T.7]   -167.9223     17.902     -9.380      0.000    -203.009    -132.836\n",
      "store_primary_category[T.70]   317.4939    516.801      0.614      0.539    -695.425    1330.413\n",
      "store_primary_category[T.71]    68.4939   1367.088      0.050      0.960   -2610.968    2747.956\n",
      "store_primary_category[T.8]     19.9722    285.240      0.070      0.944    -539.093     579.037\n",
      "store_primary_category[T.9]     41.6255     17.306      2.405      0.016       7.706      75.545\n",
      "==============================================================================\n",
      "Omnibus:                   630879.350   Durbin-Watson:                   1.876\n",
      "Prob(Omnibus):                  0.000   Jarque-Bera (JB):    2876669076870.028\n",
      "Skew:                          87.259   Prob(JB):                         0.00\n",
      "Kurtosis:                   20429.230   Cond. No.                         415.\n",
      "==============================================================================\n",
      "\n",
      "Warnings:\n",
      "[1] Standard Errors assume that the covariance matrix of the errors is correctly specified.\n"
     ]
    }
   ],
   "source": [
    "model = smf.ols(formula='estimated_time~store_primary_category',data=categorical)\n",
    "results = model.fit()\n",
    "print(results.summary())"
   ]
  },
  {
   "cell_type": "markdown",
   "metadata": {},
   "source": [
    "### Although some p values are less than the confidence level we had set initially, the F statistic is less than the critical value (62), therefore we reject the alternate hypothesis and eliminate store_primary_category"
   ]
  },
  {
   "cell_type": "code",
   "execution_count": 238,
   "metadata": {},
   "outputs": [
    {
     "data": {
      "text/plain": [
       "estimated_time              1.000000\n",
       "workload                    0.268776\n",
       "total_outstanding_orders    0.155771\n",
       "subtotal                    0.138987\n",
       "num_distinct_items          0.099245\n",
       "max_item_price              0.095970\n",
       "total_busy_dashers          0.092969\n",
       "total_items                 0.090038\n",
       "total_onshift_dashers       0.063889\n",
       "average_cost_per_item       0.052435\n",
       "min_item_price              0.002415\n",
       "Name: estimated_time, dtype: float64"
      ]
     },
     "execution_count": 238,
     "metadata": {},
     "output_type": "execute_result"
    }
   ],
   "source": [
    "numerical.corr()['estimated_time'].sort_values(ascending=False)"
   ]
  },
  {
   "cell_type": "markdown",
   "metadata": {},
   "source": [
    "### For numerical data, we see that there exists some correlation between variables. Let's rank numerical and categorical together and choose the right features for final model. Let's remove numerical values where the correlation is less than 0.1."
   ]
  },
  {
   "cell_type": "code",
   "execution_count": 239,
   "metadata": {},
   "outputs": [],
   "source": [
    "X = X[['workload','subtotal','Time','Weekday']]"
   ]
  },
  {
   "cell_type": "code",
   "execution_count": 240,
   "metadata": {},
   "outputs": [],
   "source": [
    "Y = cuisines[['estimated_time_for_cooking_&_pickup']]"
   ]
  },
  {
   "cell_type": "code",
   "execution_count": 241,
   "metadata": {},
   "outputs": [],
   "source": [
    "X = pd.get_dummies(X)"
   ]
  },
  {
   "cell_type": "code",
   "execution_count": 242,
   "metadata": {},
   "outputs": [
    {
     "data": {
      "text/html": [
       "<div>\n",
       "<style scoped>\n",
       "    .dataframe tbody tr th:only-of-type {\n",
       "        vertical-align: middle;\n",
       "    }\n",
       "\n",
       "    .dataframe tbody tr th {\n",
       "        vertical-align: top;\n",
       "    }\n",
       "\n",
       "    .dataframe thead th {\n",
       "        text-align: right;\n",
       "    }\n",
       "</style>\n",
       "<table border=\"1\" class=\"dataframe\">\n",
       "  <thead>\n",
       "    <tr style=\"text-align: right;\">\n",
       "      <th></th>\n",
       "      <th>workload</th>\n",
       "      <th>subtotal</th>\n",
       "      <th>Time_0</th>\n",
       "      <th>Time_1</th>\n",
       "      <th>Time_2</th>\n",
       "      <th>Weekday_0</th>\n",
       "      <th>Weekday_1</th>\n",
       "      <th>Weekday_2</th>\n",
       "      <th>Weekday_3</th>\n",
       "      <th>Weekday_4</th>\n",
       "      <th>Weekday_5</th>\n",
       "      <th>Weekday_6</th>\n",
       "    </tr>\n",
       "  </thead>\n",
       "  <tbody>\n",
       "    <tr>\n",
       "      <th>0</th>\n",
       "      <td>0.636364</td>\n",
       "      <td>3441</td>\n",
       "      <td>0</td>\n",
       "      <td>0</td>\n",
       "      <td>1</td>\n",
       "      <td>0</td>\n",
       "      <td>0</td>\n",
       "      <td>0</td>\n",
       "      <td>0</td>\n",
       "      <td>1</td>\n",
       "      <td>0</td>\n",
       "      <td>0</td>\n",
       "    </tr>\n",
       "    <tr>\n",
       "      <th>1</th>\n",
       "      <td>2.000000</td>\n",
       "      <td>1900</td>\n",
       "      <td>0</td>\n",
       "      <td>0</td>\n",
       "      <td>1</td>\n",
       "      <td>0</td>\n",
       "      <td>1</td>\n",
       "      <td>0</td>\n",
       "      <td>0</td>\n",
       "      <td>0</td>\n",
       "      <td>0</td>\n",
       "      <td>0</td>\n",
       "    </tr>\n",
       "    <tr>\n",
       "      <th>2</th>\n",
       "      <td>0.000000</td>\n",
       "      <td>1900</td>\n",
       "      <td>0</td>\n",
       "      <td>0</td>\n",
       "      <td>1</td>\n",
       "      <td>0</td>\n",
       "      <td>0</td>\n",
       "      <td>0</td>\n",
       "      <td>1</td>\n",
       "      <td>0</td>\n",
       "      <td>0</td>\n",
       "      <td>0</td>\n",
       "    </tr>\n",
       "    <tr>\n",
       "      <th>3</th>\n",
       "      <td>2.000000</td>\n",
       "      <td>6900</td>\n",
       "      <td>0</td>\n",
       "      <td>0</td>\n",
       "      <td>1</td>\n",
       "      <td>0</td>\n",
       "      <td>1</td>\n",
       "      <td>0</td>\n",
       "      <td>0</td>\n",
       "      <td>0</td>\n",
       "      <td>0</td>\n",
       "      <td>0</td>\n",
       "    </tr>\n",
       "    <tr>\n",
       "      <th>4</th>\n",
       "      <td>1.500000</td>\n",
       "      <td>3900</td>\n",
       "      <td>0</td>\n",
       "      <td>0</td>\n",
       "      <td>1</td>\n",
       "      <td>0</td>\n",
       "      <td>0</td>\n",
       "      <td>0</td>\n",
       "      <td>0</td>\n",
       "      <td>0</td>\n",
       "      <td>0</td>\n",
       "      <td>1</td>\n",
       "    </tr>\n",
       "  </tbody>\n",
       "</table>\n",
       "</div>"
      ],
      "text/plain": [
       "   workload  subtotal  Time_0  Time_1  Time_2  Weekday_0  Weekday_1  \\\n",
       "0  0.636364      3441       0       0       1          0          0   \n",
       "1  2.000000      1900       0       0       1          0          1   \n",
       "2  0.000000      1900       0       0       1          0          0   \n",
       "3  2.000000      6900       0       0       1          0          1   \n",
       "4  1.500000      3900       0       0       1          0          0   \n",
       "\n",
       "   Weekday_2  Weekday_3  Weekday_4  Weekday_5  Weekday_6  \n",
       "0          0          0          1          0          0  \n",
       "1          0          0          0          0          0  \n",
       "2          0          1          0          0          0  \n",
       "3          0          0          0          0          0  \n",
       "4          0          0          0          0          1  "
      ]
     },
     "execution_count": 242,
     "metadata": {},
     "output_type": "execute_result"
    }
   ],
   "source": [
    "X.head()"
   ]
  },
  {
   "cell_type": "code",
   "execution_count": 243,
   "metadata": {},
   "outputs": [],
   "source": [
    "column_names = X.columns"
   ]
  },
  {
   "cell_type": "code",
   "execution_count": 244,
   "metadata": {},
   "outputs": [],
   "source": [
    "X_train,X_test,Y_train,Y_test = train_test_split(X,Y,test_size=0.3)"
   ]
  },
  {
   "cell_type": "code",
   "execution_count": 245,
   "metadata": {},
   "outputs": [],
   "source": [
    "ranks = {}"
   ]
  },
  {
   "cell_type": "code",
   "execution_count": 246,
   "metadata": {},
   "outputs": [],
   "source": [
    "def feature_ranking(rank,col_names,order=1):\n",
    "    minmax = MinMaxScaler()\n",
    "    rank = minmax.fit_transform(order*np.array([rank]).T).T[0]\n",
    "    rank = map(lambda x:round(x,4),rank)\n",
    "    return dict(zip(col_names,rank))"
   ]
  },
  {
   "cell_type": "markdown",
   "metadata": {},
   "source": [
    "### Stability Selection with Randomized Lasso"
   ]
  },
  {
   "cell_type": "code",
   "execution_count": 254,
   "metadata": {},
   "outputs": [
    {
     "name": "stderr",
     "output_type": "stream",
     "text": [
      "/Users/srivatsanramesh/anaconda3/lib/python3.6/site-packages/sklearn/utils/deprecation.py:58: DeprecationWarning: Class RandomizedLasso is deprecated; The class RandomizedLasso is deprecated in 0.19 and will be removed in 0.21.\n",
      "  warnings.warn(msg, category=DeprecationWarning)\n",
      "/Users/srivatsanramesh/anaconda3/lib/python3.6/site-packages/sklearn/utils/validation.py:578: DataConversionWarning: A column-vector y was passed when a 1d array was expected. Please change the shape of y to (n_samples, ), for example using ravel().\n",
      "  y = column_or_1d(y, warn=True)\n"
     ]
    },
    {
     "data": {
      "text/plain": [
       "RandomizedLasso(alpha=0.1, eps=2.220446049250313e-16, fit_intercept=True,\n",
       "        max_iter=500, memory=None, n_jobs=1, n_resampling=200,\n",
       "        normalize=True, pre_dispatch='3*n_jobs', precompute='auto',\n",
       "        random_state=None, sample_fraction=0.75, scaling=0.5,\n",
       "        selection_threshold=0.25, verbose=False)"
      ]
     },
     "execution_count": 254,
     "metadata": {},
     "output_type": "execute_result"
    }
   ],
   "source": [
    "lasso = RandomizedLasso(alpha=0.1)\n",
    "lasso.fit(X_train,Y_train)"
   ]
  },
  {
   "cell_type": "code",
   "execution_count": 255,
   "metadata": {},
   "outputs": [
    {
     "data": {
      "text/plain": [
       "array([1.   , 1.   , 0.   , 0.   , 0.   , 0.755, 0.015, 0.46 , 0.   ,\n",
       "       0.535, 0.475, 0.   ])"
      ]
     },
     "execution_count": 255,
     "metadata": {},
     "output_type": "execute_result"
    }
   ],
   "source": [
    "lasso.scores_"
   ]
  },
  {
   "cell_type": "code",
   "execution_count": 256,
   "metadata": {},
   "outputs": [],
   "source": [
    "ranks['lasso_stability'] = feature_ranking(np.abs(lasso.scores_),column_names)"
   ]
  },
  {
   "cell_type": "code",
   "execution_count": 257,
   "metadata": {},
   "outputs": [
    {
     "data": {
      "text/plain": [
       "{'lasso_stability': {'Time_0': 0.0,\n",
       "  'Time_1': 0.0,\n",
       "  'Time_2': 0.0,\n",
       "  'Weekday_0': 0.755,\n",
       "  'Weekday_1': 0.015,\n",
       "  'Weekday_2': 0.46,\n",
       "  'Weekday_3': 0.0,\n",
       "  'Weekday_4': 0.535,\n",
       "  'Weekday_5': 0.475,\n",
       "  'Weekday_6': 0.0,\n",
       "  'subtotal': 1.0,\n",
       "  'workload': 1.0},\n",
       " 'linear_regression': {'Time_0': 0.5061,\n",
       "  'Time_1': 0.5061,\n",
       "  'Time_2': 0.5061,\n",
       "  'Weekday_0': 1.0,\n",
       "  'Weekday_1': 1.0,\n",
       "  'Weekday_2': 1.0,\n",
       "  'Weekday_3': 1.0,\n",
       "  'Weekday_4': 1.0,\n",
       "  'Weekday_5': 1.0,\n",
       "  'Weekday_6': 1.0,\n",
       "  'subtotal': 0.0,\n",
       "  'workload': 0.0}}"
      ]
     },
     "execution_count": 257,
     "metadata": {},
     "output_type": "execute_result"
    }
   ],
   "source": [
    "ranks"
   ]
  },
  {
   "cell_type": "markdown",
   "metadata": {},
   "source": [
    "### Linear Model Feature Ranking"
   ]
  },
  {
   "cell_type": "code",
   "execution_count": 258,
   "metadata": {},
   "outputs": [
    {
     "data": {
      "text/plain": [
       "LinearRegression(copy_X=True, fit_intercept=True, n_jobs=1, normalize=True)"
      ]
     },
     "execution_count": 258,
     "metadata": {},
     "output_type": "execute_result"
    }
   ],
   "source": [
    "linear_regression = LinearRegression(normalize=True)\n",
    "linear_regression.fit(X_train,Y_train)"
   ]
  },
  {
   "cell_type": "code",
   "execution_count": 259,
   "metadata": {},
   "outputs": [],
   "source": [
    "ranks['linear_regression'] = feature_ranking(np.abs(linear_regression.coef_.flatten()),column_names)"
   ]
  },
  {
   "cell_type": "code",
   "execution_count": 277,
   "metadata": {},
   "outputs": [
    {
     "data": {
      "text/plain": [
       "Lasso(alpha=1.0, copy_X=True, fit_intercept=True, max_iter=1000,\n",
       "   normalize=False, positive=False, precompute=False, random_state=None,\n",
       "   selection='cyclic', tol=0.0001, warm_start=False)"
      ]
     },
     "execution_count": 277,
     "metadata": {},
     "output_type": "execute_result"
    }
   ],
   "source": [
    "lasso_regression = Lasso(alpha=1.0)\n",
    "lasso_regression.fit(X_train,Y_train)"
   ]
  },
  {
   "cell_type": "code",
   "execution_count": 278,
   "metadata": {},
   "outputs": [],
   "source": [
    "ranks['lasso_regression'] = feature_ranking(np.abs(lasso_regression.coef_),column_names)"
   ]
  },
  {
   "cell_type": "code",
   "execution_count": 279,
   "metadata": {},
   "outputs": [
    {
     "data": {
      "text/plain": [
       "Ridge(alpha=1.0, copy_X=True, fit_intercept=True, max_iter=None,\n",
       "   normalize=False, random_state=None, solver='auto', tol=0.001)"
      ]
     },
     "execution_count": 279,
     "metadata": {},
     "output_type": "execute_result"
    }
   ],
   "source": [
    "ridge_regression = Ridge(alpha=1.0)\n",
    "ridge_regression.fit(X_train,Y_train)"
   ]
  },
  {
   "cell_type": "code",
   "execution_count": 280,
   "metadata": {},
   "outputs": [],
   "source": [
    "ranks['ridge_regression'] = feature_ranking(np.abs(ridge_regression.coef_.flatten()),column_names)"
   ]
  },
  {
   "cell_type": "markdown",
   "metadata": {},
   "source": [
    "### Recursive Feature Elimination"
   ]
  },
  {
   "cell_type": "code",
   "execution_count": 282,
   "metadata": {},
   "outputs": [
    {
     "data": {
      "text/plain": [
       "LinearRegression(copy_X=True, fit_intercept=True, n_jobs=1, normalize=True)"
      ]
     },
     "execution_count": 282,
     "metadata": {},
     "output_type": "execute_result"
    }
   ],
   "source": [
    "linear_reg = LinearRegression(normalize=True)\n",
    "linear_reg.fit(X_train,Y_train)"
   ]
  },
  {
   "cell_type": "code",
   "execution_count": 283,
   "metadata": {},
   "outputs": [
    {
     "name": "stderr",
     "output_type": "stream",
     "text": [
      "/Users/srivatsanramesh/anaconda3/lib/python3.6/site-packages/sklearn/utils/validation.py:578: DataConversionWarning: A column-vector y was passed when a 1d array was expected. Please change the shape of y to (n_samples, ), for example using ravel().\n",
      "  y = column_or_1d(y, warn=True)\n"
     ]
    },
    {
     "name": "stdout",
     "output_type": "stream",
     "text": [
      "Fitting estimator with 12 features.\n",
      "Fitting estimator with 11 features.\n",
      "Fitting estimator with 10 features.\n",
      "Fitting estimator with 9 features.\n",
      "Fitting estimator with 8 features.\n",
      "Fitting estimator with 7 features.\n",
      "Fitting estimator with 6 features.\n",
      "Fitting estimator with 5 features.\n",
      "Fitting estimator with 4 features.\n",
      "Fitting estimator with 3 features.\n",
      "Fitting estimator with 2 features.\n"
     ]
    },
    {
     "data": {
      "text/plain": [
       "RFE(estimator=LinearRegression(copy_X=True, fit_intercept=True, n_jobs=1, normalize=True),\n",
       "  n_features_to_select=1, step=1, verbose=3)"
      ]
     },
     "execution_count": 283,
     "metadata": {},
     "output_type": "execute_result"
    }
   ],
   "source": [
    "rfe = RFE(linear_reg,n_features_to_select=1,verbose=3)\n",
    "rfe.fit(X_train,Y_train)"
   ]
  },
  {
   "cell_type": "code",
   "execution_count": 284,
   "metadata": {},
   "outputs": [],
   "source": [
    "ranks[\"RFE\"] = feature_ranking(list(map(float,rfe.ranking_)),column_names,order=-1)"
   ]
  },
  {
   "cell_type": "code",
   "execution_count": 285,
   "metadata": {},
   "outputs": [],
   "source": [
    "random_forest = RandomForestRegressor(n_jobs=-1,n_estimators=50)"
   ]
  },
  {
   "cell_type": "code",
   "execution_count": 286,
   "metadata": {},
   "outputs": [
    {
     "name": "stderr",
     "output_type": "stream",
     "text": [
      "/Users/srivatsanramesh/anaconda3/lib/python3.6/site-packages/ipykernel_launcher.py:1: DataConversionWarning: A column-vector y was passed when a 1d array was expected. Please change the shape of y to (n_samples,), for example using ravel().\n",
      "  \"\"\"Entry point for launching an IPython kernel.\n"
     ]
    },
    {
     "data": {
      "text/plain": [
       "RandomForestRegressor(bootstrap=True, criterion='mse', max_depth=None,\n",
       "           max_features='auto', max_leaf_nodes=None,\n",
       "           min_impurity_decrease=0.0, min_impurity_split=None,\n",
       "           min_samples_leaf=1, min_samples_split=2,\n",
       "           min_weight_fraction_leaf=0.0, n_estimators=50, n_jobs=-1,\n",
       "           oob_score=False, random_state=None, verbose=0, warm_start=False)"
      ]
     },
     "execution_count": 286,
     "metadata": {},
     "output_type": "execute_result"
    }
   ],
   "source": [
    "random_forest.fit(X_train,Y_train)"
   ]
  },
  {
   "cell_type": "code",
   "execution_count": 287,
   "metadata": {},
   "outputs": [
    {
     "data": {
      "text/plain": [
       "array([0.40518097, 0.48746678, 0.00091314, 0.00250479, 0.00347393,\n",
       "       0.03666158, 0.01041111, 0.00938128, 0.01207607, 0.0102968 ,\n",
       "       0.01040814, 0.01122541])"
      ]
     },
     "execution_count": 287,
     "metadata": {},
     "output_type": "execute_result"
    }
   ],
   "source": [
    "random_forest.feature_importances_"
   ]
  },
  {
   "cell_type": "code",
   "execution_count": 288,
   "metadata": {},
   "outputs": [],
   "source": [
    "ranks[\"Random_Forest\"] = feature_ranking(random_forest.feature_importances_,column_names)"
   ]
  },
  {
   "cell_type": "markdown",
   "metadata": {},
   "source": [
    "### Converting ranking into a dataframe and taking average importance"
   ]
  },
  {
   "cell_type": "code",
   "execution_count": 289,
   "metadata": {},
   "outputs": [],
   "source": [
    "mean_rank = {}\n",
    "for name in column_names:\n",
    "    mean_rank[name] = round(np.mean([ranks[method][name] \n",
    "                             for method in ranks.keys()]), 2)"
   ]
  },
  {
   "cell_type": "code",
   "execution_count": 290,
   "metadata": {},
   "outputs": [],
   "source": [
    "rankings = pd.DataFrame(columns=[\"Features\",\"Ranking\"])"
   ]
  },
  {
   "cell_type": "code",
   "execution_count": 291,
   "metadata": {},
   "outputs": [],
   "source": [
    "rankings['Features'] = mean_rank.keys()\n",
    "rankings['Ranking'] = mean_rank.values()"
   ]
  },
  {
   "cell_type": "code",
   "execution_count": 292,
   "metadata": {},
   "outputs": [],
   "source": [
    "rankings = rankings.sort_values(by=\"Ranking\",ascending=False)"
   ]
  },
  {
   "cell_type": "code",
   "execution_count": 293,
   "metadata": {},
   "outputs": [
    {
     "data": {
      "text/plain": [
       "<seaborn.axisgrid.FacetGrid at 0x1a2bbefc50>"
      ]
     },
     "execution_count": 293,
     "metadata": {},
     "output_type": "execute_result"
    },
    {
     "data": {
      "image/png": "[encoded data removed]",
      "text/plain": [
       "<matplotlib.figure.Figure at 0x1a2ed14278>"
      ]
     },
     "metadata": {},
     "output_type": "display_data"
    }
   ],
   "source": [
    "sns.factorplot(x=\"Ranking\",y=\"Features\",data=rankings,kind=\"bar\",size=16,aspect=1.9,palette=\"coolwarm\")"
   ]
  },
  {
   "cell_type": "markdown",
   "metadata": {},
   "source": [
    "### The features here make sense. The estimated_time depends on time for cooking and time for pickup. The pickup time depends on the workload of the dasher, day of the week and time of the day. The cooking time also depends on the no of items ordered(subtotal), day of the week and time of the day. So the feature extraction makes sense."
   ]
  },
  {
   "cell_type": "markdown",
   "metadata": {},
   "source": [
    "### Since the dummy variables are not ranked together, it is not right to eliminate some of them and keep the rest as these dummy variables together represent a category."
   ]
  },
  {
   "cell_type": "markdown",
   "metadata": {},
   "source": [
    "### Machine Learning Modelling - Let's apply these features to a model and see which combination of features gives us the least root_mean_squared_error on the test data. We can compare model's performance based on that"
   ]
  },
  {
   "cell_type": "code",
   "execution_count": 294,
   "metadata": {},
   "outputs": [],
   "source": [
    "X = pd.get_dummies(X)"
   ]
  },
  {
   "cell_type": "code",
   "execution_count": 295,
   "metadata": {},
   "outputs": [],
   "source": [
    "pipeline = [('LR',LinearRegression()),('GBR',GradientBoostingRegressor()),('EN', ElasticNet()),('KNN', KNeighborsRegressor()),('DTR', DecisionTreeRegressor()),('LASSO', Lasso())]"
   ]
  },
  {
   "cell_type": "code",
   "execution_count": 296,
   "metadata": {},
   "outputs": [],
   "source": [
    "# standardize numerical data\n",
    "X_sample = X[['workload','subtotal']]\n",
    "scaler = StandardScaler().fit(X_sample)\n",
    "X_sample = scaler.transform(X_sample)"
   ]
  },
  {
   "cell_type": "code",
   "execution_count": 297,
   "metadata": {},
   "outputs": [],
   "source": [
    "X[['workload','subtotal']] = X_sample"
   ]
  },
  {
   "cell_type": "code",
   "execution_count": 298,
   "metadata": {},
   "outputs": [
    {
     "data": {
      "text/html": [
       "<div>\n",
       "<style scoped>\n",
       "    .dataframe tbody tr th:only-of-type {\n",
       "        vertical-align: middle;\n",
       "    }\n",
       "\n",
       "    .dataframe tbody tr th {\n",
       "        vertical-align: top;\n",
       "    }\n",
       "\n",
       "    .dataframe thead th {\n",
       "        text-align: right;\n",
       "    }\n",
       "</style>\n",
       "<table border=\"1\" class=\"dataframe\">\n",
       "  <thead>\n",
       "    <tr style=\"text-align: right;\">\n",
       "      <th></th>\n",
       "      <th>workload</th>\n",
       "      <th>subtotal</th>\n",
       "      <th>Time_0</th>\n",
       "      <th>Time_1</th>\n",
       "      <th>Time_2</th>\n",
       "      <th>Weekday_0</th>\n",
       "      <th>Weekday_1</th>\n",
       "      <th>Weekday_2</th>\n",
       "      <th>Weekday_3</th>\n",
       "      <th>Weekday_4</th>\n",
       "      <th>Weekday_5</th>\n",
       "      <th>Weekday_6</th>\n",
       "    </tr>\n",
       "  </thead>\n",
       "  <tbody>\n",
       "    <tr>\n",
       "      <th>0</th>\n",
       "      <td>-1.230707</td>\n",
       "      <td>0.650720</td>\n",
       "      <td>0</td>\n",
       "      <td>0</td>\n",
       "      <td>1</td>\n",
       "      <td>0</td>\n",
       "      <td>0</td>\n",
       "      <td>0</td>\n",
       "      <td>0</td>\n",
       "      <td>1</td>\n",
       "      <td>0</td>\n",
       "      <td>0</td>\n",
       "    </tr>\n",
       "    <tr>\n",
       "      <th>1</th>\n",
       "      <td>1.677408</td>\n",
       "      <td>-0.406820</td>\n",
       "      <td>0</td>\n",
       "      <td>0</td>\n",
       "      <td>1</td>\n",
       "      <td>0</td>\n",
       "      <td>1</td>\n",
       "      <td>0</td>\n",
       "      <td>0</td>\n",
       "      <td>0</td>\n",
       "      <td>0</td>\n",
       "      <td>0</td>\n",
       "    </tr>\n",
       "    <tr>\n",
       "      <th>2</th>\n",
       "      <td>-2.587827</td>\n",
       "      <td>-0.406820</td>\n",
       "      <td>0</td>\n",
       "      <td>0</td>\n",
       "      <td>1</td>\n",
       "      <td>0</td>\n",
       "      <td>0</td>\n",
       "      <td>0</td>\n",
       "      <td>1</td>\n",
       "      <td>0</td>\n",
       "      <td>0</td>\n",
       "      <td>0</td>\n",
       "    </tr>\n",
       "    <tr>\n",
       "      <th>3</th>\n",
       "      <td>1.677408</td>\n",
       "      <td>3.024523</td>\n",
       "      <td>0</td>\n",
       "      <td>0</td>\n",
       "      <td>1</td>\n",
       "      <td>0</td>\n",
       "      <td>1</td>\n",
       "      <td>0</td>\n",
       "      <td>0</td>\n",
       "      <td>0</td>\n",
       "      <td>0</td>\n",
       "      <td>0</td>\n",
       "    </tr>\n",
       "    <tr>\n",
       "      <th>4</th>\n",
       "      <td>0.611099</td>\n",
       "      <td>0.965717</td>\n",
       "      <td>0</td>\n",
       "      <td>0</td>\n",
       "      <td>1</td>\n",
       "      <td>0</td>\n",
       "      <td>0</td>\n",
       "      <td>0</td>\n",
       "      <td>0</td>\n",
       "      <td>0</td>\n",
       "      <td>0</td>\n",
       "      <td>1</td>\n",
       "    </tr>\n",
       "  </tbody>\n",
       "</table>\n",
       "</div>"
      ],
      "text/plain": [
       "   workload  subtotal  Time_0  Time_1  Time_2  Weekday_0  Weekday_1  \\\n",
       "0 -1.230707  0.650720       0       0       1          0          0   \n",
       "1  1.677408 -0.406820       0       0       1          0          1   \n",
       "2 -2.587827 -0.406820       0       0       1          0          0   \n",
       "3  1.677408  3.024523       0       0       1          0          1   \n",
       "4  0.611099  0.965717       0       0       1          0          0   \n",
       "\n",
       "   Weekday_2  Weekday_3  Weekday_4  Weekday_5  Weekday_6  \n",
       "0          0          0          1          0          0  \n",
       "1          0          0          0          0          0  \n",
       "2          0          1          0          0          0  \n",
       "3          0          0          0          0          0  \n",
       "4          0          0          0          0          1  "
      ]
     },
     "execution_count": 298,
     "metadata": {},
     "output_type": "execute_result"
    }
   ],
   "source": [
    "X.head()"
   ]
  },
  {
   "cell_type": "code",
   "execution_count": 299,
   "metadata": {},
   "outputs": [],
   "source": [
    "X_train,X_test,y_train,y_test = train_test_split(X,Y,test_size=0.2,random_state=43)"
   ]
  },
  {
   "cell_type": "code",
   "execution_count": 300,
   "metadata": {},
   "outputs": [
    {
     "name": "stdout",
     "output_type": "stream",
     "text": [
      "LR: -1885678.707610 (2443125.801619)\n",
      "[ -962117.45186509  -956657.7446649  -1146882.6945412  -1196028.06116659\n",
      " -9208980.0557207   -967134.03066081  -946928.46368332 -1208441.16824806\n",
      " -1140302.44297943 -1123314.96256761]\n"
     ]
    },
    {
     "name": "stderr",
     "output_type": "stream",
     "text": [
      "/Users/srivatsanramesh/anaconda3/lib/python3.6/site-packages/sklearn/utils/validation.py:578: DataConversionWarning: A column-vector y was passed when a 1d array was expected. Please change the shape of y to (n_samples, ), for example using ravel().\n",
      "  y = column_or_1d(y, warn=True)\n",
      "/Users/srivatsanramesh/anaconda3/lib/python3.6/site-packages/sklearn/utils/validation.py:578: DataConversionWarning: A column-vector y was passed when a 1d array was expected. Please change the shape of y to (n_samples, ), for example using ravel().\n",
      "  y = column_or_1d(y, warn=True)\n",
      "/Users/srivatsanramesh/anaconda3/lib/python3.6/site-packages/sklearn/utils/validation.py:578: DataConversionWarning: A column-vector y was passed when a 1d array was expected. Please change the shape of y to (n_samples, ), for example using ravel().\n",
      "  y = column_or_1d(y, warn=True)\n",
      "/Users/srivatsanramesh/anaconda3/lib/python3.6/site-packages/sklearn/utils/validation.py:578: DataConversionWarning: A column-vector y was passed when a 1d array was expected. Please change the shape of y to (n_samples, ), for example using ravel().\n",
      "  y = column_or_1d(y, warn=True)\n",
      "/Users/srivatsanramesh/anaconda3/lib/python3.6/site-packages/sklearn/utils/validation.py:578: DataConversionWarning: A column-vector y was passed when a 1d array was expected. Please change the shape of y to (n_samples, ), for example using ravel().\n",
      "  y = column_or_1d(y, warn=True)\n",
      "/Users/srivatsanramesh/anaconda3/lib/python3.6/site-packages/sklearn/utils/validation.py:578: DataConversionWarning: A column-vector y was passed when a 1d array was expected. Please change the shape of y to (n_samples, ), for example using ravel().\n",
      "  y = column_or_1d(y, warn=True)\n",
      "/Users/srivatsanramesh/anaconda3/lib/python3.6/site-packages/sklearn/utils/validation.py:578: DataConversionWarning: A column-vector y was passed when a 1d array was expected. Please change the shape of y to (n_samples, ), for example using ravel().\n",
      "  y = column_or_1d(y, warn=True)\n",
      "/Users/srivatsanramesh/anaconda3/lib/python3.6/site-packages/sklearn/utils/validation.py:578: DataConversionWarning: A column-vector y was passed when a 1d array was expected. Please change the shape of y to (n_samples, ), for example using ravel().\n",
      "  y = column_or_1d(y, warn=True)\n",
      "/Users/srivatsanramesh/anaconda3/lib/python3.6/site-packages/sklearn/utils/validation.py:578: DataConversionWarning: A column-vector y was passed when a 1d array was expected. Please change the shape of y to (n_samples, ), for example using ravel().\n",
      "  y = column_or_1d(y, warn=True)\n",
      "/Users/srivatsanramesh/anaconda3/lib/python3.6/site-packages/sklearn/utils/validation.py:578: DataConversionWarning: A column-vector y was passed when a 1d array was expected. Please change the shape of y to (n_samples, ), for example using ravel().\n",
      "  y = column_or_1d(y, warn=True)\n"
     ]
    },
    {
     "name": "stdout",
     "output_type": "stream",
     "text": [
      "GBR: -1843397.327604 (2441798.527952)\n",
      "[ -877520.2509668   -966988.34320995 -1022783.95122732 -1157818.15701158\n",
      " -9163226.29504598  -926468.43316355  -945491.26761795 -1162705.80209375\n",
      " -1098234.6580865  -1112736.11761424]\n",
      "EN: -1905597.560430 (2448869.754416)\n",
      "[ -938917.04643536  -982828.05701826 -1127350.47980453 -1222503.13550512\n",
      " -9245575.11642811  -999364.92167897  -974467.49915858 -1241780.83854495\n",
      " -1168793.9000779  -1154394.60964973]\n",
      "KNN: -2150413.853893 (2410732.655177)\n",
      "[-1391911.00317229 -1423925.37624087 -1210297.90234718 -1344912.40394111\n",
      " -9361655.92104652 -1118695.43119569 -1074531.33775163 -1666437.33564355\n",
      " -1625601.91734091 -1286169.91024851]\n",
      "DTR: -3713966.499773 (3251048.608421)\n",
      "[ -2214292.66284716  -2014387.71054006  -1974343.49184027\n",
      "  -2208606.96994511 -10130461.73295618  -1859087.15871472\n",
      "  -2088181.00763911  -2334646.05792368 -10290658.92632807\n",
      "  -2024999.27900056]\n",
      "LASSO: -1885856.616697 (2443226.649121)\n",
      "[ -961969.64779823  -956938.10788936 -1146884.30094625 -1195990.95146015\n",
      " -9209454.34673969  -967207.30705344  -947072.82460525 -1208969.88272453\n",
      " -1140448.40168798 -1123630.39606901]\n"
     ]
    }
   ],
   "source": [
    "results = []\n",
    "names = []\n",
    "for name,model in pipeline:\n",
    "    kfold = KFold(n_splits=10,random_state=21)\n",
    "    cv_results = cross_val_score(model, X_train, y_train, cv=kfold, scoring='neg_mean_squared_error')\n",
    "    results.append(cv_results)\n",
    "    names.append(name)\n",
    "    msg = \"%s: %f (%f)\" % (name, cv_results.mean(), cv_results.std())\n",
    "    print(msg)\n",
    "    print(cv_results)"
   ]
  },
  {
   "cell_type": "markdown",
   "metadata": {},
   "source": [
    "### Gradient Boosting Regressor outperformed the other models on the scaled version of numerical data. So Let's focus on developing a GBR. It will be tested using with a few n_estimators using GridSearchCV function"
   ]
  },
  {
   "cell_type": "code",
   "execution_count": 301,
   "metadata": {},
   "outputs": [
    {
     "name": "stderr",
     "output_type": "stream",
     "text": [
      "/Users/srivatsanramesh/anaconda3/lib/python3.6/site-packages/sklearn/utils/validation.py:578: DataConversionWarning: A column-vector y was passed when a 1d array was expected. Please change the shape of y to (n_samples, ), for example using ravel().\n",
      "  y = column_or_1d(y, warn=True)\n",
      "/Users/srivatsanramesh/anaconda3/lib/python3.6/site-packages/sklearn/utils/validation.py:578: DataConversionWarning: A column-vector y was passed when a 1d array was expected. Please change the shape of y to (n_samples, ), for example using ravel().\n",
      "  y = column_or_1d(y, warn=True)\n",
      "/Users/srivatsanramesh/anaconda3/lib/python3.6/site-packages/sklearn/utils/validation.py:578: DataConversionWarning: A column-vector y was passed when a 1d array was expected. Please change the shape of y to (n_samples, ), for example using ravel().\n",
      "  y = column_or_1d(y, warn=True)\n",
      "/Users/srivatsanramesh/anaconda3/lib/python3.6/site-packages/sklearn/utils/validation.py:578: DataConversionWarning: A column-vector y was passed when a 1d array was expected. Please change the shape of y to (n_samples, ), for example using ravel().\n",
      "  y = column_or_1d(y, warn=True)\n",
      "/Users/srivatsanramesh/anaconda3/lib/python3.6/site-packages/sklearn/utils/validation.py:578: DataConversionWarning: A column-vector y was passed when a 1d array was expected. Please change the shape of y to (n_samples, ), for example using ravel().\n",
      "  y = column_or_1d(y, warn=True)\n",
      "/Users/srivatsanramesh/anaconda3/lib/python3.6/site-packages/sklearn/utils/validation.py:578: DataConversionWarning: A column-vector y was passed when a 1d array was expected. Please change the shape of y to (n_samples, ), for example using ravel().\n",
      "  y = column_or_1d(y, warn=True)\n",
      "/Users/srivatsanramesh/anaconda3/lib/python3.6/site-packages/sklearn/utils/validation.py:578: DataConversionWarning: A column-vector y was passed when a 1d array was expected. Please change the shape of y to (n_samples, ), for example using ravel().\n",
      "  y = column_or_1d(y, warn=True)\n",
      "/Users/srivatsanramesh/anaconda3/lib/python3.6/site-packages/sklearn/utils/validation.py:578: DataConversionWarning: A column-vector y was passed when a 1d array was expected. Please change the shape of y to (n_samples, ), for example using ravel().\n",
      "  y = column_or_1d(y, warn=True)\n",
      "/Users/srivatsanramesh/anaconda3/lib/python3.6/site-packages/sklearn/utils/validation.py:578: DataConversionWarning: A column-vector y was passed when a 1d array was expected. Please change the shape of y to (n_samples, ), for example using ravel().\n",
      "  y = column_or_1d(y, warn=True)\n",
      "/Users/srivatsanramesh/anaconda3/lib/python3.6/site-packages/sklearn/utils/validation.py:578: DataConversionWarning: A column-vector y was passed when a 1d array was expected. Please change the shape of y to (n_samples, ), for example using ravel().\n",
      "  y = column_or_1d(y, warn=True)\n",
      "/Users/srivatsanramesh/anaconda3/lib/python3.6/site-packages/sklearn/utils/validation.py:578: DataConversionWarning: A column-vector y was passed when a 1d array was expected. Please change the shape of y to (n_samples, ), for example using ravel().\n",
      "  y = column_or_1d(y, warn=True)\n",
      "/Users/srivatsanramesh/anaconda3/lib/python3.6/site-packages/sklearn/utils/validation.py:578: DataConversionWarning: A column-vector y was passed when a 1d array was expected. Please change the shape of y to (n_samples, ), for example using ravel().\n",
      "  y = column_or_1d(y, warn=True)\n",
      "/Users/srivatsanramesh/anaconda3/lib/python3.6/site-packages/sklearn/utils/validation.py:578: DataConversionWarning: A column-vector y was passed when a 1d array was expected. Please change the shape of y to (n_samples, ), for example using ravel().\n",
      "  y = column_or_1d(y, warn=True)\n",
      "/Users/srivatsanramesh/anaconda3/lib/python3.6/site-packages/sklearn/utils/validation.py:578: DataConversionWarning: A column-vector y was passed when a 1d array was expected. Please change the shape of y to (n_samples, ), for example using ravel().\n",
      "  y = column_or_1d(y, warn=True)\n",
      "/Users/srivatsanramesh/anaconda3/lib/python3.6/site-packages/sklearn/utils/validation.py:578: DataConversionWarning: A column-vector y was passed when a 1d array was expected. Please change the shape of y to (n_samples, ), for example using ravel().\n",
      "  y = column_or_1d(y, warn=True)\n",
      "/Users/srivatsanramesh/anaconda3/lib/python3.6/site-packages/sklearn/utils/validation.py:578: DataConversionWarning: A column-vector y was passed when a 1d array was expected. Please change the shape of y to (n_samples, ), for example using ravel().\n",
      "  y = column_or_1d(y, warn=True)\n",
      "/Users/srivatsanramesh/anaconda3/lib/python3.6/site-packages/sklearn/utils/validation.py:578: DataConversionWarning: A column-vector y was passed when a 1d array was expected. Please change the shape of y to (n_samples, ), for example using ravel().\n",
      "  y = column_or_1d(y, warn=True)\n",
      "/Users/srivatsanramesh/anaconda3/lib/python3.6/site-packages/sklearn/utils/validation.py:578: DataConversionWarning: A column-vector y was passed when a 1d array was expected. Please change the shape of y to (n_samples, ), for example using ravel().\n",
      "  y = column_or_1d(y, warn=True)\n",
      "/Users/srivatsanramesh/anaconda3/lib/python3.6/site-packages/sklearn/utils/validation.py:578: DataConversionWarning: A column-vector y was passed when a 1d array was expected. Please change the shape of y to (n_samples, ), for example using ravel().\n",
      "  y = column_or_1d(y, warn=True)\n",
      "/Users/srivatsanramesh/anaconda3/lib/python3.6/site-packages/sklearn/utils/validation.py:578: DataConversionWarning: A column-vector y was passed when a 1d array was expected. Please change the shape of y to (n_samples, ), for example using ravel().\n",
      "  y = column_or_1d(y, warn=True)\n",
      "/Users/srivatsanramesh/anaconda3/lib/python3.6/site-packages/sklearn/utils/validation.py:578: DataConversionWarning: A column-vector y was passed when a 1d array was expected. Please change the shape of y to (n_samples, ), for example using ravel().\n",
      "  y = column_or_1d(y, warn=True)\n",
      "/Users/srivatsanramesh/anaconda3/lib/python3.6/site-packages/sklearn/utils/validation.py:578: DataConversionWarning: A column-vector y was passed when a 1d array was expected. Please change the shape of y to (n_samples, ), for example using ravel().\n",
      "  y = column_or_1d(y, warn=True)\n",
      "/Users/srivatsanramesh/anaconda3/lib/python3.6/site-packages/sklearn/utils/validation.py:578: DataConversionWarning: A column-vector y was passed when a 1d array was expected. Please change the shape of y to (n_samples, ), for example using ravel().\n",
      "  y = column_or_1d(y, warn=True)\n",
      "/Users/srivatsanramesh/anaconda3/lib/python3.6/site-packages/sklearn/utils/validation.py:578: DataConversionWarning: A column-vector y was passed when a 1d array was expected. Please change the shape of y to (n_samples, ), for example using ravel().\n",
      "  y = column_or_1d(y, warn=True)\n",
      "/Users/srivatsanramesh/anaconda3/lib/python3.6/site-packages/sklearn/utils/validation.py:578: DataConversionWarning: A column-vector y was passed when a 1d array was expected. Please change the shape of y to (n_samples, ), for example using ravel().\n",
      "  y = column_or_1d(y, warn=True)\n",
      "/Users/srivatsanramesh/anaconda3/lib/python3.6/site-packages/sklearn/utils/validation.py:578: DataConversionWarning: A column-vector y was passed when a 1d array was expected. Please change the shape of y to (n_samples, ), for example using ravel().\n",
      "  y = column_or_1d(y, warn=True)\n",
      "/Users/srivatsanramesh/anaconda3/lib/python3.6/site-packages/sklearn/utils/validation.py:578: DataConversionWarning: A column-vector y was passed when a 1d array was expected. Please change the shape of y to (n_samples, ), for example using ravel().\n",
      "  y = column_or_1d(y, warn=True)\n",
      "/Users/srivatsanramesh/anaconda3/lib/python3.6/site-packages/sklearn/utils/validation.py:578: DataConversionWarning: A column-vector y was passed when a 1d array was expected. Please change the shape of y to (n_samples, ), for example using ravel().\n",
      "  y = column_or_1d(y, warn=True)\n",
      "/Users/srivatsanramesh/anaconda3/lib/python3.6/site-packages/sklearn/utils/validation.py:578: DataConversionWarning: A column-vector y was passed when a 1d array was expected. Please change the shape of y to (n_samples, ), for example using ravel().\n",
      "  y = column_or_1d(y, warn=True)\n"
     ]
    },
    {
     "name": "stderr",
     "output_type": "stream",
     "text": [
      "/Users/srivatsanramesh/anaconda3/lib/python3.6/site-packages/sklearn/utils/validation.py:578: DataConversionWarning: A column-vector y was passed when a 1d array was expected. Please change the shape of y to (n_samples, ), for example using ravel().\n",
      "  y = column_or_1d(y, warn=True)\n",
      "/Users/srivatsanramesh/anaconda3/lib/python3.6/site-packages/sklearn/utils/validation.py:578: DataConversionWarning: A column-vector y was passed when a 1d array was expected. Please change the shape of y to (n_samples, ), for example using ravel().\n",
      "  y = column_or_1d(y, warn=True)\n",
      "/Users/srivatsanramesh/anaconda3/lib/python3.6/site-packages/sklearn/utils/validation.py:578: DataConversionWarning: A column-vector y was passed when a 1d array was expected. Please change the shape of y to (n_samples, ), for example using ravel().\n",
      "  y = column_or_1d(y, warn=True)\n",
      "/Users/srivatsanramesh/anaconda3/lib/python3.6/site-packages/sklearn/utils/validation.py:578: DataConversionWarning: A column-vector y was passed when a 1d array was expected. Please change the shape of y to (n_samples, ), for example using ravel().\n",
      "  y = column_or_1d(y, warn=True)\n",
      "/Users/srivatsanramesh/anaconda3/lib/python3.6/site-packages/sklearn/utils/validation.py:578: DataConversionWarning: A column-vector y was passed when a 1d array was expected. Please change the shape of y to (n_samples, ), for example using ravel().\n",
      "  y = column_or_1d(y, warn=True)\n",
      "/Users/srivatsanramesh/anaconda3/lib/python3.6/site-packages/sklearn/utils/validation.py:578: DataConversionWarning: A column-vector y was passed when a 1d array was expected. Please change the shape of y to (n_samples, ), for example using ravel().\n",
      "  y = column_or_1d(y, warn=True)\n",
      "/Users/srivatsanramesh/anaconda3/lib/python3.6/site-packages/sklearn/utils/validation.py:578: DataConversionWarning: A column-vector y was passed when a 1d array was expected. Please change the shape of y to (n_samples, ), for example using ravel().\n",
      "  y = column_or_1d(y, warn=True)\n",
      "/Users/srivatsanramesh/anaconda3/lib/python3.6/site-packages/sklearn/utils/validation.py:578: DataConversionWarning: A column-vector y was passed when a 1d array was expected. Please change the shape of y to (n_samples, ), for example using ravel().\n",
      "  y = column_or_1d(y, warn=True)\n",
      "/Users/srivatsanramesh/anaconda3/lib/python3.6/site-packages/sklearn/utils/validation.py:578: DataConversionWarning: A column-vector y was passed when a 1d array was expected. Please change the shape of y to (n_samples, ), for example using ravel().\n",
      "  y = column_or_1d(y, warn=True)\n",
      "/Users/srivatsanramesh/anaconda3/lib/python3.6/site-packages/sklearn/utils/validation.py:578: DataConversionWarning: A column-vector y was passed when a 1d array was expected. Please change the shape of y to (n_samples, ), for example using ravel().\n",
      "  y = column_or_1d(y, warn=True)\n",
      "/Users/srivatsanramesh/anaconda3/lib/python3.6/site-packages/sklearn/utils/validation.py:578: DataConversionWarning: A column-vector y was passed when a 1d array was expected. Please change the shape of y to (n_samples, ), for example using ravel().\n",
      "  y = column_or_1d(y, warn=True)\n",
      "/Users/srivatsanramesh/anaconda3/lib/python3.6/site-packages/sklearn/utils/validation.py:578: DataConversionWarning: A column-vector y was passed when a 1d array was expected. Please change the shape of y to (n_samples, ), for example using ravel().\n",
      "  y = column_or_1d(y, warn=True)\n",
      "/Users/srivatsanramesh/anaconda3/lib/python3.6/site-packages/sklearn/utils/validation.py:578: DataConversionWarning: A column-vector y was passed when a 1d array was expected. Please change the shape of y to (n_samples, ), for example using ravel().\n",
      "  y = column_or_1d(y, warn=True)\n",
      "/Users/srivatsanramesh/anaconda3/lib/python3.6/site-packages/sklearn/utils/validation.py:578: DataConversionWarning: A column-vector y was passed when a 1d array was expected. Please change the shape of y to (n_samples, ), for example using ravel().\n",
      "  y = column_or_1d(y, warn=True)\n",
      "/Users/srivatsanramesh/anaconda3/lib/python3.6/site-packages/sklearn/utils/validation.py:578: DataConversionWarning: A column-vector y was passed when a 1d array was expected. Please change the shape of y to (n_samples, ), for example using ravel().\n",
      "  y = column_or_1d(y, warn=True)\n",
      "/Users/srivatsanramesh/anaconda3/lib/python3.6/site-packages/sklearn/utils/validation.py:578: DataConversionWarning: A column-vector y was passed when a 1d array was expected. Please change the shape of y to (n_samples, ), for example using ravel().\n",
      "  y = column_or_1d(y, warn=True)\n",
      "/Users/srivatsanramesh/anaconda3/lib/python3.6/site-packages/sklearn/utils/validation.py:578: DataConversionWarning: A column-vector y was passed when a 1d array was expected. Please change the shape of y to (n_samples, ), for example using ravel().\n",
      "  y = column_or_1d(y, warn=True)\n",
      "/Users/srivatsanramesh/anaconda3/lib/python3.6/site-packages/sklearn/utils/validation.py:578: DataConversionWarning: A column-vector y was passed when a 1d array was expected. Please change the shape of y to (n_samples, ), for example using ravel().\n",
      "  y = column_or_1d(y, warn=True)\n",
      "/Users/srivatsanramesh/anaconda3/lib/python3.6/site-packages/sklearn/utils/validation.py:578: DataConversionWarning: A column-vector y was passed when a 1d array was expected. Please change the shape of y to (n_samples, ), for example using ravel().\n",
      "  y = column_or_1d(y, warn=True)\n",
      "/Users/srivatsanramesh/anaconda3/lib/python3.6/site-packages/sklearn/utils/validation.py:578: DataConversionWarning: A column-vector y was passed when a 1d array was expected. Please change the shape of y to (n_samples, ), for example using ravel().\n",
      "  y = column_or_1d(y, warn=True)\n",
      "/Users/srivatsanramesh/anaconda3/lib/python3.6/site-packages/sklearn/utils/validation.py:578: DataConversionWarning: A column-vector y was passed when a 1d array was expected. Please change the shape of y to (n_samples, ), for example using ravel().\n",
      "  y = column_or_1d(y, warn=True)\n",
      "/Users/srivatsanramesh/anaconda3/lib/python3.6/site-packages/sklearn/utils/validation.py:578: DataConversionWarning: A column-vector y was passed when a 1d array was expected. Please change the shape of y to (n_samples, ), for example using ravel().\n",
      "  y = column_or_1d(y, warn=True)\n"
     ]
    },
    {
     "name": "stdout",
     "output_type": "stream",
     "text": [
      "-1841683.219155 (2444109.578864) with: {'n_estimators': 50}\n",
      "-1843406.726536 (2441815.878365) with: {'n_estimators': 100}\n",
      "-1906662.608643 (2420684.524662) with: {'n_estimators': 200}\n",
      "-1919163.869281 (2415894.295619) with: {'n_estimators': 300}\n",
      "-1917108.504803 (2416351.993063) with: {'n_estimators': 400}\n",
      "Best estimator: -1841683.219155 using {'n_estimators': 50}\n"
     ]
    }
   ],
   "source": [
    "parameters = dict(n_estimators=np.array([50,100,200,300,400]))\n",
    "model = GradientBoostingRegressor(random_state=21)\n",
    "kfold = KFold(n_splits=10,random_state=21)\n",
    "grid = GridSearchCV(estimator=model,param_grid=parameters, scoring='neg_mean_squared_error', cv=kfold)\n",
    "grid_result = grid.fit(X_train,y_train)\n",
    "means = grid_result.cv_results_['mean_test_score']\n",
    "stds = grid_result.cv_results_['std_test_score']\n",
    "params = grid_result.cv_results_['params']\n",
    "for mean, stdev, param in zip(means, stds, params):\n",
    "    print(\"%f (%f) with: %r\" % (mean, stdev, param))\n",
    "\n",
    "print(\"Best estimator: %f using %s\" % (grid_result.best_score_, grid_result.best_params_))"
   ]
  },
  {
   "cell_type": "markdown",
   "metadata": {},
   "source": [
    "### Prediction and Evaluation of Model"
   ]
  },
  {
   "cell_type": "code",
   "execution_count": 303,
   "metadata": {},
   "outputs": [
    {
     "name": "stderr",
     "output_type": "stream",
     "text": [
      "/Users/srivatsanramesh/anaconda3/lib/python3.6/site-packages/ipykernel_launcher.py:4: SettingWithCopyWarning: \n",
      "A value is trying to be set on a copy of a slice from a DataFrame.\n",
      "Try using .loc[row_indexer,col_indexer] = value instead\n",
      "\n",
      "See the caveats in the documentation: http://pandas.pydata.org/pandas-docs/stable/indexing.html#indexing-view-versus-copy\n",
      "  after removing the cwd from sys.path.\n",
      "/Users/srivatsanramesh/anaconda3/lib/python3.6/site-packages/pandas/core/indexing.py:537: SettingWithCopyWarning: \n",
      "A value is trying to be set on a copy of a slice from a DataFrame.\n",
      "Try using .loc[row_indexer,col_indexer] = value instead\n",
      "\n",
      "See the caveats in the documentation: http://pandas.pydata.org/pandas-docs/stable/indexing.html#indexing-view-versus-copy\n",
      "  self.obj[item] = s\n"
     ]
    },
    {
     "data": {
      "text/html": [
       "<div>\n",
       "<style scoped>\n",
       "    .dataframe tbody tr th:only-of-type {\n",
       "        vertical-align: middle;\n",
       "    }\n",
       "\n",
       "    .dataframe tbody tr th {\n",
       "        vertical-align: top;\n",
       "    }\n",
       "\n",
       "    .dataframe thead th {\n",
       "        text-align: right;\n",
       "    }\n",
       "</style>\n",
       "<table border=\"1\" class=\"dataframe\">\n",
       "  <thead>\n",
       "    <tr style=\"text-align: right;\">\n",
       "      <th></th>\n",
       "      <th>workload</th>\n",
       "      <th>subtotal</th>\n",
       "      <th>Time_0</th>\n",
       "      <th>Time_1</th>\n",
       "      <th>Time_2</th>\n",
       "      <th>Weekday_0</th>\n",
       "      <th>Weekday_1</th>\n",
       "      <th>Weekday_2</th>\n",
       "      <th>Weekday_3</th>\n",
       "      <th>Weekday_4</th>\n",
       "      <th>Weekday_5</th>\n",
       "      <th>Weekday_6</th>\n",
       "    </tr>\n",
       "  </thead>\n",
       "  <tbody>\n",
       "    <tr>\n",
       "      <th>66978</th>\n",
       "      <td>-0.101090</td>\n",
       "      <td>-0.666978</td>\n",
       "      <td>0</td>\n",
       "      <td>0</td>\n",
       "      <td>1</td>\n",
       "      <td>0</td>\n",
       "      <td>0</td>\n",
       "      <td>0</td>\n",
       "      <td>1</td>\n",
       "      <td>0</td>\n",
       "      <td>0</td>\n",
       "      <td>0</td>\n",
       "    </tr>\n",
       "    <tr>\n",
       "      <th>71310</th>\n",
       "      <td>0.423384</td>\n",
       "      <td>-0.789188</td>\n",
       "      <td>0</td>\n",
       "      <td>0</td>\n",
       "      <td>1</td>\n",
       "      <td>0</td>\n",
       "      <td>0</td>\n",
       "      <td>0</td>\n",
       "      <td>0</td>\n",
       "      <td>0</td>\n",
       "      <td>0</td>\n",
       "      <td>1</td>\n",
       "    </tr>\n",
       "    <tr>\n",
       "      <th>25335</th>\n",
       "      <td>-0.565624</td>\n",
       "      <td>-0.529663</td>\n",
       "      <td>0</td>\n",
       "      <td>0</td>\n",
       "      <td>1</td>\n",
       "      <td>0</td>\n",
       "      <td>0</td>\n",
       "      <td>0</td>\n",
       "      <td>0</td>\n",
       "      <td>0</td>\n",
       "      <td>0</td>\n",
       "      <td>1</td>\n",
       "    </tr>\n",
       "    <tr>\n",
       "      <th>54414</th>\n",
       "      <td>-1.540437</td>\n",
       "      <td>0.343658</td>\n",
       "      <td>0</td>\n",
       "      <td>0</td>\n",
       "      <td>1</td>\n",
       "      <td>0</td>\n",
       "      <td>0</td>\n",
       "      <td>0</td>\n",
       "      <td>0</td>\n",
       "      <td>1</td>\n",
       "      <td>0</td>\n",
       "      <td>0</td>\n",
       "    </tr>\n",
       "    <tr>\n",
       "      <th>12668</th>\n",
       "      <td>-0.058276</td>\n",
       "      <td>2.046359</td>\n",
       "      <td>0</td>\n",
       "      <td>0</td>\n",
       "      <td>1</td>\n",
       "      <td>0</td>\n",
       "      <td>0</td>\n",
       "      <td>0</td>\n",
       "      <td>1</td>\n",
       "      <td>0</td>\n",
       "      <td>0</td>\n",
       "      <td>0</td>\n",
       "    </tr>\n",
       "  </tbody>\n",
       "</table>\n",
       "</div>"
      ],
      "text/plain": [
       "       workload  subtotal  Time_0  Time_1  Time_2  Weekday_0  Weekday_1  \\\n",
       "66978 -0.101090 -0.666978       0       0       1          0          0   \n",
       "71310  0.423384 -0.789188       0       0       1          0          0   \n",
       "25335 -0.565624 -0.529663       0       0       1          0          0   \n",
       "54414 -1.540437  0.343658       0       0       1          0          0   \n",
       "12668 -0.058276  2.046359       0       0       1          0          0   \n",
       "\n",
       "       Weekday_2  Weekday_3  Weekday_4  Weekday_5  Weekday_6  \n",
       "66978          0          1          0          0          0  \n",
       "71310          0          0          0          0          1  \n",
       "25335          0          0          0          0          1  \n",
       "54414          0          0          1          0          0  \n",
       "12668          0          1          0          0          0  "
      ]
     },
     "execution_count": 303,
     "metadata": {},
     "output_type": "execute_result"
    }
   ],
   "source": [
    "X_test_sample = X_test[['workload','subtotal']]\n",
    "scaler = StandardScaler().fit(X_test_sample)\n",
    "X_test_sample = scaler.transform(X_test_sample)\n",
    "X_test[['workload','subtotal']] = X_test_sample\n",
    "X_test.head()"
   ]
  },
  {
   "cell_type": "code",
   "execution_count": 304,
   "metadata": {},
   "outputs": [
    {
     "name": "stderr",
     "output_type": "stream",
     "text": [
      "/Users/srivatsanramesh/anaconda3/lib/python3.6/site-packages/sklearn/utils/validation.py:578: DataConversionWarning: A column-vector y was passed when a 1d array was expected. Please change the shape of y to (n_samples, ), for example using ravel().\n",
      "  y = column_or_1d(y, warn=True)\n"
     ]
    },
    {
     "data": {
      "text/plain": [
       "GradientBoostingRegressor(alpha=0.9, criterion='friedman_mse', init=None,\n",
       "             learning_rate=0.1, loss='ls', max_depth=3, max_features=None,\n",
       "             max_leaf_nodes=None, min_impurity_decrease=0.0,\n",
       "             min_impurity_split=None, min_samples_leaf=1,\n",
       "             min_samples_split=2, min_weight_fraction_leaf=0.0,\n",
       "             n_estimators=50, presort='auto', random_state=21,\n",
       "             subsample=1.0, verbose=0, warm_start=False)"
      ]
     },
     "execution_count": 304,
     "metadata": {},
     "output_type": "execute_result"
    }
   ],
   "source": [
    "model = GradientBoostingRegressor(random_state=21,n_estimators=50)\n",
    "model.fit(X_train,y_train)"
   ]
  },
  {
   "cell_type": "code",
   "execution_count": 305,
   "metadata": {},
   "outputs": [],
   "source": [
    "predictions = model.predict(X_test)"
   ]
  },
  {
   "cell_type": "code",
   "execution_count": 307,
   "metadata": {},
   "outputs": [
    {
     "ename": "ValueError",
     "evalue": "Shape of passed values is (33092, 33092), indices imply (1, 33092)",
     "output_type": "error",
     "traceback": [
      "\u001b[0;31m---------------------------------------------------------------------------\u001b[0m",
      "\u001b[0;31mValueError\u001b[0m                                Traceback (most recent call last)",
      "\u001b[0;32m~/anaconda3/lib/python3.6/site-packages/pandas/core/internals.py\u001b[0m in \u001b[0;36mcreate_block_manager_from_blocks\u001b[0;34m(blocks, axes)\u001b[0m\n\u001b[1;32m   4621\u001b[0m                 blocks = [make_block(values=blocks[0],\n\u001b[0;32m-> 4622\u001b[0;31m                                      placement=slice(0, len(axes[0])))]\n\u001b[0m\u001b[1;32m   4623\u001b[0m \u001b[0;34m\u001b[0m\u001b[0m\n",
      "\u001b[0;32m~/anaconda3/lib/python3.6/site-packages/pandas/core/internals.py\u001b[0m in \u001b[0;36mmake_block\u001b[0;34m(values, placement, klass, ndim, dtype, fastpath)\u001b[0m\n\u001b[1;32m   2956\u001b[0m \u001b[0;34m\u001b[0m\u001b[0m\n\u001b[0;32m-> 2957\u001b[0;31m     \u001b[0;32mreturn\u001b[0m \u001b[0mklass\u001b[0m\u001b[0;34m(\u001b[0m\u001b[0mvalues\u001b[0m\u001b[0;34m,\u001b[0m \u001b[0mndim\u001b[0m\u001b[0;34m=\u001b[0m\u001b[0mndim\u001b[0m\u001b[0;34m,\u001b[0m \u001b[0mfastpath\u001b[0m\u001b[0;34m=\u001b[0m\u001b[0mfastpath\u001b[0m\u001b[0;34m,\u001b[0m \u001b[0mplacement\u001b[0m\u001b[0;34m=\u001b[0m\u001b[0mplacement\u001b[0m\u001b[0;34m)\u001b[0m\u001b[0;34m\u001b[0m\u001b[0m\n\u001b[0m\u001b[1;32m   2958\u001b[0m \u001b[0;34m\u001b[0m\u001b[0m\n",
      "\u001b[0;32m~/anaconda3/lib/python3.6/site-packages/pandas/core/internals.py\u001b[0m in \u001b[0;36m__init__\u001b[0;34m(self, values, placement, ndim, fastpath)\u001b[0m\n\u001b[1;32m    119\u001b[0m                              'implies %d' % (len(self.values),\n\u001b[0;32m--> 120\u001b[0;31m                                              len(self.mgr_locs)))\n\u001b[0m\u001b[1;32m    121\u001b[0m \u001b[0;34m\u001b[0m\u001b[0m\n",
      "\u001b[0;31mValueError\u001b[0m: Wrong number of items passed 33092, placement implies 1",
      "\nDuring handling of the above exception, another exception occurred:\n",
      "\u001b[0;31mValueError\u001b[0m                                Traceback (most recent call last)",
      "\u001b[0;32m<ipython-input-307-1b4a3eb10460>\u001b[0m in \u001b[0;36m<module>\u001b[0;34m()\u001b[0m\n\u001b[0;32m----> 1\u001b[0;31m \u001b[0mnp\u001b[0m\u001b[0;34m.\u001b[0m\u001b[0mmean\u001b[0m\u001b[0;34m(\u001b[0m\u001b[0;34m(\u001b[0m\u001b[0mpredictions\u001b[0m \u001b[0;34m-\u001b[0m \u001b[0my_test\u001b[0m\u001b[0;34m)\u001b[0m\u001b[0;34m**\u001b[0m\u001b[0;36m2\u001b[0m\u001b[0;34m)\u001b[0m\u001b[0;34m\u001b[0m\u001b[0m\n\u001b[0m",
      "\u001b[0;32m~/anaconda3/lib/python3.6/site-packages/pandas/core/generic.py\u001b[0m in \u001b[0;36m__array_wrap__\u001b[0;34m(self, result, context)\u001b[0m\n\u001b[1;32m   1153\u001b[0m     \u001b[0;32mdef\u001b[0m \u001b[0m__array_wrap__\u001b[0m\u001b[0;34m(\u001b[0m\u001b[0mself\u001b[0m\u001b[0;34m,\u001b[0m \u001b[0mresult\u001b[0m\u001b[0;34m,\u001b[0m \u001b[0mcontext\u001b[0m\u001b[0;34m=\u001b[0m\u001b[0;32mNone\u001b[0m\u001b[0;34m)\u001b[0m\u001b[0;34m:\u001b[0m\u001b[0;34m\u001b[0m\u001b[0m\n\u001b[1;32m   1154\u001b[0m         \u001b[0md\u001b[0m \u001b[0;34m=\u001b[0m \u001b[0mself\u001b[0m\u001b[0;34m.\u001b[0m\u001b[0m_construct_axes_dict\u001b[0m\u001b[0;34m(\u001b[0m\u001b[0mself\u001b[0m\u001b[0;34m.\u001b[0m\u001b[0m_AXIS_ORDERS\u001b[0m\u001b[0;34m,\u001b[0m \u001b[0mcopy\u001b[0m\u001b[0;34m=\u001b[0m\u001b[0;32mFalse\u001b[0m\u001b[0;34m)\u001b[0m\u001b[0;34m\u001b[0m\u001b[0m\n\u001b[0;32m-> 1155\u001b[0;31m         \u001b[0;32mreturn\u001b[0m \u001b[0mself\u001b[0m\u001b[0;34m.\u001b[0m\u001b[0m_constructor\u001b[0m\u001b[0;34m(\u001b[0m\u001b[0mresult\u001b[0m\u001b[0;34m,\u001b[0m \u001b[0;34m**\u001b[0m\u001b[0md\u001b[0m\u001b[0;34m)\u001b[0m\u001b[0;34m.\u001b[0m\u001b[0m__finalize__\u001b[0m\u001b[0;34m(\u001b[0m\u001b[0mself\u001b[0m\u001b[0;34m)\u001b[0m\u001b[0;34m\u001b[0m\u001b[0m\n\u001b[0m\u001b[1;32m   1156\u001b[0m \u001b[0;34m\u001b[0m\u001b[0m\n\u001b[1;32m   1157\u001b[0m     \u001b[0;31m# ideally we would define this to avoid the getattr checks, but\u001b[0m\u001b[0;34m\u001b[0m\u001b[0;34m\u001b[0m\u001b[0m\n",
      "\u001b[0;32m~/anaconda3/lib/python3.6/site-packages/pandas/core/frame.py\u001b[0m in \u001b[0;36m__init__\u001b[0;34m(self, data, index, columns, dtype, copy)\u001b[0m\n\u001b[1;32m    359\u001b[0m             \u001b[0;32melse\u001b[0m\u001b[0;34m:\u001b[0m\u001b[0;34m\u001b[0m\u001b[0m\n\u001b[1;32m    360\u001b[0m                 mgr = self._init_ndarray(data, index, columns, dtype=dtype,\n\u001b[0;32m--> 361\u001b[0;31m                                          copy=copy)\n\u001b[0m\u001b[1;32m    362\u001b[0m         \u001b[0;32melif\u001b[0m \u001b[0misinstance\u001b[0m\u001b[0;34m(\u001b[0m\u001b[0mdata\u001b[0m\u001b[0;34m,\u001b[0m \u001b[0;34m(\u001b[0m\u001b[0mlist\u001b[0m\u001b[0;34m,\u001b[0m \u001b[0mtypes\u001b[0m\u001b[0;34m.\u001b[0m\u001b[0mGeneratorType\u001b[0m\u001b[0;34m)\u001b[0m\u001b[0;34m)\u001b[0m\u001b[0;34m:\u001b[0m\u001b[0;34m\u001b[0m\u001b[0m\n\u001b[1;32m    363\u001b[0m             \u001b[0;32mif\u001b[0m \u001b[0misinstance\u001b[0m\u001b[0;34m(\u001b[0m\u001b[0mdata\u001b[0m\u001b[0;34m,\u001b[0m \u001b[0mtypes\u001b[0m\u001b[0;34m.\u001b[0m\u001b[0mGeneratorType\u001b[0m\u001b[0;34m)\u001b[0m\u001b[0;34m:\u001b[0m\u001b[0;34m\u001b[0m\u001b[0m\n",
      "\u001b[0;32m~/anaconda3/lib/python3.6/site-packages/pandas/core/frame.py\u001b[0m in \u001b[0;36m_init_ndarray\u001b[0;34m(self, values, index, columns, dtype, copy)\u001b[0m\n\u001b[1;32m    531\u001b[0m             \u001b[0mvalues\u001b[0m \u001b[0;34m=\u001b[0m \u001b[0mmaybe_infer_to_datetimelike\u001b[0m\u001b[0;34m(\u001b[0m\u001b[0mvalues\u001b[0m\u001b[0;34m)\u001b[0m\u001b[0;34m\u001b[0m\u001b[0m\n\u001b[1;32m    532\u001b[0m \u001b[0;34m\u001b[0m\u001b[0m\n\u001b[0;32m--> 533\u001b[0;31m         \u001b[0;32mreturn\u001b[0m \u001b[0mcreate_block_manager_from_blocks\u001b[0m\u001b[0;34m(\u001b[0m\u001b[0;34m[\u001b[0m\u001b[0mvalues\u001b[0m\u001b[0;34m]\u001b[0m\u001b[0;34m,\u001b[0m \u001b[0;34m[\u001b[0m\u001b[0mcolumns\u001b[0m\u001b[0;34m,\u001b[0m \u001b[0mindex\u001b[0m\u001b[0;34m]\u001b[0m\u001b[0;34m)\u001b[0m\u001b[0;34m\u001b[0m\u001b[0m\n\u001b[0m\u001b[1;32m    534\u001b[0m \u001b[0;34m\u001b[0m\u001b[0m\n\u001b[1;32m    535\u001b[0m     \u001b[0;34m@\u001b[0m\u001b[0mproperty\u001b[0m\u001b[0;34m\u001b[0m\u001b[0m\n",
      "\u001b[0;32m~/anaconda3/lib/python3.6/site-packages/pandas/core/internals.py\u001b[0m in \u001b[0;36mcreate_block_manager_from_blocks\u001b[0;34m(blocks, axes)\u001b[0m\n\u001b[1;32m   4629\u001b[0m         \u001b[0mblocks\u001b[0m \u001b[0;34m=\u001b[0m \u001b[0;34m[\u001b[0m\u001b[0mgetattr\u001b[0m\u001b[0;34m(\u001b[0m\u001b[0mb\u001b[0m\u001b[0;34m,\u001b[0m \u001b[0;34m'values'\u001b[0m\u001b[0;34m,\u001b[0m \u001b[0mb\u001b[0m\u001b[0;34m)\u001b[0m \u001b[0;32mfor\u001b[0m \u001b[0mb\u001b[0m \u001b[0;32min\u001b[0m \u001b[0mblocks\u001b[0m\u001b[0;34m]\u001b[0m\u001b[0;34m\u001b[0m\u001b[0m\n\u001b[1;32m   4630\u001b[0m         \u001b[0mtot_items\u001b[0m \u001b[0;34m=\u001b[0m \u001b[0msum\u001b[0m\u001b[0;34m(\u001b[0m\u001b[0mb\u001b[0m\u001b[0;34m.\u001b[0m\u001b[0mshape\u001b[0m\u001b[0;34m[\u001b[0m\u001b[0;36m0\u001b[0m\u001b[0;34m]\u001b[0m \u001b[0;32mfor\u001b[0m \u001b[0mb\u001b[0m \u001b[0;32min\u001b[0m \u001b[0mblocks\u001b[0m\u001b[0;34m)\u001b[0m\u001b[0;34m\u001b[0m\u001b[0m\n\u001b[0;32m-> 4631\u001b[0;31m         \u001b[0mconstruction_error\u001b[0m\u001b[0;34m(\u001b[0m\u001b[0mtot_items\u001b[0m\u001b[0;34m,\u001b[0m \u001b[0mblocks\u001b[0m\u001b[0;34m[\u001b[0m\u001b[0;36m0\u001b[0m\u001b[0;34m]\u001b[0m\u001b[0;34m.\u001b[0m\u001b[0mshape\u001b[0m\u001b[0;34m[\u001b[0m\u001b[0;36m1\u001b[0m\u001b[0;34m:\u001b[0m\u001b[0;34m]\u001b[0m\u001b[0;34m,\u001b[0m \u001b[0maxes\u001b[0m\u001b[0;34m,\u001b[0m \u001b[0me\u001b[0m\u001b[0;34m)\u001b[0m\u001b[0;34m\u001b[0m\u001b[0m\n\u001b[0m\u001b[1;32m   4632\u001b[0m \u001b[0;34m\u001b[0m\u001b[0m\n\u001b[1;32m   4633\u001b[0m \u001b[0;34m\u001b[0m\u001b[0m\n",
      "\u001b[0;32m~/anaconda3/lib/python3.6/site-packages/pandas/core/internals.py\u001b[0m in \u001b[0;36mconstruction_error\u001b[0;34m(tot_items, block_shape, axes, e)\u001b[0m\n\u001b[1;32m   4606\u001b[0m         \u001b[0;32mraise\u001b[0m \u001b[0mValueError\u001b[0m\u001b[0;34m(\u001b[0m\u001b[0;34m\"Empty data passed with indices specified.\"\u001b[0m\u001b[0;34m)\u001b[0m\u001b[0;34m\u001b[0m\u001b[0m\n\u001b[1;32m   4607\u001b[0m     raise ValueError(\"Shape of passed values is {0}, indices imply {1}\".format(\n\u001b[0;32m-> 4608\u001b[0;31m         passed, implied))\n\u001b[0m\u001b[1;32m   4609\u001b[0m \u001b[0;34m\u001b[0m\u001b[0m\n\u001b[1;32m   4610\u001b[0m \u001b[0;34m\u001b[0m\u001b[0m\n",
      "\u001b[0;31mValueError\u001b[0m: Shape of passed values is (33092, 33092), indices imply (1, 33092)"
     ]
    }
   ],
   "source": [
    "np.mean((predictions - y_test)**2)"
   ]
  },
  {
   "cell_type": "code",
   "execution_count": null,
   "metadata": {},
   "outputs": [],
   "source": []
  }
 ],
 "metadata": {
  "kernelspec": {
   "display_name": "Python 3",
   "language": "python",
   "name": "python3"
  },
  "language_info": {
   "codemirror_mode": {
    "name": "ipython",
    "version": 3
   },
   "file_extension": ".py",
   "mimetype": "text/x-python",
   "name": "python",
   "nbconvert_exporter": "python",
   "pygments_lexer": "ipython3",
   "version": "3.6.4"
  }
 },
 "nbformat": 4,
 "nbformat_minor": 2
}
